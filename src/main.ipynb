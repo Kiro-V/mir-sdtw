{
 "cells": [
  {
   "cell_type": "markdown",
   "id": "ed76ff32",
   "metadata": {},
   "source": []
  },
  {
   "cell_type": "markdown",
   "id": "8e4bd0ef",
   "metadata": {},
   "source": [
    "# SDTW on Trainging with Unaligned Dataset\n",
    "# Setting up Environment\n",
    "\n",
    "```\n",
    "$ python -m venv sdtw\n",
    "$ source sdtw/bin/activate # for linux\n",
    "$ ./sdtw/Scripts/activate # for windows\n",
    "$ python.exe -m pip install --upgrade pip # upgrade pip\n",
    "$ pip install -r requirements.txt\n",
    "```"
   ]
  },
  {
   "cell_type": "code",
   "execution_count": null,
   "id": "67cfec6f",
   "metadata": {},
   "outputs": [],
   "source": [
    "import numpy as np\n",
    "import matplotlib.pyplot as plt\n",
    "import soundfile as sf\n",
    "import IPython.core.display as ipd\n",
    "import pandas as pd\n",
    "import os\n",
    "\n",
    "from lib.nn_losses.soft_dtw import SoftDTW"
   ]
  },
  {
   "cell_type": "code",
   "execution_count": null,
   "id": "5266c611",
   "metadata": {},
   "outputs": [],
   "source": []
  }
 ],
 "metadata": {
  "kernelspec": {
   "display_name": "sdtw",
   "language": "python",
   "name": "python3"
  },
  "language_info": {
   "name": "python",
   "version": "3.12.3"
  }
 },
 "nbformat": 4,
 "nbformat_minor": 5
}
