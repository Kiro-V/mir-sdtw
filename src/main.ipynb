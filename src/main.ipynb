{
 "cells": [
  {
   "cell_type": "markdown",
   "id": "8e4bd0ef",
   "metadata": {},
   "source": [
    "# SDTW on Trainging with Unaligned Dataset\n",
    "# Setting up Environment\n",
    "\n",
    "```\n",
    "$ python -m venv sdtw\n",
    "$ source sdtw/bin/activate # for linux\n",
    "$ ./sdtw/Scripts/activate # for windows\n",
    "$ python.exe -m pip install --upgrade pip # upgrade pip\n",
    "$ pip install -r requirements.txt\n",
    "```"
   ]
  },
  {
   "cell_type": "code",
   "execution_count": 1,
   "id": "67cfec6f",
   "metadata": {},
   "outputs": [],
   "source": [
    "import numpy as np\n",
    "import matplotlib.pyplot as plt\n",
    "import soundfile as sf\n",
    "import IPython.core.display as ipd\n",
    "import pandas as pd\n",
    "import os\n",
    "\n",
    "from lib.nn_losses.soft_dtw_cuda import SoftDTW\n",
    "from lib.nn_models.nn_dchord import dchord_pipeline\n"
   ]
  },
  {
   "cell_type": "code",
   "execution_count": 2,
   "id": "5266c611",
   "metadata": {},
   "outputs": [],
   "source": [
    "# Pipeline config\n",
    "\n",
    "compression_params = {'gamma_init': 1.0,\n",
    "                      'trainable': True}\n",
    "\n",
    "temp_smooth_params = {'smoothing_type': 'weighted_sum', \n",
    "                      'avg_length': 51, \n",
    "                      'weight_init': 'uniform'}\n",
    "\n",
    "# temp_smooth_params = {'smoothing_type': 'Gaussian', \n",
    "#                       'avg_length': 51, \n",
    "#                       'sigma_init': 50}\n",
    "\n",
    "feature_norm_params = {'num_features': 12,\n",
    "                       'norm': '2', \n",
    "                       'threshold': 1e-4}\n",
    "\n",
    "chord_template_params = {'shared_weights': True, \n",
    "                         'initialize_parameters': True, \n",
    "                         'normalize_weights': False}\n",
    "\n",
    "softmax_params = {'tau': 1, \n",
    "                  'trainable': False}"
   ]
  },
  {
   "cell_type": "code",
   "execution_count": 3,
   "id": "26151b0e",
   "metadata": {},
   "outputs": [],
   "source": [
    "model = dchord_pipeline(compression_params=compression_params, temp_smooth_params=temp_smooth_params,\n",
    "                        feature_norm_params=feature_norm_params, chord_template_params=chord_template_params,\n",
    "                        softmax_params=softmax_params)"
   ]
  },
  {
   "cell_type": "code",
   "execution_count": 6,
   "id": "59516fb4",
   "metadata": {},
   "outputs": [
    {
     "data": {
      "text/plain": [
       "========================================================================================================================\n",
       "Layer (type:depth-idx)                   Input Shape          Output Shape         Param #              Trainable\n",
       "========================================================================================================================\n",
       "dchord_pipeline                          [1, 1, 51, 12]       [1, 1, 1, 24]        --                   Partial\n",
       "├─log_compression: 1-1                   [1, 1, 51, 12]       [1, 1, 51, 12]       1                    True\n",
       "├─temporal_smoothing: 1-2                [1, 1, 51, 12]       [1, 1, 1, 12]        --                   True\n",
       "│    └─Conv2d: 2-1                       [1, 1, 51, 12]       [1, 1, 1, 12]        51                   True\n",
       "├─feature_normalization: 1-3             [1, 1, 1, 12]        [1, 1, 1, 12]        --                   --\n",
       "├─dchord_templates: 1-4                  [1, 1, 1, 12]        [1, 1, 1, 24]        --                   True\n",
       "│    └─Conv2d: 2-2                       [1, 1, 1, 23]        [1, 2, 1, 12]        24                   True\n",
       "├─softmax_temperature: 1-5               [1, 1, 1, 24]        [1, 1, 1, 24]        (1)                  False\n",
       "========================================================================================================================\n",
       "Total params: 77\n",
       "Trainable params: 76\n",
       "Non-trainable params: 1\n",
       "Total mult-adds (Units.MEGABYTES): 0.00\n",
       "========================================================================================================================\n",
       "Input size (MB): 0.00\n",
       "Forward/backward pass size (MB): 0.01\n",
       "Params size (MB): 0.00\n",
       "Estimated Total Size (MB): 0.01\n",
       "========================================================================================================================"
      ]
     },
     "execution_count": 6,
     "metadata": {},
     "output_type": "execute_result"
    }
   ],
   "source": [
    "import torchinfo\n",
    "\n",
    "torchinfo.summary(model, input_size=(1, 1, temp_smooth_params['avg_length'], 12), col_names=[\"input_size\", \"output_size\", \"num_params\", \"trainable\"], col_width=20)"
   ]
  },
  {
   "cell_type": "code",
   "execution_count": 13,
   "id": "cf9c8262",
   "metadata": {},
   "outputs": [],
   "source": [
    "normalize = False\n",
    "sharp = False\n",
    "sharp_weight_by_avg_alignment_sum = False\n",
    "\n",
    "\n",
    "criterion = SoftDTW(use_cuda=False, gamma=1.0, dist_func=None, normalize=normalize)"
   ]
  }
 ],
 "metadata": {
  "kernelspec": {
   "display_name": "sdtw",
   "language": "python",
   "name": "python3"
  },
  "language_info": {
   "codemirror_mode": {
    "name": "ipython",
    "version": 3
   },
   "file_extension": ".py",
   "mimetype": "text/x-python",
   "name": "python",
   "nbconvert_exporter": "python",
   "pygments_lexer": "ipython3",
   "version": "3.12.3"
  }
 },
 "nbformat": 4,
 "nbformat_minor": 5
}
