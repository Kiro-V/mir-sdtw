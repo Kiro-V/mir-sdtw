{
 "cells": [
  {
   "cell_type": "markdown",
   "id": "8e4bd0ef",
   "metadata": {},
   "source": [
    "# SDTW on Trainging with Unaligned Dataset\n",
    "# Setting up Environment\n",
    "\n",
    "```\n",
    "$ python -m venv sdtw\n",
    "$ source sdtw/bin/activate # for linux\n",
    "$ ./sdtw/Scripts/activate # for windows\n",
    "$ python.exe -m pip install --upgrade pip # upgrade pip\n",
    "$ pip install -r requirements.txt\n",
    "```"
   ]
  },
  {
   "cell_type": "code",
   "execution_count": 2,
   "id": "67cfec6f",
   "metadata": {},
   "outputs": [],
   "source": [
    "import numpy as np\n",
    "import matplotlib.pyplot as plt\n",
    "import soundfile as sf\n",
    "import IPython.core.display as ipd\n",
    "import pandas as pd\n",
    "import os\n",
    "import torch\n",
    "import libfmp.c5\n",
    "\n",
    "from lib.nn_losses.soft_dtw_cuda import SoftDTW\n",
    "from lib.nn_models.nn_dchord import dchord_pipeline\n",
    "# from lib.helpers.soft_align import soft_align\n"
   ]
  },
  {
   "cell_type": "markdown",
   "id": "23cb6d90",
   "metadata": {},
   "source": [
    "# Initalize dChord Network"
   ]
  },
  {
   "cell_type": "code",
   "execution_count": 3,
   "id": "5266c611",
   "metadata": {},
   "outputs": [],
   "source": [
    "# Pipeline config\n",
    "\n",
    "compression_params = {'gamma_init': 1.0,\n",
    "                      'trainable': True}\n",
    "\n",
    "feature_norm_params = {'num_features': 12,\n",
    "                       'norm': '2', \n",
    "                       'threshold': 1e-4}\n",
    "\n",
    "chord_template_params = {'shared_weights': True, \n",
    "                         'initialize_parameters': True, \n",
    "                         'normalize_weights': False}\n",
    "\n",
    "softmax_params = {'tau': 1, \n",
    "                  'trainable': False}"
   ]
  },
  {
   "cell_type": "code",
   "execution_count": 4,
   "id": "26151b0e",
   "metadata": {},
   "outputs": [],
   "source": [
    "model = dchord_pipeline(compression_params=compression_params, \n",
    "                        feature_norm_params=feature_norm_params, chord_template_params=chord_template_params,\n",
    "                        softmax_params=softmax_params)"
   ]
  },
  {
   "cell_type": "code",
   "execution_count": 594,
   "id": "59516fb4",
   "metadata": {},
   "outputs": [
    {
     "data": {
      "text/plain": [
       "========================================================================================================================\n",
       "Layer (type:depth-idx)                   Input Shape          Output Shape         Param #              Trainable\n",
       "========================================================================================================================\n",
       "dchord_pipeline                          [1, 1, 40, 12]       [1, 1, 40, 24]       --                   Partial\n",
       "├─log_compression: 1-1                   [1, 1, 40, 12]       [1, 1, 40, 12]       1                    True\n",
       "├─feature_normalization: 1-2             [1, 1, 40, 12]       [1, 1, 40, 12]       --                   --\n",
       "├─dchord_templates: 1-3                  [1, 1, 40, 12]       [1, 1, 40, 24]       --                   True\n",
       "│    └─Conv2d: 2-1                       [1, 1, 40, 23]       [1, 2, 40, 12]       24                   True\n",
       "├─softmax_temperature: 1-4               [1, 1, 40, 24]       [1, 1, 40, 24]       (1)                  False\n",
       "========================================================================================================================\n",
       "Total params: 26\n",
       "Trainable params: 25\n",
       "Non-trainable params: 1\n",
       "Total mult-adds (Units.MEGABYTES): 0.01\n",
       "========================================================================================================================\n",
       "Input size (MB): 0.00\n",
       "Forward/backward pass size (MB): 0.02\n",
       "Params size (MB): 0.00\n",
       "Estimated Total Size (MB): 0.02\n",
       "========================================================================================================================"
      ]
     },
     "execution_count": 594,
     "metadata": {},
     "output_type": "execute_result"
    }
   ],
   "source": [
    "import torchinfo\n",
    "\n",
    "torchinfo.summary(model, input_size=(1, 1, 40, 12), col_names=[\"input_size\", \"output_size\", \"num_params\", \"trainable\"], col_width=20)"
   ]
  },
  {
   "cell_type": "markdown",
   "id": "1337d1b4",
   "metadata": {},
   "source": [
    "# Preparing Data for Training"
   ]
  },
  {
   "cell_type": "code",
   "execution_count": 595,
   "id": "491d789f",
   "metadata": {},
   "outputs": [],
   "source": [
    "nonchord = False\n",
    "data_basedir = './res/data'"
   ]
  },
  {
   "cell_type": "code",
   "execution_count": 596,
   "id": "d6042944",
   "metadata": {},
   "outputs": [],
   "source": [
    "song_dict = {}\n",
    "\n",
    "song_dict[0] = ['LetItB', 'r',\n",
    "                os.path.join(data_basedir, 'FMP_C5_F01_Beatles_LetItBe-mm1-4_Original.wav'),\n",
    "                os.path.join(data_basedir, 'FMP_C5_F01_Beatles_LetItBe-mm1-4_Original_Chords_simplified.csv')]\n",
    "song_dict[1] = ['HereCo', 'b',\n",
    "                os.path.join(data_basedir, 'FMP_C5_Audio_Beatles_HereComesTheSun_Beatles_1969-AbbeyRoad-07.wav'),\n",
    "                os.path.join(data_basedir, 'FMP_C5_Audio_Beatles_HereComesTheSun_Beatles_1969-AbbeyRoad-07_Chords_simplified.csv')]\n",
    "song_dict[2] = ['ObLaDi', 'c',\n",
    "                os.path.join(data_basedir, 'FMP_C5_Audio_Beatles_ObLaDiObLaDa_Beatles_1968-TheBeatlesTheWhiteAlbumDisc1-04.wav'),\n",
    "                os.path.join(data_basedir, 'FMP_C5_Audio_Beatles_ObLaDiObLaDa_Beatles_1968-TheBeatlesTheWhiteAlbumDisc1-04_Chords_simplified.csv')]\n",
    "song_dict[3] = ['PennyL', 'g',\n",
    "                os.path.join(data_basedir, 'FMP_C5_Audio_Beatles_PennyLane_Beatles_1967-MagicalMysteryTour-09.wav'),\n",
    "                os.path.join(data_basedir, 'FMP_C5_Audio_Beatles_PennyLane_Beatles_1967-MagicalMysteryTour-09_Chords_simplified.csv')]"
   ]
  },
  {
   "cell_type": "code",
   "execution_count": 597,
   "id": "febd6180",
   "metadata": {},
   "outputs": [
    {
     "name": "stdout",
     "output_type": "stream",
     "text": [
      "===== Computation of STFT-based chromagrams =====\n",
      "Processing:  LetItB\n",
      "Processing:  HereCo\n",
      "Processing:  ObLaDi\n",
      "Processing:  PennyL\n"
     ]
    }
   ],
   "source": [
    "def compute_X_dict(song_selected, version='STFT', details=True, nonchord=False):\n",
    "    X_dict = {}\n",
    "    Fs_X_dict = {}\n",
    "    ann_dict = {}\n",
    "    x_dur_dict = {}\n",
    "    chord_labels = libfmp.c5.get_chord_labels(ext_minor='m', nonchord=nonchord)\n",
    "    for s in song_selected:\n",
    "        if details is True:\n",
    "            print('Processing: ', song_dict[s][0])\n",
    "        fn_wav = song_dict[s][2]\n",
    "        fn_ann = song_dict[s][3]\n",
    "#         N = 2048\n",
    "#         H = 1024\n",
    "        N = 4096\n",
    "        H = 2048\n",
    "        if version == 'STFT':\n",
    "            X, Fs_X, x, Fs, x_dur = \\\n",
    "                libfmp.c5.compute_chromagram_from_filename(fn_wav, N=N, H=H, gamma=0.1, version='STFT')            # no log compression\n",
    "        if version == 'CQT':\n",
    "            X, Fs_X, x, Fs, x_dur = \\\n",
    "                libfmp.c5.compute_chromagram_from_filename(fn_wav, H=H, version='CQT')                  # no log compression\n",
    "        if version == 'IIR':\n",
    "            X, Fs_X, x, Fs, x_dur = \\\n",
    "                libfmp.c5.compute_chromagram_from_filename(fn_wav, N=N, H=H, gamma=10, version='IIR')             # no log compression\n",
    "            \n",
    "        X_dict[s] = X\n",
    "        Fs_X_dict[s] = Fs_X\n",
    "        x_dur_dict[s] = x_dur\n",
    "        N_X = X.shape[1]\n",
    "        ann_dict[s] = libfmp.c5.convert_chord_ann_matrix(fn_ann, chord_labels, Fs=Fs_X, N=N_X, last=False)\n",
    "    return X_dict, Fs_X_dict, ann_dict, x_dur_dict, chord_labels\n",
    "    \n",
    "song_selected = [0, 1, 2, 3]\n",
    "#song_selected = [0]\n",
    "print('===== Computation of STFT-based chromagrams =====')\n",
    "X_dict_STFT, Fs_X_dict_STFT, ann_dict_STFT, x_dur_dict, chord_labels = compute_X_dict(song_selected, version='STFT', nonchord=nonchord)"
   ]
  },
  {
   "cell_type": "markdown",
   "id": "b493e8d1",
   "metadata": {},
   "source": [
    "## Create Dataset + Dataloader"
   ]
  },
  {
   "cell_type": "code",
   "execution_count": 598,
   "id": "09630557",
   "metadata": {},
   "outputs": [],
   "source": [
    "class dataset(torch.utils.data.Dataset):\n",
    "    def __init__(self, inputs, targets, target_length, dataset_params):\n",
    "        self.inputs = inputs                                # Channels x Time x Chromas\n",
    "        self.targets = targets                              # Time x Chords\n",
    "        # self.target_length = target_length                  # Length of each target sequence\n",
    "        self.dataset_params = dataset_params                # Parameters for the dataset (e.g., context, stride)\n",
    "    def __len__(self):\n",
    "        return self.inputs.size()[0]\n",
    "    \n",
    "    def __getitem__(self, idx):\n",
    "        X = self.inputs.type(torch.FloatTensor)\n",
    "        y = self.targets.type(torch.FloatTensor)\n",
    "        # y_length = self.target_length.type(torch.FloatTensor)\n",
    "        return X, y"
   ]
  },
  {
   "cell_type": "code",
   "execution_count": 599,
   "id": "22607895",
   "metadata": {},
   "outputs": [],
   "source": [
    "def colldate_fn(batch):\n",
    "    inputs = torch.stack([item[0] for item in batch], dim=0)  # Stack inputs along a new dimension\n",
    "    # target_length = torch.stack([item[2] for item in batch], dim=0)  # Stack target lengths along a new dimension\n",
    "    targets = torch.cat([item[1] for item in batch], dim=0)  # Stack targets along a new dimension\n",
    "    return inputs, targets"
   ]
  },
  {
   "cell_type": "code",
   "execution_count": 600,
   "id": "0818baef",
   "metadata": {},
   "outputs": [],
   "source": [
    "# Not used, kept for reference\n",
    "class dataset_context(torch.utils.data.Dataset):\n",
    "    def __init__(self, inputs, targets, params):\n",
    "        self.inputs = inputs                                # Channels x Time x Chromas\n",
    "        self.targets = targets                              # Time x Chords\n",
    "        self.context = params['context']\n",
    "        self.stride = params['stride']\n",
    "        \n",
    "    def __len__(self):\n",
    "        return (self.inputs.size()[1] - self.context) // self.stride\n",
    "    \n",
    "    def __getitem__(self, index):\n",
    "        index *= self.stride\n",
    "        half_context = self.context // 2\n",
    "        index += half_context\n",
    "        X = self.inputs[:, (index - half_context):(index + half_context + 1), :].type(torch.FloatTensor)\n",
    "        y = torch.unsqueeze(torch.unsqueeze(self.targets[index, :], 0), 1).type(torch.FloatTensor)\n",
    "        return X, y"
   ]
  },
  {
   "cell_type": "code",
   "execution_count": 601,
   "id": "0d17f999",
   "metadata": {},
   "outputs": [],
   "source": [
    "def create_dataset(data_dict, ann_dict, song_dict, song_indices, dataset_params, dataset_description='train', mode='soft', type='sdtw'):\n",
    "    all_datasets = []\n",
    "    segment_length = dataset_params['segment_length']\n",
    "\n",
    "    assert mode in ['full', 'soft'], \"Mode must be either 'full' or 'soft' for dataset creation.\"\n",
    "    assert type in ['sdtw', 'ctc'], \"Type must be either 'sdtw' or 'ctc' for dataset creation.\"\n",
    "\n",
    "    # Extract voiced frame annotations\n",
    "    for s in song_indices:\n",
    "        targets = ann_dict[s][0]\n",
    "        voiced_frames = np.any(targets !=0, axis=0)\n",
    "        # print(voiced_frames.shape)\n",
    "        if voiced_frames.sum() == 0:\n",
    "            print(f'Warning: No voiced frames found for song {song_dict[s][0]}. Skipping this song.')\n",
    "            continue\n",
    "    \n",
    "        s_idx = np.argmax(voiced_frames)\n",
    "        e_idx = len(voiced_frames) - np.argmax(voiced_frames[::-1])\n",
    "        targets_trimmed = targets[:, s_idx:e_idx]\n",
    "        \n",
    "        if type == 'ctc':\n",
    "            # CTC get a sequence of chord labels\n",
    "            label_seq = np.argmax(targets_trimmed, axis=0)\n",
    "        elif type == 'sdtw':\n",
    "            # SDTW get a matrix of one-hot encoded chord labels\n",
    "            label_seq = targets_trimmed # 24 x 1973\n",
    "        \n",
    "        else:\n",
    "            raise ValueError(\"Type must be either 'sdtw' or 'ctc'.\")\n",
    "\n",
    "        inputs = data_dict[s].T\n",
    "        inputs_trimmed = inputs[s_idx:e_idx, :]\n",
    "        T_total = inputs_trimmed.shape[0]\n",
    "        num_segments = T_total // segment_length\n",
    "\n",
    "        for i in range(num_segments):\n",
    "            start_idx = i * segment_length\n",
    "            end_idx = start_idx + segment_length\n",
    "            \n",
    "            if end_idx > T_total:\n",
    "                break\n",
    "            input_seg = inputs_trimmed[start_idx:end_idx, :]\n",
    "            label_seg = label_seq[:, start_idx:end_idx]\n",
    "\n",
    "            if mode == 'soft':\n",
    "                target_seg = [ label_seg[:, 0] ]\n",
    "                for idx in range(1, label_seg.shape[1]):\n",
    "                    if not np.array_equal(label_seg[:, idx], label_seg[:, idx-1]):\n",
    "                        target_seg.append(label_seg[:, idx])\n",
    "\n",
    "                # Swap axes to match expected shape (1, Time, Chords)\n",
    "                target_seg = torch.unsqueeze(torch.tensor(target_seg, dtype=torch.float32), 0)\n",
    "                target_seg_len = torch.tensor([len(target_seg)], dtype=torch.int64)\n",
    "                inputs_tensor = torch.unsqueeze(torch.tensor(input_seg, dtype=torch.float32), 0)\n",
    "\n",
    "            elif mode == 'full':\n",
    "                # Swap axes to match expected shape (1, Time, Chords)\n",
    "                target_seg = torch.unsqueeze(torch.tensor(label_seg, dtype=torch.float32), 0)\n",
    "                target_seg_len = torch.tensor([len(target_seg)], dtype=torch.int64)\n",
    "                inputs_tensor = torch.unsqueeze(torch.tensor(input_seg, dtype=torch.float32), 0)\n",
    "\n",
    "            curr_dataset = dataset(inputs_tensor, target_seg, target_seg_len, dataset_params)\n",
    "            all_datasets.append(curr_dataset)\n",
    "\n",
    "        print(f'- {song_dict[s][0]} added to {dataset_description} set. Segments: {num_segments}')\n",
    "        \n",
    "    full_dataset = torch.utils.data.ConcatDataset(all_datasets)\n",
    "    print(f'Total segments created for {dataset_description} dataset: {len(full_dataset)}')\n",
    "    return full_dataset\n"
   ]
  },
  {
   "cell_type": "code",
   "execution_count": 602,
   "id": "5993348f",
   "metadata": {},
   "outputs": [
    {
     "name": "stdout",
     "output_type": "stream",
     "text": [
      "- HereCo added to train set. Segments: 9\n",
      "- ObLaDi added to train set. Segments: 10\n",
      "Total segments created for train dataset: 19\n",
      "\n",
      "\n",
      "- PennyL added to val set. Segments: 9\n",
      "Total segments created for val dataset: 9\n"
     ]
    }
   ],
   "source": [
    "train_set_indices = [1, 2]\n",
    "train_set_params = {'segment_length': 200}\n",
    "\n",
    "train_set = create_dataset(data_dict=X_dict_STFT, \n",
    "                           ann_dict=ann_dict_STFT, \n",
    "                           song_dict=song_dict, \n",
    "                           song_indices=train_set_indices, \n",
    "                           dataset_params=train_set_params, \n",
    "                           dataset_description='train',\n",
    "                           mode='soft')\n",
    "\n",
    "print('\\n')\n",
    "\n",
    "val_set_indices = [3]\n",
    "val_set_params = {'segment_length': 200}\n",
    "\n",
    "val_set = create_dataset(data_dict=X_dict_STFT, \n",
    "                         ann_dict=ann_dict_STFT, \n",
    "                         song_dict=song_dict, \n",
    "                         song_indices=val_set_indices, \n",
    "                         dataset_params=val_set_params, \n",
    "                         dataset_description='val',\n",
    "                         mode='soft')"
   ]
  },
  {
   "cell_type": "code",
   "execution_count": 603,
   "id": "96e809cc",
   "metadata": {},
   "outputs": [
    {
     "name": "stdout",
     "output_type": "stream",
     "text": [
      "Training data loader contains 19 mini batches.\n",
      "Validation data loader contains 9 mini batches.\n"
     ]
    }
   ],
   "source": [
    "train_loader_params = {'batch_size': 1, 'shuffle': True, 'num_workers': 0, 'collate_fn': colldate_fn}\n",
    "train_loader = torch.utils.data.DataLoader(train_set, **train_loader_params)\n",
    "print(f'Training data loader contains {len(train_loader)} mini batches.')\n",
    "\n",
    "val_loader_params = {'batch_size': 1, 'shuffle': False, 'num_workers': 0, 'collate_fn': colldate_fn}\n",
    "val_loader = torch.utils.data.DataLoader(val_set, **val_loader_params)\n",
    "print(f'Validation data loader contains {len(val_loader)} mini batches.')"
   ]
  },
  {
   "cell_type": "markdown",
   "id": "73cccb80",
   "metadata": {},
   "source": [
    "# Train Pipeline"
   ]
  },
  {
   "cell_type": "markdown",
   "id": "e8475e09",
   "metadata": {},
   "source": [
    "## Specify which parameters to optimize"
   ]
  },
  {
   "cell_type": "code",
   "execution_count": 604,
   "id": "b73a50b3",
   "metadata": {},
   "outputs": [
    {
     "name": "stdout",
     "output_type": "stream",
     "text": [
      "Trainable parameters:\n",
      "\n",
      "'log_compression.log_gamma'\n",
      "'chord_template_params.filter.weight'\n"
     ]
    }
   ],
   "source": [
    "print('Trainable parameters:\\n')\n",
    "\n",
    "trainable_parameters = []\n",
    "for name, param in model.named_parameters():\n",
    "    if param.requires_grad:\n",
    "        trainable_parameters.append(name)\n",
    "        print(f\"'{name}'\") "
   ]
  },
  {
   "cell_type": "markdown",
   "id": "ac57e9e8",
   "metadata": {},
   "source": [
    "Optimization mode $\\in \\{0, 1, 2 \\}$:  \n",
    "- 0: optimize all trainable parameters \n",
    "- 1: optimize **all** trainable parameters **except** the ones specified in `frozen_parameters`\n",
    "- 2: optimize **only** the parameters specified in `trained_parameters`\n",
    "\n",
    "(`frozen_parameters` and `trained_parameters` must be lists of strings and a subset of the trainable parameters shown above)\n",
    "\n",
    "For no optimization at all: set training epochs to zero."
   ]
  },
  {
   "cell_type": "code",
   "execution_count": 605,
   "id": "7f42e473",
   "metadata": {},
   "outputs": [],
   "source": [
    "optimization_mode = 0\n",
    "\n",
    "if optimization_mode == 1:\n",
    "    frozen_parameters = []           \n",
    "\n",
    "if optimization_mode == 2:\n",
    "    trained_parameters = []"
   ]
  },
  {
   "cell_type": "code",
   "execution_count": 606,
   "id": "e86770d1",
   "metadata": {},
   "outputs": [],
   "source": [
    "if optimization_mode == 0:\n",
    "    parameters_to_optimize = model.parameters()\n",
    "    \n",
    "elif optimization_mode == 1:\n",
    "    parameters_to_optimize = []\n",
    "\n",
    "    for name, param in model.named_parameters():\n",
    "        if not name in frozen_parameters:\n",
    "            parameters_to_optimize.append(param)\n",
    "            \n",
    "elif optimization_mode == 2:\n",
    "    parameters_to_optimize = []\n",
    "\n",
    "    for name, param in model.named_parameters():\n",
    "        if name in trained_parameters:\n",
    "            parameters_to_optimize.append(param)"
   ]
  },
  {
   "cell_type": "markdown",
   "id": "2b272ae7",
   "metadata": {},
   "source": [
    "### Set Optimizer, Training Parameters and Loss"
   ]
  },
  {
   "cell_type": "code",
   "execution_count": 607,
   "id": "feb78770",
   "metadata": {},
   "outputs": [],
   "source": [
    "optim_params = {'lr': 0.1, 'betas': (0.9, 0.999)}\n",
    "optimizer = torch.optim.Adam(parameters_to_optimize, **optim_params)"
   ]
  },
  {
   "cell_type": "code",
   "execution_count": 608,
   "id": "2e8b3993",
   "metadata": {},
   "outputs": [],
   "source": [
    "training_params = {'device': 'cpu', 'max_epochs': 100}\n",
    "# training_params = {'device': 'cuda:0', 'max_epochs': 25}\n",
    "\n",
    "# weights for fighting class imbalance major / minor in training dataset\n",
    "weight = torch.cat((torch.ones(12), torch.ones(12)))           \n",
    "# weight = torch.cat((torch.ones(12), 19*torch.ones(12)))\n",
    "\n",
    "crit = torch.nn.NLLLoss(weight=weight, reduction='mean').to(training_params['device'])  # Categorical CE without log"
   ]
  },
  {
   "cell_type": "code",
   "execution_count": 609,
   "id": "d5ed4f25",
   "metadata": {},
   "outputs": [],
   "source": [
    "normalize = False\n",
    "sharp = False\n",
    "sharp_weight_by_avg_alignment_sum = False\n",
    "\n",
    "\n",
    "crit = SoftDTW(use_cuda=False, gamma=0.1, dist_func=None, normalize=normalize)"
   ]
  },
  {
   "cell_type": "markdown",
   "id": "3100bb07",
   "metadata": {},
   "source": [
    "### Network Training - Strongly Aligned Dataset\n",
    "\n",
    "Train the model. After each training epoch (one iteration over the train dataloader), evaluate performanceon the validation set. We use a variable `best_model` that contains the current best model (the model with the overall lowest validation loss). At the end of the training, the `best_model` ist used for evaluation."
   ]
  },
  {
   "cell_type": "code",
   "execution_count": 610,
   "id": "099115cd",
   "metadata": {},
   "outputs": [
    {
     "name": "stdout",
     "output_type": "stream",
     "text": [
      "Finished epoch 0. Train Loss: 96.2412, Val Loss: 117.9003\n",
      "    ...saved model\n",
      "Finished epoch 1. Train Loss: 96.0162, Val Loss: 118.4256\n",
      "Finished epoch 2. Train Loss: 95.9667, Val Loss: 118.5339\n",
      "Finished epoch 3. Train Loss: 96.0444, Val Loss: 118.9733\n",
      "Finished epoch 4. Train Loss: 96.0065, Val Loss: 118.4678\n",
      "Finished epoch 5. Train Loss: 96.1354, Val Loss: 119.3507\n",
      "Finished epoch 6. Train Loss: 95.9668, Val Loss: 118.8625\n",
      "Finished epoch 7. Train Loss: 96.1055, Val Loss: 118.8265\n",
      "Finished epoch 8. Train Loss: 95.9938, Val Loss: 119.0425\n",
      "Finished epoch 9. Train Loss: 95.9788, Val Loss: 118.9162\n",
      "Finished epoch 10. Train Loss: 96.0927, Val Loss: 118.7569\n",
      "Finished epoch 11. Train Loss: 95.9040, Val Loss: 118.6533\n",
      "Finished epoch 12. Train Loss: 96.3427, Val Loss: 118.5299\n",
      "Finished epoch 13. Train Loss: 96.1849, Val Loss: 119.0656\n",
      "Finished epoch 14. Train Loss: 95.9537, Val Loss: 118.7534\n",
      "Finished epoch 15. Train Loss: 96.0508, Val Loss: 119.2240\n",
      "Finished epoch 16. Train Loss: 96.0105, Val Loss: 119.0070\n",
      "Finished epoch 17. Train Loss: 96.0162, Val Loss: 119.0692\n",
      "Finished epoch 18. Train Loss: 95.9262, Val Loss: 119.0608\n",
      "Finished epoch 19. Train Loss: 95.9009, Val Loss: 119.1898\n",
      "Finished epoch 20. Train Loss: 96.0265, Val Loss: 118.8078\n",
      "Finished epoch 21. Train Loss: 95.9495, Val Loss: 119.6964\n",
      "Finished epoch 22. Train Loss: 96.1807, Val Loss: 118.6432\n",
      "Finished epoch 23. Train Loss: 96.0026, Val Loss: 119.3110\n",
      "Finished epoch 24. Train Loss: 95.9617, Val Loss: 118.9019\n",
      "Finished epoch 25. Train Loss: 95.9843, Val Loss: 119.0826\n",
      "Finished epoch 26. Train Loss: 95.9277, Val Loss: 118.4766\n",
      "Finished epoch 27. Train Loss: 96.0608, Val Loss: 119.0499\n",
      "Finished epoch 28. Train Loss: 95.9693, Val Loss: 118.9826\n",
      "Finished epoch 29. Train Loss: 96.0585, Val Loss: 118.8254\n",
      "Finished epoch 30. Train Loss: 96.0021, Val Loss: 119.3190\n",
      "Finished epoch 31. Train Loss: 95.9866, Val Loss: 118.7231\n",
      "Finished epoch 32. Train Loss: 95.9139, Val Loss: 119.0459\n",
      "Finished epoch 33. Train Loss: 96.1915, Val Loss: 118.7927\n",
      "Finished epoch 34. Train Loss: 95.9143, Val Loss: 119.0728\n",
      "Finished epoch 35. Train Loss: 96.0417, Val Loss: 118.8137\n",
      "Finished epoch 36. Train Loss: 96.0161, Val Loss: 118.8542\n",
      "Finished epoch 37. Train Loss: 96.0208, Val Loss: 118.8226\n",
      "Finished epoch 38. Train Loss: 96.1599, Val Loss: 119.0773\n",
      "Finished epoch 39. Train Loss: 96.1581, Val Loss: 119.2904\n",
      "Finished epoch 40. Train Loss: 96.0789, Val Loss: 118.6281\n",
      "Finished epoch 41. Train Loss: 96.6363, Val Loss: 119.2513\n",
      "Finished epoch 42. Train Loss: 96.4452, Val Loss: 119.3028\n",
      "Finished epoch 43. Train Loss: 96.2125, Val Loss: 118.6621\n",
      "Finished epoch 44. Train Loss: 95.8981, Val Loss: 119.3916\n",
      "Finished epoch 45. Train Loss: 95.9077, Val Loss: 118.6408\n",
      "Finished epoch 46. Train Loss: 95.8764, Val Loss: 118.9871\n",
      "Finished epoch 47. Train Loss: 95.9604, Val Loss: 118.4684\n",
      "Finished epoch 48. Train Loss: 95.8119, Val Loss: 119.2482\n",
      "Finished epoch 49. Train Loss: 96.0450, Val Loss: 118.9088\n",
      "Finished epoch 50. Train Loss: 96.0172, Val Loss: 119.7338\n",
      "Finished epoch 51. Train Loss: 96.2430, Val Loss: 118.7282\n",
      "Finished epoch 52. Train Loss: 96.0928, Val Loss: 118.7760\n",
      "Finished epoch 53. Train Loss: 95.9096, Val Loss: 118.8518\n",
      "Finished epoch 54. Train Loss: 95.8680, Val Loss: 118.7500\n",
      "Finished epoch 55. Train Loss: 95.9205, Val Loss: 119.1851\n",
      "Finished epoch 56. Train Loss: 95.8988, Val Loss: 118.8281\n",
      "Finished epoch 57. Train Loss: 95.8508, Val Loss: 119.3743\n",
      "Finished epoch 58. Train Loss: 95.9705, Val Loss: 118.6690\n",
      "Finished epoch 59. Train Loss: 95.9397, Val Loss: 119.3593\n",
      "Finished epoch 60. Train Loss: 96.2329, Val Loss: 118.7617\n",
      "Finished epoch 61. Train Loss: 96.0894, Val Loss: 119.0139\n",
      "Finished epoch 62. Train Loss: 95.9563, Val Loss: 118.7902\n",
      "Finished epoch 63. Train Loss: 95.9271, Val Loss: 119.4154\n",
      "Finished epoch 64. Train Loss: 96.0985, Val Loss: 118.8236\n",
      "Finished epoch 65. Train Loss: 95.8517, Val Loss: 119.7852\n",
      "Finished epoch 66. Train Loss: 96.1663, Val Loss: 118.9927\n",
      "Finished epoch 67. Train Loss: 96.2654, Val Loss: 118.5269\n",
      "Finished epoch 68. Train Loss: 96.1917, Val Loss: 119.2200\n",
      "Finished epoch 69. Train Loss: 96.0621, Val Loss: 119.3333\n",
      "Finished epoch 70. Train Loss: 95.8805, Val Loss: 118.5555\n",
      "Finished epoch 71. Train Loss: 95.9485, Val Loss: 118.6897\n",
      "Finished epoch 72. Train Loss: 95.8848, Val Loss: 118.5598\n",
      "Finished epoch 73. Train Loss: 95.9004, Val Loss: 119.7695\n",
      "Finished epoch 74. Train Loss: 96.1673, Val Loss: 118.9484\n",
      "Finished epoch 75. Train Loss: 95.9180, Val Loss: 119.2546\n",
      "Finished epoch 76. Train Loss: 95.8840, Val Loss: 118.7963\n",
      "Finished epoch 77. Train Loss: 95.9733, Val Loss: 119.2781\n",
      "Finished epoch 78. Train Loss: 95.9452, Val Loss: 119.0414\n",
      "Finished epoch 79. Train Loss: 95.9351, Val Loss: 118.5375\n",
      "Finished epoch 80. Train Loss: 95.9636, Val Loss: 118.9268\n",
      "Finished epoch 81. Train Loss: 95.9725, Val Loss: 118.8913\n",
      "Finished epoch 82. Train Loss: 95.9587, Val Loss: 118.8706\n",
      "Finished epoch 83. Train Loss: 95.8466, Val Loss: 118.5396\n",
      "Finished epoch 84. Train Loss: 96.2007, Val Loss: 119.4304\n",
      "Finished epoch 85. Train Loss: 96.0129, Val Loss: 118.5377\n",
      "Finished epoch 86. Train Loss: 95.9332, Val Loss: 119.0557\n",
      "Finished epoch 87. Train Loss: 95.8175, Val Loss: 118.5809\n",
      "Finished epoch 88. Train Loss: 96.0677, Val Loss: 119.0329\n",
      "Finished epoch 89. Train Loss: 96.3531, Val Loss: 119.4231\n",
      "Finished epoch 90. Train Loss: 96.3891, Val Loss: 118.8524\n",
      "Finished epoch 91. Train Loss: 96.0658, Val Loss: 118.5786\n",
      "Finished epoch 92. Train Loss: 96.1146, Val Loss: 118.8882\n",
      "Finished epoch 93. Train Loss: 96.0140, Val Loss: 119.9001\n",
      "Finished epoch 94. Train Loss: 96.4056, Val Loss: 119.1900\n",
      "Finished epoch 95. Train Loss: 95.8751, Val Loss: 118.3619\n",
      "Finished epoch 96. Train Loss: 95.9352, Val Loss: 119.0368\n",
      "Finished epoch 97. Train Loss: 95.8326, Val Loss: 119.0400\n",
      "Finished epoch 98. Train Loss: 96.0072, Val Loss: 118.4343\n",
      "Finished epoch 99. Train Loss: 95.9979, Val Loss: 119.2770\n",
      "\n",
      "Restored model from epoch 0.\n"
     ]
    }
   ],
   "source": [
    "# reduced version of libdl.training.trainer\n",
    "\n",
    "from copy import deepcopy\n",
    "\n",
    "model_pipeline = model.to(training_params['device'])\n",
    "\n",
    "# for always keeping the best model\n",
    "best_model = deepcopy(model_pipeline)\n",
    "best_val_loss = None\n",
    "best_epoch = None\n",
    "\n",
    "train_losses = []\n",
    "val_losses = []\n",
    "\n",
    "for epoch in range(training_params['max_epochs']):\n",
    "    # set model to training mode; relevant, e.g., for BatchNorm, Dropout (does not change anything for our model here)\n",
    "    model_pipeline.train()\n",
    "    \n",
    "    with torch.enable_grad():\n",
    "        accum_loss, n_batches = 0, 0\n",
    "        for X, y in train_loader:\n",
    "            X, y = X.to(training_params['device']), y.to(training_params['device'])\n",
    "            # get model prediction\n",
    "            y_pred = model_pipeline(X)\n",
    "\n",
    "            # Remove channel dimension\n",
    "            y_pred = torch.squeeze(y_pred, 1)  # remove the channel dimension\n",
    "            # y = torch.squeeze(y, 1)  # remove the channel dimension\n",
    "            loss = crit(y_pred, y )\n",
    "            \n",
    "            # backpropagation + optimization\n",
    "            optimizer.zero_grad()\n",
    "            loss.mean().backward()\n",
    "            optimizer.step()\n",
    "            accum_loss += loss.mean().item()\n",
    "            n_batches += 1\n",
    "\n",
    "            # raise Exception  # --- IGNORE --- \n",
    "    # set model to evaluation mode\n",
    "    model_pipeline.eval()\n",
    "    \n",
    "    with torch.no_grad():    \n",
    "        accum_loss_val, n_batches_val = 0, 0\n",
    "        for X_val, y_val in val_loader:\n",
    "            X_val, y_val= X_val.to(training_params['device']), y_val.to(training_params['device'])\n",
    "\n",
    "            y_pred_val = model_pipeline(X_val)\n",
    "            \n",
    "            # Remove channel dimension\n",
    "            y_pred_val = torch.squeeze(y_pred_val, 1)  # remove the channel\n",
    "            # y_val = torch.squeeze(y_val, 1)\n",
    "\n",
    "            # get loss value\n",
    "            loss_val = crit(y_pred_val, y_val)\n",
    "            accum_loss_val += loss_val.mean().item()\n",
    "            n_batches_val += 1        \n",
    "\n",
    "    train_loss = accum_loss / n_batches\n",
    "    val_loss = accum_loss_val / n_batches_val\n",
    "    print(f'Finished epoch {epoch}. Train Loss: {train_loss:.4f}, Val Loss: {val_loss:.4f}')\n",
    "    \n",
    "    if best_val_loss is None or val_loss < best_val_loss:\n",
    "        best_val_loss = val_loss\n",
    "        best_model = deepcopy(model_pipeline)\n",
    "        best_epoch = epoch\n",
    "        print('    ...saved model')\n",
    "        \n",
    "    train_losses.append(train_loss)\n",
    "    val_losses.append(val_loss)\n",
    "        \n",
    "model_pipeline = deepcopy(best_model)\n",
    "print(f'\\nRestored model from epoch {best_epoch}.')"
   ]
  },
  {
   "cell_type": "code",
   "execution_count": 611,
   "id": "7947eafc",
   "metadata": {},
   "outputs": [
    {
     "data": {
      "image/png": "[encoded data removed]",
      "text/plain": [
       "<Figure size 640x480 with 1 Axes>"
      ]
     },
     "metadata": {},
     "output_type": "display_data"
    }
   ],
   "source": [
    "if len(train_losses) > 1:\n",
    "    plt.plot(train_losses, label='Train Loss')\n",
    "    plt.plot(val_losses, label='Val Loss')\n",
    "    plt.xlabel('Epoch')\n",
    "    plt.ylabel('Loss')\n",
    "    plt.title('Loss Curve')\n",
    "    plt.legend()\n",
    "    plt.show()"
   ]
  },
  {
   "cell_type": "code",
   "execution_count": 612,
   "id": "4057f1bb",
   "metadata": {},
   "outputs": [
    {
     "name": "stdout",
     "output_type": "stream",
     "text": [
      "torch.Size([1, 1, 200, 12])\n",
      "torch.Size([1, 8, 24])\n"
     ]
    }
   ],
   "source": [
    "print(X.shape)\n",
    "print(y.shape)"
   ]
  },
  {
   "cell_type": "markdown",
   "id": "85a96637",
   "metadata": {},
   "source": [
    "## Caveat\n",
    "The current network attempts to train how to predict a single frame with temporal context. What really happens is that it take out a frame, with +-25 for context; then predict which chord corresponds to that frame.\n",
    "\n",
    "For misalignment this is not neccessary, as we would simple load the whole sequence with multiple frames, then align it implicitly and output the whole sequence.\n",
    "\n",
    "`TODO`: refactor by remove temporal smoothness process.\n",
    "\n",
    "`IDEAL`: parse L frames `(B,1,L,12)` and predict corresponding sequence `(B,1,L,24)`\n",
    "\n",
    "Then for testing, we can effectively parse the input sequence, predict then plot it."
   ]
  },
  {
   "cell_type": "markdown",
   "id": "0c4c8f6a",
   "metadata": {},
   "source": [
    "## Training Data - Weakly Aligned Dataset\n",
    "\n",
    "Train the model. Now the targets will be shortened by removing repetition (remove the frame if they are the same as their previous)."
   ]
  }
 ],
 "metadata": {
  "kernelspec": {
   "display_name": "sdtw",
   "language": "python",
   "name": "python3"
  },
  "language_info": {
   "codemirror_mode": {
    "name": "ipython",
    "version": 3
   },
   "file_extension": ".py",
   "mimetype": "text/x-python",
   "name": "python",
   "nbconvert_exporter": "python",
   "pygments_lexer": "ipython3",
   "version": "3.11.5"
  }
 },
 "nbformat": 4,
 "nbformat_minor": 5
}
