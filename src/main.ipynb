{
 "cells": [
  {
   "cell_type": "markdown",
   "id": "8e4bd0ef",
   "metadata": {},
   "source": [
    "# SDTW on Trainging with Unaligned Dataset\n",
    "# Setting up Environment\n",
    "\n",
    "```\n",
    "$ python -m venv sdtw\n",
    "$ source sdtw/bin/activate # for linux\n",
    "$ ./sdtw/Scripts/activate # for windows\n",
    "$ python.exe -m pip install --upgrade pip # upgrade pip\n",
    "$ pip install -r requirements.txt\n",
    "```"
   ]
  },
  {
   "cell_type": "code",
   "execution_count": 395,
   "id": "67cfec6f",
   "metadata": {},
   "outputs": [],
   "source": [
    "import numpy as np\n",
    "import matplotlib.pyplot as plt\n",
    "import soundfile as sf\n",
    "import IPython.core.display as ipd\n",
    "import pandas as pd\n",
    "import os\n",
    "import torch\n",
    "import libfmp.c5\n",
    "\n",
    "from lib.nn_losses.soft_dtw_cuda import SoftDTW\n",
    "from lib.nn_models.nn_dchord import dchord_pipeline\n",
    "# from lib.helpers.soft_align import soft_align\n"
   ]
  },
  {
   "cell_type": "markdown",
   "id": "1337d1b4",
   "metadata": {},
   "source": [
    "# Preparing Data for Training"
   ]
  },
  {
   "cell_type": "code",
   "execution_count": 396,
   "id": "491d789f",
   "metadata": {},
   "outputs": [],
   "source": [
    "nonchord = False\n",
    "data_basedir = './res/data'"
   ]
  },
  {
   "cell_type": "code",
   "execution_count": 397,
   "id": "d6042944",
   "metadata": {},
   "outputs": [],
   "source": [
    "song_dict = {}\n",
    "\n",
    "song_dict[0] = ['LetItB', 'r',\n",
    "                os.path.join(data_basedir, 'FMP_C5_F01_Beatles_LetItBe-mm1-4_Original.wav'),\n",
    "                os.path.join(data_basedir, 'FMP_C5_F01_Beatles_LetItBe-mm1-4_Original_Chords_simplified.csv')]\n",
    "song_dict[1] = ['HereCo', 'b',\n",
    "                os.path.join(data_basedir, 'FMP_C5_Audio_Beatles_HereComesTheSun_Beatles_1969-AbbeyRoad-07.wav'),\n",
    "                os.path.join(data_basedir, 'FMP_C5_Audio_Beatles_HereComesTheSun_Beatles_1969-AbbeyRoad-07_Chords_simplified.csv')]\n",
    "song_dict[2] = ['ObLaDi', 'c',\n",
    "                os.path.join(data_basedir, 'FMP_C5_Audio_Beatles_ObLaDiObLaDa_Beatles_1968-TheBeatlesTheWhiteAlbumDisc1-04.wav'),\n",
    "                os.path.join(data_basedir, 'FMP_C5_Audio_Beatles_ObLaDiObLaDa_Beatles_1968-TheBeatlesTheWhiteAlbumDisc1-04_Chords_simplified.csv')]\n",
    "song_dict[3] = ['PennyL', 'g',\n",
    "                os.path.join(data_basedir, 'FMP_C5_Audio_Beatles_PennyLane_Beatles_1967-MagicalMysteryTour-09.wav'),\n",
    "                os.path.join(data_basedir, 'FMP_C5_Audio_Beatles_PennyLane_Beatles_1967-MagicalMysteryTour-09_Chords_simplified.csv')]\n",
    "song_dict[4] = ['LetItBFull', 'r', \n",
    "                os.path.join(data_basedir, 'FMP_C5_Audio_Beatles_LetItBe_Beatles_1970-LetItBe-06.wav'),\n",
    "                os.path.join(data_basedir, 'FMP_C5_Audio_Beatles_LetItBe_Beatles_1970-LetItBe-06_Chords_simplified.csv')]"
   ]
  },
  {
   "cell_type": "code",
   "execution_count": 398,
   "id": "febd6180",
   "metadata": {},
   "outputs": [
    {
     "name": "stdout",
     "output_type": "stream",
     "text": [
      "===== Computation of STFT-based chromagrams =====\n",
      "Processing:  LetItB\n",
      "Processing:  HereCo\n",
      "Processing:  ObLaDi\n",
      "Processing:  PennyL\n",
      "Processing:  LetItBFull\n"
     ]
    }
   ],
   "source": [
    "def compute_X_dict(song_selected, version='STFT', details=True, nonchord=False):\n",
    "    X_dict = {}\n",
    "    Fs_X_dict = {}\n",
    "    ann_dict = {}\n",
    "    x_dur_dict = {}\n",
    "    chord_labels = libfmp.c5.get_chord_labels(ext_minor='m', nonchord=nonchord)\n",
    "    for s in song_selected:\n",
    "        if details is True:\n",
    "            print('Processing: ', song_dict[s][0])\n",
    "        fn_wav = song_dict[s][2]\n",
    "        fn_ann = song_dict[s][3]\n",
    "#         N = 2048\n",
    "#         H = 1024\n",
    "        N = 4096\n",
    "        H = 2048\n",
    "        if version == 'STFT':\n",
    "            X, Fs_X, x, Fs, x_dur = \\\n",
    "                libfmp.c5.compute_chromagram_from_filename(fn_wav, N=N, H=H, gamma=0.1, version='STFT')            # no log compression\n",
    "        if version == 'CQT':\n",
    "            X, Fs_X, x, Fs, x_dur = \\\n",
    "                libfmp.c5.compute_chromagram_from_filename(fn_wav, H=H, version='CQT')                  # no log compression\n",
    "        if version == 'IIR':\n",
    "            X, Fs_X, x, Fs, x_dur = \\\n",
    "                libfmp.c5.compute_chromagram_from_filename(fn_wav, N=N, H=H, gamma=10, version='IIR')             # no log compression\n",
    "            \n",
    "        X_dict[s] = X\n",
    "        Fs_X_dict[s] = Fs_X\n",
    "        x_dur_dict[s] = x_dur\n",
    "        N_X = X.shape[1]\n",
    "        ann_dict[s] = libfmp.c5.convert_chord_ann_matrix(fn_ann, chord_labels, Fs=Fs_X, N=N_X, last=False)\n",
    "    return X_dict, Fs_X_dict, ann_dict, x_dur_dict, chord_labels\n",
    "    \n",
    "song_selected = [0, 1, 2, 3, 4]\n",
    "#song_selected = [0]\n",
    "print('===== Computation of STFT-based chromagrams =====')\n",
    "X_dict_STFT, Fs_X_dict_STFT, ann_dict_STFT, x_dur_dict, chord_labels = compute_X_dict(song_selected, version='STFT', nonchord=nonchord)"
   ]
  },
  {
   "cell_type": "markdown",
   "id": "b493e8d1",
   "metadata": {},
   "source": [
    "## Create Dataset + Dataloader"
   ]
  },
  {
   "cell_type": "code",
   "execution_count": 399,
   "id": "09630557",
   "metadata": {},
   "outputs": [],
   "source": [
    "class dataset(torch.utils.data.Dataset):\n",
    "    def __init__(self, inputs, targets, target_length, dataset_params):\n",
    "        self.inputs = inputs                                # Channels x Time x Chromas\n",
    "        self.targets = targets                              # Time x Chords\n",
    "        self.target_length = target_length                  # Length of each target sequence\n",
    "        self.dataset_params = dataset_params                # Parameters for the dataset (e.g., context, stride)\n",
    "\n",
    "    def __len__(self):\n",
    "        return self.inputs.size()[0]\n",
    "    \n",
    "    def __getitem__(self, idx):\n",
    "        X = self.inputs.type(torch.FloatTensor)\n",
    "        y = self.targets.type(torch.FloatTensor)\n",
    "        return X, y"
   ]
  },
  {
   "cell_type": "code",
   "execution_count": 400,
   "id": "22607895",
   "metadata": {},
   "outputs": [],
   "source": [
    "def colldate_fn(batch):\n",
    "    # for item in batch:\n",
    "        # print(item[0].shape, item[1].shape)\n",
    "    inputs = torch.stack([item[0] for item in batch], dim=0)  # Stack inputs along a new dimension\n",
    "    \n",
    "    targets = torch.cat([item[1] for item in batch], dim=0)  # Stack targets along a new dimension\n",
    "\n",
    "    return inputs, targets"
   ]
  },
  {
   "cell_type": "code",
   "execution_count": 401,
   "id": "0818baef",
   "metadata": {},
   "outputs": [],
   "source": [
    "# Not used, kept for reference\n",
    "class dataset_context(torch.utils.data.Dataset):\n",
    "    def __init__(self, inputs, targets, params):\n",
    "        self.inputs = inputs                                # Channels x Time x Chromas\n",
    "        self.targets = targets                              # Time x Chords\n",
    "        self.context = params['context']\n",
    "        self.stride = params['stride']\n",
    "        \n",
    "    def __len__(self):\n",
    "        return (self.inputs.size()[1] - self.context) // self.stride\n",
    "    \n",
    "    def __getitem__(self, index):\n",
    "        index *= self.stride\n",
    "        half_context = self.context // 2\n",
    "        index += half_context\n",
    "        X = self.inputs[:, (index - half_context):(index + half_context + 1), :].type(torch.FloatTensor)\n",
    "        y = torch.unsqueeze(torch.unsqueeze(self.targets[index, :], 0), 1).type(torch.FloatTensor)\n",
    "        return X, y"
   ]
  },
  {
   "cell_type": "code",
   "execution_count": 402,
   "id": "0d17f999",
   "metadata": {},
   "outputs": [],
   "source": [
    "def create_dataset(data_dict, ann_dict, song_dict, song_indices, dataset_params, dataset_description='train', mode='soft'):\n",
    "    all_datasets = []\n",
    "    segment_length = dataset_params['segment_length']\n",
    "\n",
    "    #############################\n",
    "    # If soft_length is defined, it will be used to determine the soft segmentation\n",
    "    # If not defined, the segmentation will be based on changes in the label sequence\n",
    "    #   This will cause different soft_lengths for different segments\n",
    "    ###########################\n",
    "\n",
    "    soft_length = dataset_params['soft_length']\n",
    "\n",
    "\n",
    "    assert mode in ['full', 'soft'], \"Mode must be either 'full' or 'soft' for dataset creation.\"\n",
    "\n",
    "    # Extract voiced frame annotations\n",
    "    for s in song_indices:\n",
    "        targets = ann_dict[s][0]\n",
    "        voiced_frames = np.any(targets !=0, axis=0)\n",
    "        # print(voiced_frames.shape)\n",
    "        if voiced_frames.sum() == 0:\n",
    "            print(f'Warning: No voiced frames found for song {song_dict[s][0]}. Skipping this song.')\n",
    "            continue\n",
    "    \n",
    "        s_idx = np.argmax(voiced_frames)\n",
    "        e_idx = len(voiced_frames) - np.argmax(voiced_frames[::-1])\n",
    "        label_seq = targets[:, s_idx:e_idx]\n",
    "\n",
    "        inputs = data_dict[s].T\n",
    "        inputs_trimmed = inputs[s_idx:e_idx, :]\n",
    "        T_total = inputs_trimmed.shape[0]\n",
    "        num_segments = T_total // segment_length\n",
    "\n",
    "        for i in range(num_segments):\n",
    "            start_idx = i * segment_length\n",
    "            end_idx = start_idx + segment_length\n",
    "            \n",
    "            if end_idx > T_total:\n",
    "                break\n",
    "            input_seg = inputs_trimmed[start_idx:end_idx, :]\n",
    "            label_seg = label_seq[:, start_idx:end_idx]\n",
    "            \n",
    "            # Perform soft segmentation if required\n",
    "            if mode == 'soft':\n",
    "                target_seg = [ label_seg[:, 0] ]\n",
    "                for idx in range(1, label_seg.shape[1]):\n",
    "                    if not np.array_equal(label_seg[:, idx], label_seg[:, idx-1]):\n",
    "                        target_seg.append(label_seg[:, idx])\n",
    "\n",
    "                if len(target_seg) < soft_length:\n",
    "                    # If the segment is shorter than the soft length, repeat last element until it reaches the soft length\n",
    "                    target_seg += [target_seg[-1]] * (soft_length - len(target_seg))\n",
    "\n",
    "                    # From testing, randomly repeating or repeating the last element gives similar results\n",
    "                    # Uncomment the following lines to use random repetition instead\n",
    "                    # # If the segment is shorter than the soft length, repeat random elements until it reaches the soft length\n",
    "                    # while len(target_seg) < soft_length:\n",
    "                    #     index = np.random.randint(0, len(target_seg))\n",
    "                    #     temp = target_seg[index]\n",
    "                    #     target_seg = target_seg[:index] + [temp] + target_seg[index:]\n",
    "\n",
    "                else: \n",
    "                    # If the segment is longer than the soft length, throw error\n",
    "                    if len(target_seg) > soft_length:\n",
    "                        raise ValueError(f'Segment length {len(target_seg)} exceeds soft length {soft_length} for song {song_dict[s][0]}.')\n",
    "\n",
    "            elif mode == 'full':\n",
    "                pass\n",
    "            \n",
    "            target_seg_len = torch.tensor([len(target_seg)], dtype=torch.int64)\n",
    "            target_seg = torch.unsqueeze(torch.tensor(target_seg, dtype=torch.float32), 0)\n",
    "            inputs_tensor = torch.unsqueeze(torch.tensor(input_seg, dtype=torch.float32), 0)\n",
    "\n",
    "            curr_dataset = dataset(inputs_tensor, target_seg, target_seg_len, dataset_params)\n",
    "            all_datasets.append(curr_dataset)\n",
    "                    \n",
    "        print(f'- {song_dict[s][0]} added to {dataset_description} set. Segments: {num_segments}')\n",
    "        \n",
    "    full_dataset = torch.utils.data.ConcatDataset(all_datasets)\n",
    "    print(f'Total segments created for {dataset_description} dataset: {len(full_dataset)}')\n",
    "    return full_dataset\n"
   ]
  },
  {
   "cell_type": "code",
   "execution_count": 427,
   "id": "5993348f",
   "metadata": {},
   "outputs": [
    {
     "name": "stdout",
     "output_type": "stream",
     "text": [
      "- HereCo added to train set. Segments: 13\n",
      "- ObLaDi added to train set. Segments: 13\n",
      "- LetItBFull added to train set. Segments: 17\n",
      "Total segments created for train dataset: 43\n",
      "\n",
      "\n",
      "- PennyL added to val set. Segments: 12\n",
      "Total segments created for val dataset: 12\n"
     ]
    }
   ],
   "source": [
    "train_set_indices = [1, 2, 4]\n",
    "train_set_params = {'segment_length': 150, 'soft_length': 16}\n",
    "\n",
    "train_set = create_dataset(data_dict=X_dict_STFT, \n",
    "                           ann_dict=ann_dict_STFT, \n",
    "                           song_dict=song_dict, \n",
    "                           song_indices=train_set_indices, \n",
    "                           dataset_params=train_set_params, \n",
    "                           dataset_description='train',\n",
    "                           mode='soft')\n",
    "\n",
    "print('\\n')\n",
    "\n",
    "val_set_indices = [3]\n",
    "val_set_params = {'segment_length': 150, 'soft_length': 16}\n",
    "\n",
    "val_set = create_dataset(data_dict=X_dict_STFT, \n",
    "                         ann_dict=ann_dict_STFT, \n",
    "                         song_dict=song_dict, \n",
    "                         song_indices=val_set_indices, \n",
    "                         dataset_params=val_set_params, \n",
    "                         dataset_description='val',\n",
    "                         mode='soft')"
   ]
  },
  {
   "cell_type": "code",
   "execution_count": 428,
   "id": "96e809cc",
   "metadata": {},
   "outputs": [
    {
     "name": "stdout",
     "output_type": "stream",
     "text": [
      "Training data loader contains 3 mini batches.\n",
      "Validation data loader contains 3 mini batches.\n"
     ]
    }
   ],
   "source": [
    "train_loader_params = {'batch_size': 15, 'shuffle': True, 'num_workers': 0, 'collate_fn': colldate_fn}\n",
    "train_loader = torch.utils.data.DataLoader(train_set, **train_loader_params)\n",
    "print(f'Training data loader contains {len(train_loader)} mini batches.')\n",
    "\n",
    "val_loader_params = {'batch_size': 5, 'shuffle': False, 'num_workers': 0, 'collate_fn': colldate_fn}\n",
    "val_loader = torch.utils.data.DataLoader(val_set, **val_loader_params)\n",
    "print(f'Validation data loader contains {len(val_loader)} mini batches.')"
   ]
  },
  {
   "cell_type": "markdown",
   "id": "73cccb80",
   "metadata": {},
   "source": [
    "# Train Pipeline"
   ]
  },
  {
   "cell_type": "markdown",
   "id": "23cb6d90",
   "metadata": {},
   "source": [
    "# Initalize dChord Network"
   ]
  },
  {
   "cell_type": "code",
   "execution_count": 429,
   "id": "5266c611",
   "metadata": {},
   "outputs": [],
   "source": [
    "# Pipeline config\n",
    "\n",
    "compression_params = {'gamma_init': 1.0,\n",
    "                      'trainable': True}\n",
    "\n",
    "feature_norm_params = {'num_features': 12,\n",
    "                       'norm': '2', \n",
    "                       'threshold': 1e-4}\n",
    "\n",
    "chord_template_params = {'shared_weights': True, \n",
    "                         'initialize_parameters': True, \n",
    "                         'normalize_weights': False}\n",
    "\n",
    "softmax_params = {'tau': 1, \n",
    "                  'trainable': False}"
   ]
  },
  {
   "cell_type": "code",
   "execution_count": 430,
   "id": "26151b0e",
   "metadata": {},
   "outputs": [],
   "source": [
    "model = dchord_pipeline(compression_params=compression_params, \n",
    "                        feature_norm_params=feature_norm_params, chord_template_params=chord_template_params,\n",
    "                        softmax_params=softmax_params)"
   ]
  },
  {
   "cell_type": "code",
   "execution_count": 431,
   "id": "59516fb4",
   "metadata": {},
   "outputs": [
    {
     "data": {
      "text/plain": [
       "========================================================================================================================\n",
       "Layer (type:depth-idx)                   Input Shape          Output Shape         Param #              Trainable\n",
       "========================================================================================================================\n",
       "dchord_pipeline                          [1, 1, 40, 12]       [1, 1, 40, 24]       --                   Partial\n",
       "├─log_compression: 1-1                   [1, 1, 40, 12]       [1, 1, 40, 12]       1                    True\n",
       "├─feature_normalization: 1-2             [1, 1, 40, 12]       [1, 1, 40, 12]       --                   --\n",
       "├─dchord_templates: 1-3                  [1, 1, 40, 12]       [1, 1, 40, 24]       --                   True\n",
       "│    └─Conv2d: 2-1                       [1, 1, 40, 23]       [1, 2, 40, 12]       24                   True\n",
       "├─softmax_temperature: 1-4               [1, 1, 40, 24]       [1, 1, 40, 24]       (1)                  False\n",
       "========================================================================================================================\n",
       "Total params: 26\n",
       "Trainable params: 25\n",
       "Non-trainable params: 1\n",
       "Total mult-adds (Units.MEGABYTES): 0.01\n",
       "========================================================================================================================\n",
       "Input size (MB): 0.00\n",
       "Forward/backward pass size (MB): 0.02\n",
       "Params size (MB): 0.00\n",
       "Estimated Total Size (MB): 0.02\n",
       "========================================================================================================================"
      ]
     },
     "execution_count": 431,
     "metadata": {},
     "output_type": "execute_result"
    }
   ],
   "source": [
    "import torchinfo\n",
    "\n",
    "torchinfo.summary(model, input_size=(1, 1, 40, 12), col_names=[\"input_size\", \"output_size\", \"num_params\", \"trainable\"], col_width=20)"
   ]
  },
  {
   "cell_type": "markdown",
   "id": "e8475e09",
   "metadata": {},
   "source": [
    "## Specify which parameters to optimize"
   ]
  },
  {
   "cell_type": "code",
   "execution_count": 432,
   "id": "b73a50b3",
   "metadata": {},
   "outputs": [
    {
     "name": "stdout",
     "output_type": "stream",
     "text": [
      "Trainable parameters:\n",
      "\n",
      "'log_compression.log_gamma'\n",
      "'chord_template_params.filter.weight'\n"
     ]
    }
   ],
   "source": [
    "print('Trainable parameters:\\n')\n",
    "\n",
    "trainable_parameters = []\n",
    "for name, param in model.named_parameters():\n",
    "    if param.requires_grad:\n",
    "        trainable_parameters.append(name)\n",
    "        print(f\"'{name}'\") "
   ]
  },
  {
   "cell_type": "markdown",
   "id": "ac57e9e8",
   "metadata": {},
   "source": [
    "Optimization mode $\\in \\{0, 1, 2 \\}$:  \n",
    "- 0: optimize all trainable parameters \n",
    "- 1: optimize **all** trainable parameters **except** the ones specified in `frozen_parameters`\n",
    "- 2: optimize **only** the parameters specified in `trained_parameters`\n",
    "\n",
    "(`frozen_parameters` and `trained_parameters` must be lists of strings and a subset of the trainable parameters shown above)\n",
    "\n",
    "For no optimization at all: set training epochs to zero."
   ]
  },
  {
   "cell_type": "code",
   "execution_count": 433,
   "id": "7f42e473",
   "metadata": {},
   "outputs": [],
   "source": [
    "optimization_mode = 0\n",
    "\n",
    "if optimization_mode == 1:\n",
    "    frozen_parameters = []           \n",
    "\n",
    "if optimization_mode == 2:\n",
    "    trained_parameters = []"
   ]
  },
  {
   "cell_type": "code",
   "execution_count": 434,
   "id": "e86770d1",
   "metadata": {},
   "outputs": [],
   "source": [
    "if optimization_mode == 0:\n",
    "    parameters_to_optimize = model.parameters()\n",
    "    \n",
    "elif optimization_mode == 1:\n",
    "    parameters_to_optimize = []\n",
    "\n",
    "    for name, param in model.named_parameters():\n",
    "        if not name in frozen_parameters:\n",
    "            parameters_to_optimize.append(param)\n",
    "            \n",
    "elif optimization_mode == 2:\n",
    "    parameters_to_optimize = []\n",
    "\n",
    "    for name, param in model.named_parameters():\n",
    "        if name in trained_parameters:\n",
    "            parameters_to_optimize.append(param)"
   ]
  },
  {
   "cell_type": "markdown",
   "id": "2b272ae7",
   "metadata": {},
   "source": [
    "### Set Optimizer, Training Parameters and Loss"
   ]
  },
  {
   "cell_type": "code",
   "execution_count": 435,
   "id": "feb78770",
   "metadata": {},
   "outputs": [],
   "source": [
    "optim_params = {'lr': 0.1, 'betas': (0.9, 0.999)}\n",
    "optimizer = torch.optim.Adam(parameters_to_optimize, **optim_params)"
   ]
  },
  {
   "cell_type": "code",
   "execution_count": null,
   "id": "2e8b3993",
   "metadata": {},
   "outputs": [],
   "source": [
    "training_params = {'device': 'cpu', 'max_epochs': 200}\n",
    "# training_params = {'device': 'cuda:0', 'max_epochs': 25}\n",
    "\n",
    "# weights for fighting class imbalance major / minor in training dataset\n",
    "weight = torch.cat((torch.ones(12), torch.ones(12)))           \n",
    "# weight = torch.cat((torch.ones(12), 19*torch.ones(12)))\n",
    "\n",
    "crit = torch.nn.NLLLoss(weight=weight, reduction='mean').to(training_params['device'])  # Categorical CE without log"
   ]
  },
  {
   "cell_type": "code",
   "execution_count": 437,
   "id": "d5ed4f25",
   "metadata": {},
   "outputs": [],
   "source": [
    "normalize = False\n",
    "\n",
    "crit = SoftDTW(use_cuda=False, gamma=0.1, dist_func=None, normalize=normalize)"
   ]
  },
  {
   "cell_type": "markdown",
   "id": "3100bb07",
   "metadata": {},
   "source": [
    "### Network Training - Weakly Aligned Dataset\n",
    "\n",
    "Train the model. After each training epoch (one iteration over the train dataloader), evaluate performanceon the validation set. We use a variable `best_model` that contains the current best model (the model with the overall lowest validation loss). At the end of the training, the `best_model` ist used for evaluation."
   ]
  },
  {
   "cell_type": "code",
   "execution_count": 438,
   "id": "099115cd",
   "metadata": {},
   "outputs": [
    {
     "name": "stdout",
     "output_type": "stream",
     "text": [
      "Finished epoch 0. Train Loss: 134.0758, Val Loss: 129.7338\n",
      "    ...saved model\n",
      "Finished epoch 1. Train Loss: 129.4063, Val Loss: 127.4573\n",
      "    ...saved model\n",
      "Finished epoch 2. Train Loss: 126.7352, Val Loss: 124.9383\n",
      "    ...saved model\n",
      "Finished epoch 3. Train Loss: 123.7861, Val Loss: 121.8182\n",
      "    ...saved model\n",
      "Finished epoch 4. Train Loss: 120.2167, Val Loss: 118.3231\n",
      "    ...saved model\n",
      "Finished epoch 5. Train Loss: 116.1821, Val Loss: 114.5485\n",
      "    ...saved model\n",
      "Finished epoch 6. Train Loss: 112.0984, Val Loss: 110.6490\n",
      "    ...saved model\n",
      "Finished epoch 7. Train Loss: 108.7708, Val Loss: 106.7523\n",
      "    ...saved model\n",
      "Finished epoch 8. Train Loss: 105.3108, Val Loss: 103.1059\n",
      "    ...saved model\n",
      "Finished epoch 9. Train Loss: 101.7746, Val Loss: 99.7996\n",
      "    ...saved model\n",
      "Finished epoch 10. Train Loss: 99.1679, Val Loss: 96.9128\n",
      "    ...saved model\n",
      "Finished epoch 11. Train Loss: 96.7939, Val Loss: 94.4158\n",
      "    ...saved model\n",
      "Finished epoch 12. Train Loss: 94.5910, Val Loss: 92.2484\n",
      "    ...saved model\n",
      "Finished epoch 13. Train Loss: 92.7545, Val Loss: 90.4001\n",
      "    ...saved model\n",
      "Finished epoch 14. Train Loss: 91.2952, Val Loss: 88.8324\n",
      "    ...saved model\n",
      "Finished epoch 15. Train Loss: 89.6049, Val Loss: 87.5415\n",
      "    ...saved model\n",
      "Finished epoch 16. Train Loss: 88.6936, Val Loss: 86.4210\n",
      "    ...saved model\n",
      "Finished epoch 17. Train Loss: 87.6447, Val Loss: 85.4441\n",
      "    ...saved model\n",
      "Finished epoch 18. Train Loss: 86.6710, Val Loss: 84.6316\n",
      "    ...saved model\n",
      "Finished epoch 19. Train Loss: 85.8049, Val Loss: 83.9781\n",
      "    ...saved model\n",
      "Finished epoch 20. Train Loss: 85.1313, Val Loss: 83.5013\n",
      "    ...saved model\n",
      "Finished epoch 21. Train Loss: 84.4026, Val Loss: 83.0973\n",
      "    ...saved model\n",
      "Finished epoch 22. Train Loss: 83.6048, Val Loss: 82.8050\n",
      "    ...saved model\n",
      "Finished epoch 23. Train Loss: 82.9827, Val Loss: 82.6357\n",
      "    ...saved model\n",
      "Finished epoch 24. Train Loss: 82.7075, Val Loss: 82.4270\n",
      "    ...saved model\n",
      "Finished epoch 25. Train Loss: 81.9938, Val Loss: 82.3058\n",
      "    ...saved model\n",
      "Finished epoch 26. Train Loss: 81.6593, Val Loss: 82.1644\n",
      "    ...saved model\n",
      "Finished epoch 27. Train Loss: 81.4453, Val Loss: 81.9985\n",
      "    ...saved model\n",
      "Finished epoch 28. Train Loss: 80.8676, Val Loss: 81.9549\n",
      "    ...saved model\n",
      "Finished epoch 29. Train Loss: 80.7881, Val Loss: 81.8683\n",
      "    ...saved model\n",
      "Finished epoch 30. Train Loss: 80.2797, Val Loss: 81.7821\n",
      "    ...saved model\n",
      "Finished epoch 31. Train Loss: 79.7726, Val Loss: 81.6999\n",
      "    ...saved model\n",
      "Finished epoch 32. Train Loss: 79.8718, Val Loss: 81.5927\n",
      "    ...saved model\n",
      "Finished epoch 33. Train Loss: 79.3803, Val Loss: 81.4939\n",
      "    ...saved model\n",
      "Finished epoch 34. Train Loss: 78.9643, Val Loss: 81.4147\n",
      "    ...saved model\n",
      "Finished epoch 35. Train Loss: 79.0744, Val Loss: 81.3445\n",
      "    ...saved model\n",
      "Finished epoch 36. Train Loss: 78.8371, Val Loss: 81.1925\n",
      "    ...saved model\n",
      "Finished epoch 37. Train Loss: 78.5678, Val Loss: 81.0981\n",
      "    ...saved model\n",
      "Finished epoch 38. Train Loss: 78.3489, Val Loss: 81.0643\n",
      "    ...saved model\n",
      "Finished epoch 39. Train Loss: 78.1787, Val Loss: 80.9487\n",
      "    ...saved model\n",
      "Finished epoch 40. Train Loss: 77.8018, Val Loss: 80.9106\n",
      "    ...saved model\n",
      "Finished epoch 41. Train Loss: 77.5851, Val Loss: 80.8785\n",
      "    ...saved model\n",
      "Finished epoch 42. Train Loss: 77.3588, Val Loss: 80.8714\n",
      "    ...saved model\n",
      "Finished epoch 43. Train Loss: 77.3234, Val Loss: 80.8902\n",
      "Finished epoch 44. Train Loss: 77.1147, Val Loss: 80.8710\n",
      "    ...saved model\n",
      "Finished epoch 45. Train Loss: 77.3060, Val Loss: 80.7858\n",
      "    ...saved model\n",
      "Finished epoch 46. Train Loss: 76.8824, Val Loss: 80.7992\n",
      "Finished epoch 47. Train Loss: 76.8061, Val Loss: 80.7673\n",
      "    ...saved model\n",
      "Finished epoch 48. Train Loss: 76.6392, Val Loss: 80.7775\n",
      "Finished epoch 49. Train Loss: 76.4118, Val Loss: 80.7644\n",
      "    ...saved model\n",
      "Finished epoch 50. Train Loss: 76.3206, Val Loss: 80.7642\n",
      "    ...saved model\n",
      "Finished epoch 51. Train Loss: 76.2928, Val Loss: 80.7049\n",
      "    ...saved model\n",
      "Finished epoch 52. Train Loss: 76.1346, Val Loss: 80.7082\n",
      "Finished epoch 53. Train Loss: 76.2101, Val Loss: 80.7059\n",
      "Finished epoch 54. Train Loss: 75.9772, Val Loss: 80.6101\n",
      "    ...saved model\n",
      "Finished epoch 55. Train Loss: 76.0673, Val Loss: 80.6422\n",
      "Finished epoch 56. Train Loss: 75.7217, Val Loss: 80.6565\n",
      "Finished epoch 57. Train Loss: 75.5739, Val Loss: 80.6437\n",
      "Finished epoch 58. Train Loss: 75.5799, Val Loss: 80.6602\n",
      "Finished epoch 59. Train Loss: 75.8146, Val Loss: 80.6598\n",
      "Finished epoch 60. Train Loss: 75.5888, Val Loss: 80.6751\n",
      "Finished epoch 61. Train Loss: 75.3950, Val Loss: 80.6862\n",
      "Finished epoch 62. Train Loss: 75.2603, Val Loss: 80.6549\n",
      "Finished epoch 63. Train Loss: 75.3689, Val Loss: 80.6372\n",
      "Finished epoch 64. Train Loss: 75.5412, Val Loss: 80.6741\n",
      "Finished epoch 65. Train Loss: 75.2612, Val Loss: 80.6619\n",
      "Finished epoch 66. Train Loss: 75.2270, Val Loss: 80.6626\n",
      "Finished epoch 67. Train Loss: 75.0981, Val Loss: 80.6708\n",
      "Finished epoch 68. Train Loss: 74.8355, Val Loss: 80.6557\n",
      "Finished epoch 69. Train Loss: 75.0026, Val Loss: 80.6652\n",
      "Finished epoch 70. Train Loss: 74.7327, Val Loss: 80.6712\n",
      "Finished epoch 71. Train Loss: 74.6424, Val Loss: 80.6666\n",
      "Finished epoch 72. Train Loss: 74.9791, Val Loss: 80.6939\n",
      "Finished epoch 73. Train Loss: 74.8865, Val Loss: 80.7515\n",
      "Finished epoch 74. Train Loss: 75.1191, Val Loss: 80.8004\n",
      "Finished epoch 75. Train Loss: 74.6786, Val Loss: 80.8167\n",
      "Finished epoch 76. Train Loss: 74.6354, Val Loss: 80.8081\n",
      "Finished epoch 77. Train Loss: 74.9289, Val Loss: 80.8344\n",
      "Finished epoch 78. Train Loss: 74.7712, Val Loss: 80.9098\n",
      "Finished epoch 79. Train Loss: 74.7394, Val Loss: 80.9706\n",
      "Finished epoch 80. Train Loss: 74.1853, Val Loss: 81.0210\n",
      "Finished epoch 81. Train Loss: 74.4535, Val Loss: 81.0030\n",
      "Finished epoch 82. Train Loss: 74.4832, Val Loss: 80.9943\n",
      "Finished epoch 83. Train Loss: 74.3421, Val Loss: 81.0732\n",
      "Finished epoch 84. Train Loss: 74.7067, Val Loss: 81.0632\n",
      "Finished epoch 85. Train Loss: 74.2297, Val Loss: 81.1447\n",
      "Finished epoch 86. Train Loss: 74.3147, Val Loss: 81.1374\n",
      "Finished epoch 87. Train Loss: 74.5594, Val Loss: 81.1251\n",
      "Finished epoch 88. Train Loss: 74.4247, Val Loss: 81.1303\n",
      "Finished epoch 89. Train Loss: 74.6769, Val Loss: 81.1863\n",
      "Finished epoch 90. Train Loss: 74.0335, Val Loss: 81.2307\n",
      "Finished epoch 91. Train Loss: 74.4049, Val Loss: 81.2882\n",
      "Finished epoch 92. Train Loss: 74.4547, Val Loss: 81.3378\n",
      "Finished epoch 93. Train Loss: 74.5713, Val Loss: 81.4028\n",
      "Finished epoch 94. Train Loss: 74.3323, Val Loss: 81.4647\n",
      "Finished epoch 95. Train Loss: 74.3243, Val Loss: 81.5209\n",
      "Finished epoch 96. Train Loss: 74.1211, Val Loss: 81.5464\n",
      "Finished epoch 97. Train Loss: 74.4145, Val Loss: 81.5583\n",
      "Finished epoch 98. Train Loss: 73.8708, Val Loss: 81.6331\n",
      "Finished epoch 99. Train Loss: 74.1987, Val Loss: 81.6591\n",
      "\n",
      "Restored model from epoch 54.\n"
     ]
    }
   ],
   "source": [
    "# reduced version of libdl.training.trainer\n",
    "\n",
    "from copy import deepcopy\n",
    "\n",
    "model_pipeline = model.to(training_params['device'])\n",
    "\n",
    "# for always keeping the best model\n",
    "best_model = deepcopy(model_pipeline)\n",
    "best_val_loss = None\n",
    "best_epoch = None\n",
    "\n",
    "train_losses = []\n",
    "val_losses = []\n",
    "\n",
    "for epoch in range(training_params['max_epochs']):\n",
    "    # set model to training mode; relevant, e.g., for BatchNorm, Dropout (does not change anything for our model here)\n",
    "    model_pipeline.train()\n",
    "    \n",
    "    with torch.enable_grad():\n",
    "        accum_loss, n_batches = 0, 0\n",
    "        for X, y in train_loader:\n",
    "            X, y = X.to(training_params['device']), y.to(training_params['device'])\n",
    "\n",
    "            # get model prediction\n",
    "            y_pred = model_pipeline(X)\n",
    "            # Remove channel dimension\n",
    "            y_pred = torch.squeeze(y_pred, 1)  # remove the channel dimension\n",
    "            y = torch.squeeze(y, 1)  # remove the channel dimension\n",
    "            \n",
    "            loss = crit(y_pred, y )\n",
    "            \n",
    "            # backpropagation + optimization\n",
    "            optimizer.zero_grad()\n",
    "            loss.mean().backward()\n",
    "            optimizer.step()\n",
    "            accum_loss += loss.mean().item()\n",
    "            n_batches += 1\n",
    "\n",
    "\n",
    "    # set model to evaluation mode\n",
    "    model_pipeline.eval()\n",
    "    \n",
    "    with torch.no_grad():    \n",
    "        accum_loss_val, n_batches_val = 0, 0\n",
    "        for X_val, y_val in val_loader:\n",
    "            X_val, y_val= X_val.to(training_params['device']), y_val.to(training_params['device'])\n",
    "\n",
    "            y_pred_val = model_pipeline(X_val)\n",
    "            \n",
    "            # Remove channel dimension\n",
    "            y_pred_val = torch.squeeze(y_pred_val, 1)  # remove the channel\n",
    "            y_val = torch.squeeze(y_val, 1)\n",
    "\n",
    "            # get loss value\n",
    "            loss_val = crit(y_pred_val, y_val)\n",
    "            accum_loss_val += loss_val.mean().item()\n",
    "            n_batches_val += 1        \n",
    "\n",
    "    train_loss = accum_loss / n_batches\n",
    "    val_loss = accum_loss_val / n_batches_val\n",
    "    print(f'Finished epoch {epoch}. Train Loss: {train_loss:.4f}, Val Loss: {val_loss:.4f}')\n",
    "    \n",
    "    if best_val_loss is None or val_loss < best_val_loss:\n",
    "        best_val_loss = val_loss\n",
    "        best_model = deepcopy(model_pipeline)\n",
    "        best_epoch = epoch\n",
    "        print('    ...saved model')\n",
    "        \n",
    "    train_losses.append(train_loss)\n",
    "    val_losses.append(val_loss)\n",
    "        \n",
    "model_pipeline = deepcopy(best_model)\n",
    "print(f'\\nRestored model from epoch {best_epoch}.')"
   ]
  },
  {
   "cell_type": "code",
   "execution_count": 439,
   "id": "7947eafc",
   "metadata": {},
   "outputs": [
    {
     "data": {
      "image/png": "[encoded data removed]",
      "text/plain": [
       "<Figure size 640x480 with 1 Axes>"
      ]
     },
     "metadata": {},
     "output_type": "display_data"
    }
   ],
   "source": [
    "if len(train_losses) > 1:\n",
    "    plt.plot(train_losses, label='Train Loss')\n",
    "    plt.plot(val_losses, label='Val Loss')\n",
    "    plt.xlabel('Epoch')\n",
    "    plt.ylabel('Loss')\n",
    "    plt.title('Loss Curve')\n",
    "    plt.legend()\n",
    "    plt.show()"
   ]
  },
  {
   "cell_type": "code",
   "execution_count": 440,
   "id": "4057f1bb",
   "metadata": {},
   "outputs": [
    {
     "name": "stdout",
     "output_type": "stream",
     "text": [
      "torch.Size([13, 1, 150, 12])\n",
      "torch.Size([13, 16, 24])\n"
     ]
    }
   ],
   "source": [
    "print(X.shape)\n",
    "print(y.shape)"
   ]
  },
  {
   "cell_type": "markdown",
   "id": "58cbe187",
   "metadata": {},
   "source": [
    "# Investigate Model"
   ]
  },
  {
   "cell_type": "code",
   "execution_count": 441,
   "id": "08264980",
   "metadata": {},
   "outputs": [],
   "source": [
    "import matplotlib\n",
    "# Class for visualizing chord templates with zero-centered diverging colormap\n",
    "\n",
    "# Example of making your own norm.  Also see matplotlib.colors.\n",
    "# From Joe Kington: This one gives two different linear ramps:\n",
    "class MidpointNormalize(matplotlib.colors.Normalize):\n",
    "    def __init__(self, vmin=None, vmax=None, midpoint=None, clip=False):\n",
    "        self.midpoint = midpoint\n",
    "        matplotlib.colors.Normalize.__init__(self, vmin, vmax, clip)\n",
    "\n",
    "    def __call__(self, value, clip=None):\n",
    "        # I'm ignoring masked values and all kinds of edge cases to make a\n",
    "        # simple example...\n",
    "        x, y = [self.vmin, self.midpoint, self.vmax], [0, 0.5, 1]\n",
    "        return np.ma.masked_array(np.interp(value, x, y))\n",
    "\n"
   ]
  },
  {
   "cell_type": "code",
   "execution_count": 442,
   "id": "f49df54d",
   "metadata": {},
   "outputs": [
    {
     "data": {
      "image/png": "[encoded data removed]",
      "text/plain": [
       "<Figure size 1000x700 with 4 Axes>"
      ]
     },
     "metadata": {},
     "output_type": "display_data"
    }
   ],
   "source": [
    "chroma_labels = ['C', 'C#', 'D', 'D#', 'E', 'F', 'F#', 'G', 'G#', 'A', 'A#', 'B']\n",
    "ext_minor = 'm'\n",
    "chord_labels_maj = chroma_labels\n",
    "chord_labels_min = [s + ext_minor for s in chroma_labels]\n",
    "chord_labels = chord_labels_maj + chord_labels_min\n",
    "\n",
    "# read weights from layer\n",
    "weights = model_pipeline.chord_template_params.filter.weight.to('cpu').detach()\n",
    "weights = np.squeeze(weights)\n",
    "\n",
    "templates_maj = np.zeros((12,12))\n",
    "templates_min = np.zeros((12,12))\n",
    "\n",
    "if weights.shape[0] == 2:\n",
    "    for n in range(12):           # shared weights -> templates are only shifted versions of each other\n",
    "        templates_maj[:, n] = np.roll(weights[0], n)\n",
    "        templates_min[:, n] = np.roll(weights[1], n)\n",
    "    \n",
    "elif weights.shape[0] == 24:\n",
    "    templates_maj = np.asarray(weights[:12, :]).T\n",
    "    templates_min = np.asarray(weights[12:, :]).T\n",
    "    \n",
    "\n",
    "fig, ax = plt.subplots(2, 2, gridspec_kw={'width_ratios': [1, 0.05]}, figsize=(10, 7))\n",
    "    \n",
    "# determine appropriate colormap for plots\n",
    "if np.min([templates_maj, templates_min]) < 0:\n",
    "    abs_max = np.abs([templates_maj, templates_min]).max()\n",
    "    plot_parameters = {'cmap': 'RdGy', 'norm': MidpointNormalize(vmin=-abs_max, vmax=abs_max, midpoint=0, clip=False)}\n",
    "else:\n",
    "    plot_parameters = {'cmap': 'gray_r'}\n",
    "    \n",
    "# plot major chord templates\n",
    "libfmp.b.plot_matrix(templates_maj, ax=[ax[0, 0], ax[0, 1]], \n",
    "                     title='Chord templates (major)',\n",
    "                     ylabel='Pitch class', xlabel='Chord',\n",
    "                     colorbar=True, **plot_parameters)\n",
    "ax[0, 0].set_xticks(np.arange(12))\n",
    "ax[0, 0].set_xticklabels(chord_labels_maj)\n",
    "ax[0, 0].set_yticks(np.arange(12))\n",
    "ax[0, 0].set_yticklabels(chroma_labels)\n",
    "\n",
    "# plot minor chord templates\n",
    "libfmp.b.plot_matrix(templates_min, ax=[ax[1, 0], ax[1, 1]], \n",
    "                     title='Chord templates (minor)',\n",
    "                     ylabel='Pitch class', xlabel='Chord',\n",
    "                     colorbar=True, **plot_parameters)\n",
    "ax[1, 0].set_xticks(np.arange(12))\n",
    "ax[1, 0].set_xticklabels(chord_labels_min)\n",
    "ax[1, 0].set_yticks(np.arange(12))\n",
    "ax[1, 0].set_yticklabels(chroma_labels)\n",
    "\n",
    "plt.tight_layout()\n"
   ]
  },
  {
   "cell_type": "markdown",
   "id": "85a96637",
   "metadata": {},
   "source": [
    "## Caveat\n",
    "The current network attempts to train how to predict a single frame with temporal context. What really happens is that it take out a frame, with +-25 for context; then predict which chord corresponds to that frame.\n",
    "\n",
    "For misalignment this is not neccessary, as we would simple load the whole sequence with multiple frames, then align it implicitly and output the whole sequence.\n",
    "\n",
    "`TODO List`\n",
    "\n",
    "- ~~refactor by remove temporal smoothness process.~~\n",
    "- ~~fix dimension so that predict and target fits the loss~~\n",
    "- ~~fix soft_align so that it produce one-hot-encoding~~\n",
    "- allow stacking batch (error occured when stacking different dim)\n",
    "- try plot path and final weight\n",
    "- get results from strongly aligned for comparison\n",
    "- refactor functions\n",
    "\n",
    "`IDEAL`: parse L frames `(B,1,L,12)` and predict corresponding sequence `(B,1,L,24)`\n",
    "\n",
    "Then for testing, we can effectively parse the input sequence, predict then plot it."
   ]
  }
 ],
 "metadata": {
  "kernelspec": {
   "display_name": "sdtw",
   "language": "python",
   "name": "python3"
  },
  "language_info": {
   "codemirror_mode": {
    "name": "ipython",
    "version": 3
   },
   "file_extension": ".py",
   "mimetype": "text/x-python",
   "name": "python",
   "nbconvert_exporter": "python",
   "pygments_lexer": "ipython3",
   "version": "3.12.3"
  }
 },
 "nbformat": 4,
 "nbformat_minor": 5
}
