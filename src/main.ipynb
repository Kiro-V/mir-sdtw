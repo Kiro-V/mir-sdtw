{
 "cells": [
  {
   "cell_type": "markdown",
   "id": "8e4bd0ef",
   "metadata": {},
   "source": [
    "# SDTW on Trainging with Unaligned Dataset\n",
    "# Setting up Environment\n",
    "\n",
    "```\n",
    "$ python -m venv sdtw\n",
    "$ source sdtw/bin/activate # for linux\n",
    "$ ./sdtw/Scripts/activate # for windows\n",
    "$ python.exe -m pip install --upgrade pip # upgrade pip\n",
    "$ pip install -r requirements.txt\n",
    "```"
   ]
  },
  {
   "cell_type": "code",
   "execution_count": 2,
   "id": "67cfec6f",
   "metadata": {},
   "outputs": [],
   "source": [
    "import numpy as np\n",
    "import matplotlib.pyplot as plt\n",
    "import soundfile as sf\n",
    "import IPython.core.display as ipd\n",
    "import pandas as pd\n",
    "import os\n",
    "import torch\n",
    "import libfmp.c5\n",
    "\n",
    "from lib.nn_losses.soft_dtw_cuda import SoftDTW\n",
    "from lib.nn_models.nn_dchord import dchord_pipeline\n",
    "from lib.helpers.soft_align import soft_align\n"
   ]
  },
  {
   "cell_type": "markdown",
   "id": "23cb6d90",
   "metadata": {},
   "source": [
    "# Initalize dChord Network"
   ]
  },
  {
   "cell_type": "code",
   "execution_count": 3,
   "id": "5266c611",
   "metadata": {},
   "outputs": [],
   "source": [
    "# Pipeline config\n",
    "\n",
    "compression_params = {'gamma_init': 1.0,\n",
    "                      'trainable': True}\n",
    "\n",
    "temp_smooth_params = {'smoothing_type': 'weighted_sum', \n",
    "                      'avg_length': 51, \n",
    "                      'weight_init': 'uniform'}\n",
    "\n",
    "# temp_smooth_params = {'smoothing_type': 'Gaussian', \n",
    "#                       'avg_length': 51, \n",
    "#                       'sigma_init': 50}\n",
    "\n",
    "feature_norm_params = {'num_features': 12,\n",
    "                       'norm': '2', \n",
    "                       'threshold': 1e-4}\n",
    "\n",
    "chord_template_params = {'shared_weights': True, \n",
    "                         'initialize_parameters': True, \n",
    "                         'normalize_weights': False}\n",
    "\n",
    "softmax_params = {'tau': 1, \n",
    "                  'trainable': False}"
   ]
  },
  {
   "cell_type": "code",
   "execution_count": 4,
   "id": "26151b0e",
   "metadata": {},
   "outputs": [],
   "source": [
    "model = dchord_pipeline(compression_params=compression_params, temp_smooth_params=temp_smooth_params,\n",
    "                        feature_norm_params=feature_norm_params, chord_template_params=chord_template_params,\n",
    "                        softmax_params=softmax_params)"
   ]
  },
  {
   "cell_type": "code",
   "execution_count": 5,
   "id": "59516fb4",
   "metadata": {},
   "outputs": [
    {
     "data": {
      "text/plain": [
       "========================================================================================================================\n",
       "Layer (type:depth-idx)                   Input Shape          Output Shape         Param #              Trainable\n",
       "========================================================================================================================\n",
       "dchord_pipeline                          [1, 1, 51, 12]       [1, 1, 1, 24]        --                   Partial\n",
       "├─log_compression: 1-1                   [1, 1, 51, 12]       [1, 1, 51, 12]       1                    True\n",
       "├─temporal_smoothing: 1-2                [1, 1, 51, 12]       [1, 1, 1, 12]        --                   True\n",
       "│    └─Conv2d: 2-1                       [1, 1, 51, 12]       [1, 1, 1, 12]        51                   True\n",
       "├─feature_normalization: 1-3             [1, 1, 1, 12]        [1, 1, 1, 12]        --                   --\n",
       "├─dchord_templates: 1-4                  [1, 1, 1, 12]        [1, 1, 1, 24]        --                   True\n",
       "│    └─Conv2d: 2-2                       [1, 1, 1, 23]        [1, 2, 1, 12]        24                   True\n",
       "├─softmax_temperature: 1-5               [1, 1, 1, 24]        [1, 1, 1, 24]        (1)                  False\n",
       "========================================================================================================================\n",
       "Total params: 77\n",
       "Trainable params: 76\n",
       "Non-trainable params: 1\n",
       "Total mult-adds (Units.MEGABYTES): 0.00\n",
       "========================================================================================================================\n",
       "Input size (MB): 0.00\n",
       "Forward/backward pass size (MB): 0.01\n",
       "Params size (MB): 0.00\n",
       "Estimated Total Size (MB): 0.01\n",
       "========================================================================================================================"
      ]
     },
     "execution_count": 5,
     "metadata": {},
     "output_type": "execute_result"
    }
   ],
   "source": [
    "import torchinfo\n",
    "\n",
    "torchinfo.summary(model, input_size=(1, 1, temp_smooth_params['avg_length'], 12), col_names=[\"input_size\", \"output_size\", \"num_params\", \"trainable\"], col_width=20)"
   ]
  },
  {
   "cell_type": "code",
   "execution_count": 6,
   "id": "cf9c8262",
   "metadata": {},
   "outputs": [],
   "source": [
    "normalize = False\n",
    "sharp = False\n",
    "sharp_weight_by_avg_alignment_sum = False\n",
    "\n",
    "\n",
    "criterion = SoftDTW(use_cuda=False, gamma=1.0, dist_func=None, normalize=normalize)"
   ]
  },
  {
   "cell_type": "markdown",
   "id": "1337d1b4",
   "metadata": {},
   "source": [
    "# Preparing Data for Training"
   ]
  },
  {
   "cell_type": "code",
   "execution_count": 7,
   "id": "491d789f",
   "metadata": {},
   "outputs": [],
   "source": [
    "nonchord = False\n",
    "data_basedir = './res/data'"
   ]
  },
  {
   "cell_type": "code",
   "execution_count": 8,
   "id": "d6042944",
   "metadata": {},
   "outputs": [],
   "source": [
    "song_dict = {}\n",
    "\n",
    "song_dict[0] = ['LetItB', 'r',\n",
    "                os.path.join(data_basedir, 'FMP_C5_F01_Beatles_LetItBe-mm1-4_Original.wav'),\n",
    "                os.path.join(data_basedir, 'FMP_C5_F01_Beatles_LetItBe-mm1-4_Original_Chords_simplified.csv')]\n",
    "song_dict[1] = ['HereCo', 'b',\n",
    "                os.path.join(data_basedir, 'FMP_C5_Audio_Beatles_HereComesTheSun_Beatles_1969-AbbeyRoad-07.wav'),\n",
    "                os.path.join(data_basedir, 'FMP_C5_Audio_Beatles_HereComesTheSun_Beatles_1969-AbbeyRoad-07_Chords_simplified.csv')]\n",
    "song_dict[2] = ['ObLaDi', 'c',\n",
    "                os.path.join(data_basedir, 'FMP_C5_Audio_Beatles_ObLaDiObLaDa_Beatles_1968-TheBeatlesTheWhiteAlbumDisc1-04.wav'),\n",
    "                os.path.join(data_basedir, 'FMP_C5_Audio_Beatles_ObLaDiObLaDa_Beatles_1968-TheBeatlesTheWhiteAlbumDisc1-04_Chords_simplified.csv')]\n",
    "song_dict[3] = ['PennyL', 'g',\n",
    "                os.path.join(data_basedir, 'FMP_C5_Audio_Beatles_PennyLane_Beatles_1967-MagicalMysteryTour-09.wav'),\n",
    "                os.path.join(data_basedir, 'FMP_C5_Audio_Beatles_PennyLane_Beatles_1967-MagicalMysteryTour-09_Chords_simplified.csv')]"
   ]
  },
  {
   "cell_type": "code",
   "execution_count": 9,
   "id": "febd6180",
   "metadata": {},
   "outputs": [
    {
     "name": "stdout",
     "output_type": "stream",
     "text": [
      "===== Computation of STFT-based chromagrams =====\n",
      "Processing:  LetItB\n",
      "Processing:  HereCo\n",
      "Processing:  ObLaDi\n",
      "Processing:  PennyL\n"
     ]
    }
   ],
   "source": [
    "def compute_X_dict(song_selected, version='STFT', details=True, nonchord=False):\n",
    "    X_dict = {}\n",
    "    Fs_X_dict = {}\n",
    "    ann_dict = {}\n",
    "    x_dur_dict = {}\n",
    "    chord_labels = libfmp.c5.get_chord_labels(ext_minor='m', nonchord=nonchord)\n",
    "    for s in song_selected:\n",
    "        if details is True:\n",
    "            print('Processing: ', song_dict[s][0])\n",
    "        fn_wav = song_dict[s][2]\n",
    "        fn_ann = song_dict[s][3]\n",
    "#         N = 2048\n",
    "#         H = 1024\n",
    "        N = 4096\n",
    "        H = 2048\n",
    "        if version == 'STFT':\n",
    "            X, Fs_X, x, Fs, x_dur = \\\n",
    "                libfmp.c5.compute_chromagram_from_filename(fn_wav, N=N, H=H, gamma=0.1, version='STFT')            # no log compression\n",
    "        if version == 'CQT':\n",
    "            X, Fs_X, x, Fs, x_dur = \\\n",
    "                libfmp.c5.compute_chromagram_from_filename(fn_wav, H=H, version='CQT')                  # no log compression\n",
    "        if version == 'IIR':\n",
    "            X, Fs_X, x, Fs, x_dur = \\\n",
    "                libfmp.c5.compute_chromagram_from_filename(fn_wav, N=N, H=H, gamma=10, version='IIR')             # no log compression\n",
    "            \n",
    "        X_dict[s] = X\n",
    "        Fs_X_dict[s] = Fs_X\n",
    "        x_dur_dict[s] = x_dur\n",
    "        N_X = X.shape[1]\n",
    "        ann_dict[s] = libfmp.c5.convert_chord_ann_matrix(fn_ann, chord_labels, Fs=Fs_X, N=N_X, last=False)\n",
    "    return X_dict, Fs_X_dict, ann_dict, x_dur_dict, chord_labels\n",
    "    \n",
    "song_selected = [0, 1, 2, 3]\n",
    "#song_selected = [0]\n",
    "print('===== Computation of STFT-based chromagrams =====')\n",
    "X_dict_STFT, Fs_X_dict_STFT, ann_dict_STFT, x_dur_dict, chord_labels = compute_X_dict(song_selected, version='STFT', nonchord=nonchord)"
   ]
  },
  {
   "cell_type": "markdown",
   "id": "b493e8d1",
   "metadata": {},
   "source": [
    "## Create Dataset + Dataloader"
   ]
  },
  {
   "cell_type": "code",
   "execution_count": 10,
   "id": "09630557",
   "metadata": {},
   "outputs": [],
   "source": [
    "class dataset_context(torch.utils.data.Dataset):\n",
    "    def __init__(self, inputs, targets, params):\n",
    "        self.inputs = inputs                                # Channels x Time x Chromas\n",
    "        self.targets = targets                              # Time x Chords\n",
    "        self.context = params['context']\n",
    "        self.stride = params['stride']\n",
    "        \n",
    "    def __len__(self):\n",
    "        return (self.inputs.size()[1] - self.context) // self.stride\n",
    "    \n",
    "    def __getitem__(self, index):\n",
    "        index *= self.stride\n",
    "        half_context = self.context // 2\n",
    "        index += half_context\n",
    "        X = self.inputs[:, (index - half_context):(index + half_context + 1), :].type(torch.FloatTensor)\n",
    "        y = torch.unsqueeze(torch.unsqueeze(self.targets[index, :], 0), 1).type(torch.FloatTensor)\n",
    "        return X, y"
   ]
  },
  {
   "cell_type": "code",
   "execution_count": 11,
   "id": "0818baef",
   "metadata": {},
   "outputs": [],
   "source": [
    "class dataset_context(torch.utils.data.Dataset):\n",
    "    def __init__(self, inputs, targets, params):\n",
    "        self.inputs = inputs                                # Channels x Time x Chromas\n",
    "        self.targets = targets                              # Time x Chords\n",
    "        self.context = params['context']\n",
    "        self.stride = params['stride']\n",
    "        \n",
    "    def __len__(self):\n",
    "        return (self.inputs.size()[1] - self.context) // self.stride\n",
    "    \n",
    "    def __getitem__(self, index):\n",
    "        index *= self.stride\n",
    "        half_context = self.context // 2\n",
    "        index += half_context\n",
    "        X = self.inputs[:, (index - half_context):(index + half_context + 1), :].type(torch.FloatTensor)\n",
    "        y = torch.unsqueeze(torch.unsqueeze(self.targets[index, :], 0), 1).type(torch.FloatTensor)\n",
    "        return X, y"
   ]
  },
  {
   "cell_type": "code",
   "execution_count": 12,
   "id": "0d17f999",
   "metadata": {},
   "outputs": [],
   "source": [
    "def create_dataset(data_dict, ann_dict, song_dict, song_indices, dataset_params, dataset_description='train'):\n",
    "    all_datasets = []\n",
    "    half_context = dataset_params['context']//2\n",
    "    \n",
    "    for s in song_indices:\n",
    "        inputs = torch.unsqueeze(torch.from_numpy(np.pad(data_dict[s].T, ((half_context, half_context + 1), (0, 0)))), 0)\n",
    "        targets = torch.from_numpy(np.pad(ann_dict[s][0].T, ((half_context, half_context + 1), (0, 0))))\n",
    "        curr_dataset = dataset_context(inputs, targets, dataset_params)\n",
    "        all_datasets.append(curr_dataset)\n",
    "        \n",
    "        print(f'- {song_dict[s][0]} added to {dataset_description} set. Length: {len(curr_dataset)} segments')\n",
    "        \n",
    "    full_dataset = torch.utils.data.ConcatDataset(all_datasets)     \n",
    "    print(f'Total number of segments in the {dataset_description} set: {len(full_dataset)}')    \n",
    "    return full_dataset"
   ]
  },
  {
   "cell_type": "code",
   "execution_count": 13,
   "id": "5993348f",
   "metadata": {},
   "outputs": [
    {
     "name": "stdout",
     "output_type": "stream",
     "text": [
      "- HereCo added to train set. Length: 1999 segments\n",
      "- ObLaDi added to train set. Length: 2034 segments\n",
      "Total number of segments in the train set: 4033\n",
      "\n",
      "\n",
      "- PennyL added to val set. Length: 1975 segments\n",
      "Total number of segments in the val set: 1975\n"
     ]
    }
   ],
   "source": [
    "train_set_indices = [1, 2]\n",
    "train_set_params = {'context': temp_smooth_params['avg_length'], 'stride': 1}\n",
    "\n",
    "train_set = create_dataset(data_dict=X_dict_STFT, \n",
    "                           ann_dict=ann_dict_STFT, \n",
    "                           song_dict=song_dict, \n",
    "                           song_indices=train_set_indices, \n",
    "                           dataset_params=train_set_params, \n",
    "                           dataset_description='train')\n",
    "\n",
    "print('\\n')\n",
    "\n",
    "val_set_indices = [3]\n",
    "val_set_params = {'context': temp_smooth_params['avg_length'], 'stride': 1}\n",
    "\n",
    "val_set = create_dataset(data_dict=X_dict_STFT, \n",
    "                         ann_dict=ann_dict_STFT, \n",
    "                         song_dict=song_dict, \n",
    "                         song_indices=val_set_indices, \n",
    "                         dataset_params=val_set_params, \n",
    "                         dataset_description='val')"
   ]
  },
  {
   "cell_type": "code",
   "execution_count": 14,
   "id": "96e809cc",
   "metadata": {},
   "outputs": [
    {
     "name": "stdout",
     "output_type": "stream",
     "text": [
      "Training data loader contains 81 mini batches.\n",
      "Validation data loader contains 40 mini batches.\n"
     ]
    }
   ],
   "source": [
    "train_loader_params = {'batch_size': 50, 'shuffle': True, 'num_workers': 0}\n",
    "train_loader = torch.utils.data.DataLoader(train_set, **train_loader_params)\n",
    "print(f'Training data loader contains {len(train_loader)} mini batches.')\n",
    "\n",
    "val_loader_params = {'batch_size': 50, 'shuffle': False, 'num_workers': 0}\n",
    "val_loader = torch.utils.data.DataLoader(val_set, **val_loader_params)\n",
    "print(f'Validation data loader contains {len(val_loader)} mini batches.')"
   ]
  },
  {
   "cell_type": "markdown",
   "id": "73cccb80",
   "metadata": {},
   "source": [
    "# Train Pipeline"
   ]
  },
  {
   "cell_type": "markdown",
   "id": "e8475e09",
   "metadata": {},
   "source": [
    "## Specify which parameters to optimize"
   ]
  },
  {
   "cell_type": "code",
   "execution_count": 15,
   "id": "b73a50b3",
   "metadata": {},
   "outputs": [
    {
     "name": "stdout",
     "output_type": "stream",
     "text": [
      "Trainable parameters:\n",
      "\n",
      "'log_compression.log_gamma'\n",
      "'temporal_smoothing.filter.weight'\n",
      "'chord_template_params.filter.weight'\n"
     ]
    }
   ],
   "source": [
    "print('Trainable parameters:\\n')\n",
    "\n",
    "trainable_parameters = []\n",
    "for name, param in model.named_parameters():\n",
    "    if param.requires_grad:\n",
    "        trainable_parameters.append(name)\n",
    "        print(f\"'{name}'\") "
   ]
  },
  {
   "cell_type": "markdown",
   "id": "ac57e9e8",
   "metadata": {},
   "source": [
    "Optimization mode $\\in \\{0, 1, 2 \\}$:  \n",
    "- 0: optimize all trainable parameters \n",
    "- 1: optimize **all** trainable parameters **except** the ones specified in `frozen_parameters`\n",
    "- 2: optimize **only** the parameters specified in `trained_parameters`\n",
    "\n",
    "(`frozen_parameters` and `trained_parameters` must be lists of strings and a subset of the trainable parameters shown above)\n",
    "\n",
    "For no optimization at all: set training epochs to zero."
   ]
  },
  {
   "cell_type": "code",
   "execution_count": 16,
   "id": "7f42e473",
   "metadata": {},
   "outputs": [],
   "source": [
    "optimization_mode = 0\n",
    "\n",
    "if optimization_mode == 1:\n",
    "    frozen_parameters = []           \n",
    "\n",
    "if optimization_mode == 2:\n",
    "    trained_parameters = []"
   ]
  },
  {
   "cell_type": "code",
   "execution_count": 17,
   "id": "e86770d1",
   "metadata": {},
   "outputs": [],
   "source": [
    "if optimization_mode == 0:\n",
    "    parameters_to_optimize = model.parameters()\n",
    "    \n",
    "elif optimization_mode == 1:\n",
    "    parameters_to_optimize = []\n",
    "\n",
    "    for name, param in model.named_parameters():\n",
    "        if not name in frozen_parameters:\n",
    "            parameters_to_optimize.append(param)\n",
    "            \n",
    "elif optimization_mode == 2:\n",
    "    parameters_to_optimize = []\n",
    "\n",
    "    for name, param in model.named_parameters():\n",
    "        if name in trained_parameters:\n",
    "            parameters_to_optimize.append(param)"
   ]
  },
  {
   "cell_type": "markdown",
   "id": "2b272ae7",
   "metadata": {},
   "source": [
    "### Set Optimizer, Training Parameters and Loss"
   ]
  },
  {
   "cell_type": "code",
   "execution_count": 18,
   "id": "feb78770",
   "metadata": {},
   "outputs": [],
   "source": [
    "optim_params = {'lr': 0.01, 'betas': (0.9, 0.999)}\n",
    "optimizer = torch.optim.Adam(parameters_to_optimize, **optim_params)"
   ]
  },
  {
   "cell_type": "code",
   "execution_count": 19,
   "id": "2e8b3993",
   "metadata": {},
   "outputs": [],
   "source": [
    "training_params = {'device': 'cpu', 'max_epochs': 50}\n",
    "# training_params = {'device': 'cuda:0', 'max_epochs': 25}\n",
    "\n",
    "# weights for fighting class imbalance major / minor in training dataset\n",
    "weight = torch.cat((torch.ones(12), torch.ones(12)))           \n",
    "# weight = torch.cat((torch.ones(12), 19*torch.ones(12)))\n",
    "\n",
    "crit = torch.nn.NLLLoss(weight=weight, reduction='mean').to(training_params['device'])  # Categorical CE without log"
   ]
  },
  {
   "cell_type": "code",
   "execution_count": 20,
   "id": "d5ed4f25",
   "metadata": {},
   "outputs": [],
   "source": [
    "normalize = False\n",
    "sharp = False\n",
    "sharp_weight_by_avg_alignment_sum = False\n",
    "\n",
    "\n",
    "crit = SoftDTW(use_cuda=False, gamma=1.0, dist_func=None, normalize=normalize)"
   ]
  },
  {
   "cell_type": "markdown",
   "id": "3100bb07",
   "metadata": {},
   "source": [
    "### Network Training\n",
    "\n",
    "Train the model. After each training epoch (one iteration over the train dataloader), evaluate performanceon the validation set. We use a variable `best_model` that contains the current best model (the model with the overall lowest validation loss). At the end of the training, the `best_model` ist used for evaluation."
   ]
  },
  {
   "cell_type": "code",
   "execution_count": null,
   "id": "099115cd",
   "metadata": {},
   "outputs": [
    {
     "name": "stdout",
     "output_type": "stream",
     "text": [
      "With grad\n",
      "With grad\n",
      "With grad\n",
      "With grad\n",
      "With grad\n",
      "With grad\n",
      "With grad\n",
      "With grad\n",
      "With grad\n",
      "With grad\n",
      "With grad\n",
      "With grad\n",
      "With grad\n",
      "With grad\n",
      "With grad\n",
      "With grad\n",
      "With grad\n",
      "With grad\n",
      "With grad\n",
      "With grad\n",
      "With grad\n",
      "With grad\n",
      "With grad\n",
      "With grad\n",
      "With grad\n",
      "With grad\n",
      "With grad\n",
      "With grad\n",
      "With grad\n",
      "With grad\n",
      "With grad\n",
      "With grad\n",
      "With grad\n",
      "With grad\n",
      "With grad\n",
      "With grad\n",
      "With grad\n",
      "With grad\n",
      "With grad\n",
      "With grad\n",
      "With grad\n",
      "With grad\n",
      "With grad\n",
      "With grad\n",
      "With grad\n",
      "With grad\n",
      "With grad\n",
      "With grad\n",
      "With grad\n",
      "With grad\n",
      "With grad\n",
      "With grad\n",
      "With grad\n",
      "With grad\n",
      "With grad\n",
      "With grad\n",
      "With grad\n",
      "With grad\n",
      "With grad\n",
      "With grad\n",
      "With grad\n",
      "With grad\n",
      "With grad\n",
      "With grad\n",
      "With grad\n",
      "With grad\n",
      "With grad\n",
      "With grad\n",
      "With grad\n",
      "With grad\n",
      "With grad\n",
      "With grad\n",
      "With grad\n",
      "With grad\n",
      "With grad\n",
      "With grad\n",
      "With grad\n",
      "With grad\n",
      "With grad\n",
      "With grad\n",
      "With grad\n",
      "No grad\n"
     ]
    },
    {
     "ename": "ValueError",
     "evalue": "too many values to unpack (expected 3)",
     "output_type": "error",
     "traceback": [
      "\u001b[0;31m---------------------------------------------------------------------------\u001b[0m",
      "\u001b[0;31mValueError\u001b[0m                                Traceback (most recent call last)",
      "\u001b[0;32m/tmp/ipykernel_202105/1537407179.py\u001b[0m in \u001b[0;36m<cell line: 0>\u001b[0;34m()\u001b[0m\n\u001b[1;32m     53\u001b[0m             \u001b[0my_pred_log_val\u001b[0m \u001b[0;34m=\u001b[0m \u001b[0mtorch\u001b[0m\u001b[0;34m.\u001b[0m\u001b[0mswapaxes\u001b[0m\u001b[0;34m(\u001b[0m\u001b[0mtorch\u001b[0m\u001b[0;34m.\u001b[0m\u001b[0mlog\u001b[0m\u001b[0;34m(\u001b[0m\u001b[0my_pred_val\u001b[0m\u001b[0;34m)\u001b[0m\u001b[0;34m,\u001b[0m \u001b[0;36m1\u001b[0m\u001b[0;34m,\u001b[0m \u001b[0;36m3\u001b[0m\u001b[0;34m)\u001b[0m\u001b[0;34m\u001b[0m\u001b[0;34m\u001b[0m\u001b[0m\n\u001b[1;32m     54\u001b[0m \u001b[0;34m\u001b[0m\u001b[0m\n\u001b[0;32m---> 55\u001b[0;31m             \u001b[0mloss_val\u001b[0m \u001b[0;34m=\u001b[0m \u001b[0mcrit\u001b[0m\u001b[0;34m(\u001b[0m\u001b[0my_pred_log_val\u001b[0m\u001b[0;34m,\u001b[0m \u001b[0my_indices_val\u001b[0m\u001b[0;34m)\u001b[0m\u001b[0;34m\u001b[0m\u001b[0;34m\u001b[0m\u001b[0m\n\u001b[0m\u001b[1;32m     56\u001b[0m             \u001b[0maccum_loss_val\u001b[0m \u001b[0;34m+=\u001b[0m \u001b[0mloss_val\u001b[0m\u001b[0;34m.\u001b[0m\u001b[0mitem\u001b[0m\u001b[0;34m(\u001b[0m\u001b[0;34m)\u001b[0m\u001b[0;34m\u001b[0m\u001b[0;34m\u001b[0m\u001b[0m\n\u001b[1;32m     57\u001b[0m             \u001b[0mn_batches_val\u001b[0m \u001b[0;34m+=\u001b[0m \u001b[0;36m1\u001b[0m\u001b[0;34m\u001b[0m\u001b[0;34m\u001b[0m\u001b[0m\n",
      "\u001b[0;32m~/Arbeit/Research Internship/mir-sdtw/sdtw/lib/python3.12/site-packages/torch/nn/modules/module.py\u001b[0m in \u001b[0;36m_wrapped_call_impl\u001b[0;34m(self, *args, **kwargs)\u001b[0m\n\u001b[1;32m   1749\u001b[0m             \u001b[0;32mreturn\u001b[0m \u001b[0mself\u001b[0m\u001b[0;34m.\u001b[0m\u001b[0m_compiled_call_impl\u001b[0m\u001b[0;34m(\u001b[0m\u001b[0;34m*\u001b[0m\u001b[0margs\u001b[0m\u001b[0;34m,\u001b[0m \u001b[0;34m**\u001b[0m\u001b[0mkwargs\u001b[0m\u001b[0;34m)\u001b[0m  \u001b[0;31m# type: ignore[misc]\u001b[0m\u001b[0;34m\u001b[0m\u001b[0;34m\u001b[0m\u001b[0m\n\u001b[1;32m   1750\u001b[0m         \u001b[0;32melse\u001b[0m\u001b[0;34m:\u001b[0m\u001b[0;34m\u001b[0m\u001b[0;34m\u001b[0m\u001b[0m\n\u001b[0;32m-> 1751\u001b[0;31m             \u001b[0;32mreturn\u001b[0m \u001b[0mself\u001b[0m\u001b[0;34m.\u001b[0m\u001b[0m_call_impl\u001b[0m\u001b[0;34m(\u001b[0m\u001b[0;34m*\u001b[0m\u001b[0margs\u001b[0m\u001b[0;34m,\u001b[0m \u001b[0;34m**\u001b[0m\u001b[0mkwargs\u001b[0m\u001b[0;34m)\u001b[0m\u001b[0;34m\u001b[0m\u001b[0;34m\u001b[0m\u001b[0m\n\u001b[0m\u001b[1;32m   1752\u001b[0m \u001b[0;34m\u001b[0m\u001b[0m\n\u001b[1;32m   1753\u001b[0m     \u001b[0;31m# torchrec tests the code consistency with the following code\u001b[0m\u001b[0;34m\u001b[0m\u001b[0;34m\u001b[0m\u001b[0m\n",
      "\u001b[0;32m~/Arbeit/Research Internship/mir-sdtw/sdtw/lib/python3.12/site-packages/torch/nn/modules/module.py\u001b[0m in \u001b[0;36m_call_impl\u001b[0;34m(self, *args, **kwargs)\u001b[0m\n\u001b[1;32m   1760\u001b[0m                 \u001b[0;32mor\u001b[0m \u001b[0m_global_backward_pre_hooks\u001b[0m \u001b[0;32mor\u001b[0m \u001b[0m_global_backward_hooks\u001b[0m\u001b[0;34m\u001b[0m\u001b[0;34m\u001b[0m\u001b[0m\n\u001b[1;32m   1761\u001b[0m                 \u001b[0;32mor\u001b[0m \u001b[0m_global_forward_hooks\u001b[0m \u001b[0;32mor\u001b[0m \u001b[0m_global_forward_pre_hooks\u001b[0m\u001b[0;34m)\u001b[0m\u001b[0;34m:\u001b[0m\u001b[0;34m\u001b[0m\u001b[0;34m\u001b[0m\u001b[0m\n\u001b[0;32m-> 1762\u001b[0;31m             \u001b[0;32mreturn\u001b[0m \u001b[0mforward_call\u001b[0m\u001b[0;34m(\u001b[0m\u001b[0;34m*\u001b[0m\u001b[0margs\u001b[0m\u001b[0;34m,\u001b[0m \u001b[0;34m**\u001b[0m\u001b[0mkwargs\u001b[0m\u001b[0;34m)\u001b[0m\u001b[0;34m\u001b[0m\u001b[0;34m\u001b[0m\u001b[0m\n\u001b[0m\u001b[1;32m   1763\u001b[0m \u001b[0;34m\u001b[0m\u001b[0m\n\u001b[1;32m   1764\u001b[0m         \u001b[0mresult\u001b[0m \u001b[0;34m=\u001b[0m \u001b[0;32mNone\u001b[0m\u001b[0;34m\u001b[0m\u001b[0;34m\u001b[0m\u001b[0m\n",
      "\u001b[0;32m~/Arbeit/Research Internship/mir-sdtw/src/lib/nn_losses/soft_dtw_cuda.py\u001b[0m in \u001b[0;36mforward\u001b[0;34m(self, X, Y)\u001b[0m\n\u001b[1;32m    337\u001b[0m \u001b[0;34m\u001b[0m\u001b[0m\n\u001b[1;32m    338\u001b[0m         \u001b[0;31m# Check the inputs and get the correct implementation\u001b[0m\u001b[0;34m\u001b[0m\u001b[0;34m\u001b[0m\u001b[0m\n\u001b[0;32m--> 339\u001b[0;31m         \u001b[0mfunc_dtw\u001b[0m \u001b[0;34m=\u001b[0m \u001b[0mself\u001b[0m\u001b[0;34m.\u001b[0m\u001b[0m_get_func_dtw\u001b[0m\u001b[0;34m(\u001b[0m\u001b[0mX\u001b[0m\u001b[0;34m,\u001b[0m \u001b[0mY\u001b[0m\u001b[0;34m)\u001b[0m\u001b[0;34m\u001b[0m\u001b[0;34m\u001b[0m\u001b[0m\n\u001b[0m\u001b[1;32m    340\u001b[0m \u001b[0;34m\u001b[0m\u001b[0m\n\u001b[1;32m    341\u001b[0m         \u001b[0;32mif\u001b[0m \u001b[0mself\u001b[0m\u001b[0;34m.\u001b[0m\u001b[0mnormalize\u001b[0m\u001b[0;34m:\u001b[0m\u001b[0;34m\u001b[0m\u001b[0;34m\u001b[0m\u001b[0m\n",
      "\u001b[0;32m~/Arbeit/Research Internship/mir-sdtw/src/lib/nn_losses/soft_dtw_cuda.py\u001b[0m in \u001b[0;36m_get_func_dtw\u001b[0;34m(self, x, y)\u001b[0m\n\u001b[1;32m    302\u001b[0m         \u001b[0mChecks\u001b[0m \u001b[0mthe\u001b[0m \u001b[0minputs\u001b[0m \u001b[0;32mand\u001b[0m \u001b[0mselects\u001b[0m \u001b[0mthe\u001b[0m \u001b[0mproper\u001b[0m \u001b[0mimplementation\u001b[0m \u001b[0mto\u001b[0m \u001b[0muse\u001b[0m\u001b[0;34m.\u001b[0m\u001b[0;34m\u001b[0m\u001b[0;34m\u001b[0m\u001b[0m\n\u001b[1;32m    303\u001b[0m         \"\"\"\n\u001b[0;32m--> 304\u001b[0;31m         \u001b[0mbx\u001b[0m\u001b[0;34m,\u001b[0m \u001b[0mlx\u001b[0m\u001b[0;34m,\u001b[0m \u001b[0mdx\u001b[0m \u001b[0;34m=\u001b[0m \u001b[0mx\u001b[0m\u001b[0;34m.\u001b[0m\u001b[0mshape\u001b[0m\u001b[0;34m\u001b[0m\u001b[0;34m\u001b[0m\u001b[0m\n\u001b[0m\u001b[1;32m    305\u001b[0m         \u001b[0mby\u001b[0m\u001b[0;34m,\u001b[0m \u001b[0mly\u001b[0m\u001b[0;34m,\u001b[0m \u001b[0mdy\u001b[0m \u001b[0;34m=\u001b[0m \u001b[0my\u001b[0m\u001b[0;34m.\u001b[0m\u001b[0mshape\u001b[0m\u001b[0;34m\u001b[0m\u001b[0;34m\u001b[0m\u001b[0m\n\u001b[1;32m    306\u001b[0m         \u001b[0;31m# Make sure the dimensions match\u001b[0m\u001b[0;34m\u001b[0m\u001b[0;34m\u001b[0m\u001b[0m\n",
      "\u001b[0;31mValueError\u001b[0m: too many values to unpack (expected 3)"
     ]
    }
   ],
   "source": [
    "# reduced version of libdl.training.trainer\n",
    "\n",
    "from copy import deepcopy\n",
    "\n",
    "model_pipeline = model.to(training_params['device'])\n",
    "\n",
    "# for always keeping the best model\n",
    "best_model = deepcopy(model_pipeline)\n",
    "best_val_loss = None\n",
    "best_epoch = None\n",
    "\n",
    "train_losses = []\n",
    "val_losses = []\n",
    "\n",
    "for epoch in range(training_params['max_epochs']):\n",
    "    # set model to training mode; relevant, e.g., for BatchNorm, Dropout (does not change anything for our model here)\n",
    "    model_pipeline.train()\n",
    "    \n",
    "    with torch.enable_grad():\n",
    "        accum_loss, n_batches = 0, 0\n",
    "        for X, y in train_loader:\n",
    "            X, y = X.to(training_params['device']), y.to(training_params['device'])\n",
    "\n",
    "            # get model prediction\n",
    "            y_pred = model_pipeline(X)\n",
    "\n",
    "            # Remove channel dimension\n",
    "            y_pred = torch.squeeze(y_pred, 1)  # remove the channel dimension\n",
    "            y = torch.squeeze(y, 1)  # remove the channel dimension\n",
    "\n",
    "            loss = crit(y_pred, y )\n",
    "\n",
    "            # backpropagation + optimization\n",
    "            optimizer.zero_grad()\n",
    "            loss.mean().backward()\n",
    "            optimizer.step()\n",
    "            accum_loss += loss.mean().item()\n",
    "            n_batches += 1\n",
    "        \n",
    "    # set model to evaluation mode\n",
    "    model_pipeline.eval()\n",
    "    \n",
    "    with torch.no_grad():    \n",
    "        accum_loss_val, n_batches_val = 0, 0\n",
    "        for X_val, y_val in val_loader:\n",
    "            X_val, y_val = X_val.to(training_params['device']), y_val.to(training_params['device'])\n",
    "\n",
    "            y_pred_val = model_pipeline(X_val)\n",
    "            \n",
    "            # Remove channel dimension\n",
    "            y_pred_val = torch.squeeze(y_pred_val, 1)  # remove the channel\n",
    "            y_val = torch.squeeze(y_val, 1)\n",
    "\n",
    "            # get loss value\n",
    "            loss_val = crit(y_pred, y)\n",
    "            accum_loss_val += loss_val.mean().item()\n",
    "            n_batches_val += 1        \n",
    "\n",
    "    train_loss = accum_loss / n_batches\n",
    "    val_loss = accum_loss_val / n_batches_val\n",
    "    print(f'Finished epoch {epoch}. Train Loss: {train_loss:.4f}, Val Loss: {val_loss:.4f}')\n",
    "    \n",
    "    if best_val_loss is None or val_loss < best_val_loss:\n",
    "        best_val_loss = val_loss\n",
    "        best_model = deepcopy(model_pipeline)\n",
    "        best_epoch = epoch\n",
    "        print('    ...saved model')\n",
    "        \n",
    "    train_losses.append(train_loss)\n",
    "    val_losses.append(val_loss)\n",
    "        \n",
    "model_pipeline = deepcopy(best_model)\n",
    "print(f'\\nRestored model from epoch {best_epoch}.')"
   ]
  },
  {
   "cell_type": "code",
   "execution_count": null,
   "id": "7947eafc",
   "metadata": {},
   "outputs": [
    {
     "data": {
      "image/png": "[encoded data removed]",
      "text/plain": [
       "<Figure size 640x480 with 1 Axes>"
      ]
     },
     "metadata": {},
     "output_type": "display_data"
    }
   ],
   "source": [
    "if len(train_losses) > 1:\n",
    "    plt.plot(train_losses, label='Train Loss')\n",
    "    plt.plot(val_losses, label='Val Loss')\n",
    "    plt.xlabel('Epoch')\n",
    "    plt.ylabel('Loss')\n",
    "    plt.title('Loss Curve')\n",
    "    plt.legend()\n",
    "    plt.show()"
   ]
  }
 ],
 "metadata": {
  "kernelspec": {
   "display_name": "sdtw",
   "language": "python",
   "name": "python3"
  },
  "language_info": {
   "codemirror_mode": {
    "name": "ipython",
    "version": 3
   },
   "file_extension": ".py",
   "mimetype": "text/x-python",
   "name": "python",
   "nbconvert_exporter": "python",
   "pygments_lexer": "ipython3",
   "version": "3.12.3"
  }
 },
 "nbformat": 4,
 "nbformat_minor": 5
}
