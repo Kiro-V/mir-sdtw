{
 "cells": [
  {
   "cell_type": "code",
   "execution_count": 16,
   "id": "d44f8960-8c38-4c82-936f-98d0a21f12f7",
   "metadata": {
    "ExecuteTime": {
     "end_time": "2025-07-03T15:02:52.938981Z",
     "start_time": "2025-07-03T15:02:35.180807100Z"
    }
   },
   "outputs": [],
   "source": [
    "import os\n",
    "import numpy as np\n",
    "import matplotlib\n",
    "from matplotlib import pyplot as plt\n",
    "import librosa\n",
    "\n",
    "import sys\n",
    "sys.path.append('../..')\n",
    "import libfmp.b\n",
    "import libfmp.c3\n",
    "import libfmp.c4\n",
    "import libfmp.c5\n",
    "%matplotlib inline\n",
    "\n",
    "data_basedir = os.path.join('.', 'data', 'dChord')\n",
    "\n",
    "import torch \n",
    "import torch.nn.functional as F\n",
    "from torchinfo import summary\n",
    "\n",
    "from copy import deepcopy"
   ]
  },
  {
   "cell_type": "markdown",
   "id": "52467d29-0db7-4f95-b7f2-d63d42d9e744",
   "metadata": {},
   "source": [
    "## Network configuration"
   ]
  },
  {
   "cell_type": "code",
   "execution_count": 17,
   "id": "d1b01ba9-c92a-4dd6-91c7-6c28c20de456",
   "metadata": {
    "ExecuteTime": {
     "end_time": "2025-07-03T15:13:33.823919700Z",
     "start_time": "2025-07-03T15:13:33.771060300Z"
    }
   },
   "outputs": [],
   "source": [
    "# code copied from libdl.nn_models.cnns_chord_recog\n",
    "\n",
    "class log_compression(torch.nn.Module):\n",
    "    \"\"\"Module for logarithmic compression of an array\n",
    "\n",
    "    Args:\n",
    "        gamma: Compression factor\n",
    "        trainable: Whether the gradient w.r.t. gamma is computed in backward pass\n",
    "    \"\"\"\n",
    "    def __init__(self, gamma_init=1, trainable=True):\n",
    "        super(log_compression, self).__init__()\n",
    "\n",
    "        # define logarithm of gamma as trainable parameter\n",
    "        if gamma_init is not None:\n",
    "            self.log_gamma = torch.nn.parameter.Parameter(data=torch.log(torch.as_tensor(gamma_init, dtype=torch.float32)), requires_grad=trainable)\n",
    "        else:\n",
    "            self.log_gamma = None\n",
    "\n",
    "    def forward(self, x):\n",
    "        if self.log_gamma is not None:\n",
    "            return torch.log(1.0 + torch.exp(self.log_gamma) * x)\n",
    "        else:\n",
    "            return x\n",
    "\n",
    "\n",
    "class gaussian_filter(torch.nn.Module):\n",
    "    \"\"\"Module for generating a 1D Gaussian filter\n",
    "\n",
    "    Args:\n",
    "        length: kernel length\n",
    "        sigma: (initial) standard deviation for Gaussian kernel\n",
    "        dim: dimension across which to apply the filter; output tensor will have singleton dimension at 'dim'\n",
    "        trainable: whether to optimize the standard deviation\n",
    "    \"\"\"\n",
    "    def __init__(self, length=41, sigma_init=1, dim=2, trainable=True):\n",
    "        super(gaussian_filter, self).__init__()\n",
    "\n",
    "        self.length = length\n",
    "        self.dim = dim\n",
    "\n",
    "        if sigma_init is None:\n",
    "            sigma_init = length\n",
    "        self.log_sigma = torch.nn.parameter.Parameter(data=torch.log(torch.as_tensor(sigma_init, dtype=torch.float32)), requires_grad=trainable)\n",
    "\n",
    "    def forward(self, x):\n",
    "        idx = x.ndim * [1]\n",
    "        idx[self.dim] = self.length\n",
    "        w = self.get_kernel()\n",
    "        x_smoothed = torch.sum(x * w.view(*idx), dim=self.dim, keepdim=True)\n",
    "        return x_smoothed\n",
    "\n",
    "    def get_kernel(self):\n",
    "        n = torch.arange(0, self.length).to(self.log_sigma.device) - (self.length - 1.0) / 2.0\n",
    "        sig2 = 2 * torch.exp(self.log_sigma) ** 2\n",
    "        w = torch.exp(-n ** 2 / sig2)\n",
    "        return w / torch.sum(w)\n",
    "\n",
    "\n",
    "class temporal_smoothing(torch.nn.Module):\n",
    "    \"\"\"Module for temporal smoothing of a feature sequence.\n",
    "\n",
    "    Args:\n",
    "        smoothing_type: Either 'weighted_sum', 'median' or 'Gaussian'\n",
    "        avg_length: Length to be averaged over; only relevant for 'weighted_sum' and 'Gaussian' (median is taken over whole input length)\n",
    "        weight_init: How to initialize (trainable) weights, only relevant for 'weighted_sum' (either 'uniform' or 'random')\n",
    "    \"\"\"\n",
    "    def __init__(self, smoothing_type='weighted_sum', avg_length=41, weight_init='uniform', sigma_init=20):\n",
    "        super(temporal_smoothing, self).__init__()\n",
    "        if smoothing_type not in {'weighted_sum', 'median', 'Gaussian'}:\n",
    "            raise ValueError('Smoothing type ' + smoothing_type + ' is unknown!')\n",
    "\n",
    "        if weight_init not in {'random', 'uniform'}:\n",
    "            raise ValueError('Weight initialization ' + weight_init + ' is unknown!')\n",
    "\n",
    "        self.avg_length = avg_length\n",
    "\n",
    "        if smoothing_type == 'weighted_sum':\n",
    "            self.filter = torch.nn.Conv2d(in_channels=1, out_channels=1, kernel_size=(avg_length, 1),\n",
    "                                    stride=(1, 1), bias=False, padding='valid')\n",
    "\n",
    "            if weight_init == 'random':\n",
    "                pass\n",
    "            elif weight_init == 'uniform':\n",
    "                self.filter.weight.data = torch.ones_like(self.filter.weight.data) / avg_length\n",
    "\n",
    "        elif smoothing_type == 'median':\n",
    "            self.filter = lambda x: torch.median(x, dim=2, keepdim=True,).values\n",
    "\n",
    "        elif smoothing_type == 'Gaussian':\n",
    "            self.filter = gaussian_filter(length=avg_length, sigma_init=sigma_init, dim=2, trainable=True)\n",
    "\n",
    "    def forward(self, x):\n",
    "        # treat channels as batch dimension to use conv. layer with 1 channel\n",
    "        x_reshaped = x.view(-1, 1, *x.shape[2:])\n",
    "        x_filtered = self.filter(x_reshaped)\n",
    "        return x_filtered.view(*x.shape[:2], *x_filtered.shape[2:])\n",
    "\n",
    "\n",
    "class feature_normalization(torch.nn.Module):\n",
    "    \"\"\"Module for feature normalization\n",
    "\n",
    "    Args:\n",
    "        num_features: Number of features\n",
    "        norm: The norm to be applied. '1', '2', 'max' or 'z'\n",
    "        threshold: Threshold below which the vector `v` is used instead of normalization\n",
    "        v: Used instead of normalization below `threshold`. If None, uses unit vector for given norm\n",
    "    \"\"\"\n",
    "    def __init__(self, num_features=12, norm='2', threshold=1e-4, v=None, dim=3):\n",
    "        super(feature_normalization, self).__init__()\n",
    "        if norm not in ['1', '2', 'max', 'z']:\n",
    "            raise ValueError('Norm ' + norm + ' is unknown!')\n",
    "\n",
    "        self.threshold = threshold\n",
    "        self.v = v\n",
    "\n",
    "        if norm == '1':\n",
    "            if self.v is None:\n",
    "                self.v = torch.ones(num_features, dtype=torch.float32) / num_features\n",
    "            self.get_norms = lambda x: torch.linalg.vector_norm(x, ord=1.0, dim=dim, keepdim=False)\n",
    "            self.normalize = lambda x: F.normalize(x, p=1.0, dim=dim, eps=threshold)\n",
    "\n",
    "        if norm == '2':\n",
    "            if self.v is None:\n",
    "                self.v = torch.ones(num_features, dtype=torch.float32) / torch.sqrt(torch.tensor([num_features]))\n",
    "            self.get_norms = lambda x: torch.linalg.vector_norm(x, ord=2.0, dim=dim, keepdim=False)\n",
    "            self.normalize = lambda x: F.normalize(x, p=2.0, dim=dim, eps=threshold)\n",
    "\n",
    "        if norm == 'max':\n",
    "            if self.v is None:\n",
    "                self.v = torch.ones(num_features, dtype=torch.float32)\n",
    "            self.get_norms = lambda x: torch.linalg.vector_norm(x, ord=float('inf'), dim=dim, keepdim=False)\n",
    "            self.normalize = lambda x: F.normalize(x, p=float('inf'), dim=dim, eps=threshold)\n",
    "\n",
    "        if norm == 'z':\n",
    "            if self.v is None:\n",
    "                self.v = torch.zeros(num_features)\n",
    "            self.get_norms = lambda x: torch.std(x, dim=dim, keepdim=False, unbiased=True)\n",
    "            self.normalize = lambda x: (x - torch.mean(x, dim=dim, keepdim=True)) / torch.std(x, dim=dim, keepdim=True,\n",
    "                                                                                              unbiased=True)\n",
    "    def forward(self, x):\n",
    "        x_norms = self.get_norms(x)\n",
    "        idx = x_norms > self.threshold\n",
    "        x_normalized = x.clone()\n",
    "        x_normalized = self.normalize(x_normalized)\n",
    "        x_normalized[~idx] = self.v.to(x.device)\n",
    "        return x_normalized\n",
    "\n",
    "\n",
    "class chord_recognition_templates(torch.nn.Module):\n",
    "    \"\"\"Module for applying template-based chord recognition to chroma features.\n",
    "\n",
    "    Args:\n",
    "        shared_weights: Whether to use 2 shared kernels (maj/min) or 24 individual chord templates\n",
    "        initialize_parameters: Whether to initialize kernels with idealized binary chord templates and zero bias\n",
    "        normalize_weights: Whether to normalize all templates to unit Euclidean norm\n",
    "        bias: Whether to allow for a trainable bias\n",
    "    \"\"\"\n",
    "    def __init__(self, shared_weights=True, initialize_parameters=True, normalize_weights=True, bias=False):\n",
    "        super(chord_recognition_templates, self).__init__()\n",
    "        self.include_blank = include_blank\n",
    "\n",
    "        if shared_weights:\n",
    "            self.padding = lambda x: F.pad(x, pad=(0, 11, 0, 0), mode='circular')\n",
    "            self.filter = torch.nn.Conv2d(in_channels=1, out_channels=3 if include_blank else 2, kernel_size=(1, 12), stride=(1, 1), bias=bias)\n",
    "            if initialize_parameters:\n",
    "                self.filter.weight.data = torch.zeros_like(self.filter.weight.data)\n",
    "                self.filter.weight.data[0, 0, 0, :] = torch.tensor([1, 0, 0, 0, 1, 0, 0, 1, 0, 0, 0, 0], dtype=torch.float32) # major\n",
    "                self.filter.weight.data[1, 0, 0, :] = torch.tensor([1, 0, 0, 1, 0, 0, 0, 1, 0, 0, 0, 0], dtype=torch.float32) # minor\n",
    "                # self.filter.weight.data = torch.tensor([[[[1, 0, 0, 0, 1, 0, 0, 1, 0, 0, 0, 0]]],     # major\n",
    "                #                                         [[[1, 0, 0, 1, 0, 0, 0, 1, 0, 0, 0, 0]]]],    # minor\n",
    "                                                       # dtype=torch.float32)\n",
    "                if include_blank:\n",
    "                    self.filter.weight.data[2, 0, 0, :] = torch.ones(12)/12\n",
    "                if self.filter.bias is not None:\n",
    "                    self.filter.bias.data = torch.zeros_like(self.filter.bias.data, dtype=torch.float32)\n",
    "\n",
    "        else:\n",
    "            self.padding = lambda x: x\n",
    "            self.filter = torch.nn.Conv2d(in_channels=1, out_channels=25 if include_blank else 24, kernel_size=(1, 12), stride=(1, 1), bias=bias)\n",
    "            if initialize_parameters:\n",
    "                kernel_major = torch.tensor([1, 0, 0, 0, 1, 0, 0, 1, 0, 0, 0, 0])\n",
    "                kernel_minor = torch.tensor([1, 0, 0, 1, 0, 0, 0, 1, 0, 0, 0, 0])\n",
    "\n",
    "                for i in range(12):\n",
    "                    self.filter.weight.data[i, 0, 0, :] = torch.roll(kernel_major, i)\n",
    "                    self.filter.weight.data[12 + i, 0, 0, :] = torch.roll(kernel_minor, i)\n",
    "                if include_blank:\n",
    "                    self.filter.weight.data[24, 0, 0, :] = torch.ones(12) / 12\n",
    "\n",
    "                if self.filter.bias is not None:\n",
    "                    self.filter.bias.data = torch.zeros_like(self.filter.bias.data, dtype=torch.float32)\n",
    "\n",
    "        if normalize_weights:\n",
    "            self.filter.weight.data = F.normalize(self.filter.weight.data, p=2.0, dim=3)\n",
    "\n",
    "    def forward(self, x):\n",
    "        x_padded = self.padding(x)                                          # out: (B x 1 x T x 23) or (B x 1 x T x 12)\n",
    "        y = self.filter(x_padded)                                           # out: (B x 3 x T x 12) or (B x 25 x T x 1)\n",
    "        if self.include_blank and shared_weights:\n",
    "            blank_channel = y[:, 2:3, :, :]\n",
    "            y = y[:, :2, :, :]\n",
    "            y_reshaped = torch.swapaxes(y, 1, 2)                            # out: (B x T x 2 x 12)\n",
    "            y_reshaped = torch.flatten(y_reshaped, start_dim=2)             # out: (B x T x 24)\n",
    "            blank_replicaed = blank_channel.squeeze(1).repeat(1, 1, 1, 12)  # out: (B x T x 1 x 12)\n",
    "            blank_flatten = torch.flatten(blank_replicaed, start_dim=2)     # out: (B x T x 12)\n",
    "            y_reshaped = torch.cat([y_reshaped, blank_flatened], dim=2)     # out: (B x T x 25)\n",
    "            y_reshaped = torch.unsqueeze(y_reshaped, 1)                     # out: (B x 1 x T x 25)\n",
    "        else:\n",
    "            y_reshaped = torch.swapaxes(y, 1, 2)                                # out: (B x T x 2 x 12) or (B x T x 24 x 1)\n",
    "            y_reshaped = torch.unsqueeze(torch.flatten(y_reshaped, start_dim=2), 1)             # out: (B x 1 x T x 24)\n",
    "        return y_reshaped\n",
    "\n",
    "\n",
    "class softmax_temperature(torch.nn.Module):\n",
    "    \"\"\"Softmax activation with trainable temperature parameter\n",
    "\n",
    "    Args:\n",
    "        dim: Dimension across which to apply the softmax function\n",
    "        tau: Temperature parameter\n",
    "        trainable: Whether the gradient w.r.t. tau is computed in backward pass\n",
    "    \"\"\"\n",
    "    def __init__(self, dim=3, tau=1, trainable=True):\n",
    "        super(softmax_temperature, self).__init__()\n",
    "        self.dim = dim\n",
    "        self.tau = torch.nn.parameter.Parameter(data=torch.tensor([tau], dtype=torch.float32), requires_grad=trainable)\n",
    "\n",
    "    def forward(self, x):\n",
    "        return F.softmax(x / self.tau, dim=self.dim)\n",
    "\n",
    "\n",
    "class chord_recog_templates_pipeline(torch.nn.Module):\n",
    "    \"\"\"Model for template-based chord recognition:\n",
    "\n",
    "    Pipeline:\n",
    "        1) input: chroma features\n",
    "        2) log compression (gamma trainable)\n",
    "        3) temporal averaging (conv. layer with trainable weights / median filter / Gaussian filter)\n",
    "        4) l1/l2/max/z normalization (only if norm large enough; otherwise: unit-norm vector with same values)\n",
    "        5) chord recognition via templates (conv. layer)\n",
    "        6) softmax -> output: chord probabilities\n",
    "\n",
    "    Args:\n",
    "        dictionaries containing parameters for the individual building blocks\n",
    "    \"\"\"\n",
    "    def __init__(self, compression_params=None, temp_smooth_params=None, feature_norm_params=None,\n",
    "                 chord_template_params=None, softmax_params=None):\n",
    "\n",
    "        super(chord_recog_templates_pipeline, self).__init__()\n",
    "\n",
    "        self.log_compression = log_compression(**compression_params)\n",
    "        self.temporal_smoothing = temporal_smoothing(**temp_smooth_params)\n",
    "        self.feature_normalization = feature_normalization(**feature_norm_params)\n",
    "        self.chord_recognition_templates = chord_recognition_templates(**chord_template_params)\n",
    "        self.softmax_temperature = softmax_temperature(**softmax_params)\n",
    "\n",
    "    def forward(self, x):\n",
    "        y_pred, _, _, _, _ = self.get_intermediate_data(x)\n",
    "        return y_pred\n",
    "\n",
    "    def get_intermediate_data(self, x):\n",
    "        x_comp = self.log_compression(x)                                    # out: (B x 1 x T x 12)\n",
    "        x_avg = self.temporal_smoothing(x_comp)                             # out: (B x 1 x 1 x 12)\n",
    "        x_normalized = self.feature_normalization(x_avg)                    # out: (B x 1 x 1 x 12)\n",
    "        x_templates = self.chord_recognition_templates(x_normalized)        # out: (B x 1 x 1 x 24)\n",
    "        y_pred = self.softmax_temperature(x_templates)                      # out: (B x 1 x 1 x 24)\n",
    "        return y_pred, x_templates, x_normalized, x_avg, x_comp"
   ]
  },
  {
   "cell_type": "code",
   "execution_count": 18,
   "id": "f57b5954-1b89-4d47-be67-0f1366f53c54",
   "metadata": {
    "ExecuteTime": {
     "end_time": "2025-07-03T15:13:36.043986300Z",
     "start_time": "2025-07-03T15:13:35.970185400Z"
    }
   },
   "outputs": [],
   "source": [
    "# Pipeline config\n",
    "\n",
    "compression_params = {'gamma_init': 1.0,       # makes pipeline somehow redundant; input chroma features are already logarithmically compressed\n",
    "                      'trainable': True}\n",
    "\n",
    "temp_smooth_params = {'smoothing_type': 'weighted_sum', \n",
    "                      'avg_length': 51, \n",
    "                      'weight_init': 'uniform'}\n",
    "\n",
    "# temp_smooth_params = {'smoothing_type': 'Gaussian', \n",
    "#                       'avg_length': 51, \n",
    "#                       'sigma_init': 50}\n",
    "\n",
    "feature_norm_params = {'num_features': 12,\n",
    "                       'norm': '2', \n",
    "                       'threshold': 1e-4}\n",
    "\n",
    "chord_template_params = {'shared_weights': True, \n",
    "                         'initialize_parameters': True, \n",
    "                         'normalize_weights': False}\n",
    "\n",
    "softmax_params = {'tau': 1, \n",
    "                  'trainable': False}\n",
    "\n",
    "model_pipeline = chord_recog_templates_pipeline(compression_params=compression_params, \n",
    "                                       temp_smooth_params=temp_smooth_params, \n",
    "                                       feature_norm_params=feature_norm_params, \n",
    "                                       chord_template_params=chord_template_params, \n",
    "                                       softmax_params=softmax_params)"
   ]
  },
  {
   "cell_type": "code",
   "execution_count": 19,
   "id": "7730da12-3d4b-433e-aee0-eab3f73ad9af",
   "metadata": {
    "ExecuteTime": {
     "end_time": "2025-07-03T15:13:36.573459400Z",
     "start_time": "2025-07-03T15:13:36.472728900Z"
    }
   },
   "outputs": [
    {
     "data": {
      "text/plain": [
       "==========================================================================================\n",
       "Layer (type:depth-idx)                   Output Shape              Param #\n",
       "==========================================================================================\n",
       "chord_recog_templates_pipeline           [1, 1, 1, 24]             --\n",
       "├─log_compression: 1-1                   [1, 1, 51, 12]            1\n",
       "├─temporal_smoothing: 1-2                [1, 1, 1, 12]             --\n",
       "│    └─Conv2d: 2-1                       [1, 1, 1, 12]             51\n",
       "├─feature_normalization: 1-3             [1, 1, 1, 12]             --\n",
       "├─chord_recognition_templates: 1-4       [1, 1, 1, 24]             --\n",
       "│    └─Conv2d: 2-2                       [1, 2, 1, 12]             24\n",
       "├─softmax_temperature: 1-5               [1, 1, 1, 24]             (1)\n",
       "==========================================================================================\n",
       "Total params: 77\n",
       "Trainable params: 76\n",
       "Non-trainable params: 1\n",
       "Total mult-adds (M): 0.00\n",
       "==========================================================================================\n",
       "Input size (MB): 0.00\n",
       "Forward/backward pass size (MB): 0.01\n",
       "Params size (MB): 0.00\n",
       "Estimated Total Size (MB): 0.01\n",
       "=========================================================================================="
      ]
     },
     "execution_count": 19,
     "metadata": {},
     "output_type": "execute_result"
    }
   ],
   "source": [
    "summary(model_pipeline, input_size=(1, 1, temp_smooth_params['avg_length'], 12))"
   ]
  },
  {
   "cell_type": "markdown",
   "id": "603878f2-1b66-4876-9e21-5e0eed15d010",
   "metadata": {},
   "source": [
    "## The END of network configuration\n",
    "## -------------------------------------------------------------------------------------------------------"
   ]
  },
  {
   "cell_type": "markdown",
   "id": "b621ef69-18cc-400b-8228-a66c5f4b85c3",
   "metadata": {},
   "source": [
    "## Prepare data"
   ]
  },
  {
   "cell_type": "code",
   "execution_count": 20,
   "id": "bae9734c-e276-4757-9f3e-7544aa4ea40f",
   "metadata": {
    "ExecuteTime": {
     "end_time": "2025-07-03T15:13:41.875888Z",
     "start_time": "2025-07-03T15:13:41.833003200Z"
    }
   },
   "outputs": [],
   "source": [
    "nonchord = False\n",
    "song_dict = {}\n",
    "# song_dict[0] = ['LetItB', 'r',\n",
    "#                 os.path.join(data_basedir, 'C5', 'FMP_C5_Audio_Beatles_LetItBe_Beatles_1970-LetItBe-06.wav'),\n",
    "#                 os.path.join(data_basedir, 'C5', 'FMP_C5_Audio_Beatles_LetItBe_Beatles_1970-LetItBe-06_Chords_simplified.csv')]\n",
    "song_dict[0] = ['LetItB', 'r',\n",
    "                os.path.join(data_basedir, 'FMP_C5_F01_Beatles_LetItBe-mm1-4_Original.wav'),\n",
    "                os.path.join(data_basedir, 'FMP_C5_F01_Beatles_LetItBe-mm1-4_Original_Chords_simplified.csv')]\n",
    "song_dict[1] = ['HereCo', 'b',\n",
    "                os.path.join(data_basedir, 'FMP_C5_Audio_Beatles_HereComesTheSun_Beatles_1969-AbbeyRoad-07.wav'),\n",
    "                os.path.join(data_basedir, 'FMP_C5_Audio_Beatles_HereComesTheSun_Beatles_1969-AbbeyRoad-07_Chords_simplified.csv')]\n",
    "song_dict[2] = ['ObLaDi', 'c',\n",
    "                os.path.join(data_basedir, 'FMP_C5_Audio_Beatles_ObLaDiObLaDa_Beatles_1968-TheBeatlesTheWhiteAlbumDisc1-04.wav'),\n",
    "                os.path.join(data_basedir, 'FMP_C5_Audio_Beatles_ObLaDiObLaDa_Beatles_1968-TheBeatlesTheWhiteAlbumDisc1-04_Chords_simplified.csv')]\n",
    "song_dict[3] = ['PennyL', 'g',\n",
    "                os.path.join(data_basedir, 'FMP_C5_Audio_Beatles_PennyLane_Beatles_1967-MagicalMysteryTour-09.wav'),\n",
    "                os.path.join(data_basedir, 'FMP_C5_Audio_Beatles_PennyLane_Beatles_1967-MagicalMysteryTour-09_Chords_simplified.csv')]\n",
    "\n",
    "# csv_rel_path = song_dict[0][3]\n",
    "# csv_abs_path = os.path.abspath(csv_rel_path)\n",
    "# print(csv_abs_path)"
   ]
  },
  {
   "cell_type": "markdown",
   "id": "ab115dc0-7282-4db3-a249-28e9dd0104dd",
   "metadata": {},
   "source": [
    "### Feature Extraction (log-compressed STFT-based chroma features as above)"
   ]
  },
  {
   "cell_type": "code",
   "execution_count": 21,
   "id": "bc893d2e-5108-46d9-a5b8-fc2e53aff900",
   "metadata": {
    "ExecuteTime": {
     "end_time": "2025-07-03T15:13:53.236309100Z",
     "start_time": "2025-07-03T15:13:44.118533200Z"
    }
   },
   "outputs": [
    {
     "name": "stdout",
     "output_type": "stream",
     "text": [
      "===== Computation of STFT-based chromagrams =====\n",
      "Processing:  LetItB\n",
      "Processing:  HereCo\n",
      "Processing:  ObLaDi\n",
      "Processing:  PennyL\n"
     ]
    }
   ],
   "source": [
    "def compute_X_dict(song_selected, version='STFT', details=True, nonchord=False):\n",
    "    X_dict = {}\n",
    "    Fs_X_dict = {}\n",
    "    ann_dict = {}\n",
    "    x_dur_dict = {}\n",
    "    chord_labels = libfmp.c5.get_chord_labels(ext_minor='m', nonchord=nonchord)\n",
    "    for s in song_selected:\n",
    "        if details is True:\n",
    "            print('Processing: ', song_dict[s][0])\n",
    "        fn_wav = song_dict[s][2]\n",
    "        fn_ann = song_dict[s][3]\n",
    "#         N = 2048\n",
    "#         H = 1024\n",
    "        N = 4096\n",
    "        H = 2048\n",
    "        if version == 'STFT':\n",
    "            X, Fs_X, x, Fs, x_dur = \\\n",
    "                libfmp.c5.compute_chromagram_from_filename(fn_wav, N=N, H=H, gamma=0.1, version='STFT')            # no log compression\n",
    "        if version == 'CQT':\n",
    "            X, Fs_X, x, Fs, x_dur = \\\n",
    "                libfmp.c5.compute_chromagram_from_filename(fn_wav, H=H, version='CQT')                  # no log compression\n",
    "        if version == 'IIR':\n",
    "            X, Fs_X, x, Fs, x_dur = \\\n",
    "                libfmp.c5.compute_chromagram_from_filename(fn_wav, N=N, H=H, gamma=10, version='IIR')             # no log compression\n",
    "            \n",
    "        X_dict[s] = X\n",
    "        Fs_X_dict[s] = Fs_X\n",
    "        x_dur_dict[s] = x_dur\n",
    "        N_X = X.shape[1]\n",
    "        \n",
    "        # one-hot encoding, converts chord label (.csv file) to label matrix\n",
    "        ann_dict[s] = libfmp.c5.convert_chord_ann_matrix(fn_ann, chord_labels, Fs=Fs_X, N=N_X, last=False)   \n",
    "        \n",
    "    return X_dict, Fs_X_dict, ann_dict, x_dur_dict, chord_labels\n",
    "    \n",
    "song_selected = [0, 1, 2, 3]\n",
    "#song_selected = [0]\n",
    "print('===== Computation of STFT-based chromagrams =====')\n",
    "X_dict_STFT, Fs_X_dict_STFT, ann_dict_STFT, x_dur_dict, chord_labels = compute_X_dict(song_selected, version='STFT', nonchord=nonchord)"
   ]
  },
  {
   "cell_type": "markdown",
   "id": "f31357ce-3d70-492e-8b42-c0f14b00d415",
   "metadata": {},
   "source": [
    "### Create Dataset + Dataloader"
   ]
  },
  {
   "cell_type": "code",
   "execution_count": 24,
   "id": "30350ded-fc39-409a-bbaa-dbb0282d259c",
   "metadata": {
    "ExecuteTime": {
     "end_time": "2025-07-03T15:13:56.581224500Z",
     "start_time": "2025-07-03T15:13:56.566266200Z"
    }
   },
   "outputs": [],
   "source": [
    "class dataset_context(torch.utils.data.Dataset):\n",
    "    def __init__(self, inputs, targets, params):\n",
    "        self.inputs = inputs                                # Channels x Time x Chromas\n",
    "        self.targets = targets                              # Time x Chords\n",
    "        self.context = params['context']\n",
    "        self.stride = params['stride']\n",
    "        \n",
    "    def __len__(self):\n",
    "        return (self.inputs.size()[1] - self.context) // self.stride\n",
    "    \n",
    "    def __getitem__(self, index):\n",
    "        index *= self.stride\n",
    "        half_context = self.context // 2\n",
    "        index += half_context\n",
    "        X = self.inputs[:, (index - half_context):(index + half_context + 1), :].type(torch.FloatTensor)\n",
    "        # y is the training target(this is strongly aligned label)\n",
    "        y = torch.unsqueeze(torch.unsqueeze(self.targets[index, :], 0), 1).type(torch.FloatTensor)\n",
    "        return X, y\n",
    "    \n",
    "def create_dataset(data_dict, ann_dict, song_dict, song_indices, dataset_params, dataset_description='train'):\n",
    "    all_datasets = []\n",
    "    half_context = dataset_params['context']//2\n",
    "    \n",
    "    for s in song_indices:\n",
    "        inputs = torch.unsqueeze(torch.from_numpy(np.pad(data_dict[s].T, ((half_context, half_context + 1), (0, 0)))), 0)\n",
    "        print(ann_dict[s][0])\n",
    "        # transpose and zero-padding the label matrix\n",
    "        targets = torch.from_numpy(np.pad(ann_dict[s][0].T, ((half_context, half_context + 1), (0, 0))))\n",
    "        curr_dataset = dataset_context(inputs, targets, dataset_params)\n",
    "        all_datasets.append(curr_dataset)\n",
    "        \n",
    "        print(f'- {song_dict[s][0]} added to {dataset_description} set. Length: {len(curr_dataset)} segments')\n",
    "        \n",
    "    full_dataset = torch.utils.data.ConcatDataset(all_datasets)     \n",
    "    print(f'Total number of segments in the {dataset_description} set: {len(full_dataset)}')    \n",
    "    return full_dataset\n",
    "\n",
    "def create_CTC_dataset(data_dict, ann_dict, song_dict, song_indices, dataset_params, dataset_description='train'):\n",
    "    all_datasets = []\n",
    "    half_context = dataset_params['context']//2\n",
    "    \n",
    "    for s in song_indices:\n",
    "        inputs = torch.unsqueeze(torch.from_numpy(np.pad(data_dict[s].T, ((half_context, half_context + 1), (0, 0)))), 0)\n",
    "        print(ann_dict[s][0])\n",
    "        # transpose and zero-padding the label matrix\n",
    "        targets = torch.from_numpy(np.pad(ann_dict[s][0].T, ((half_context, half_context + 1), (0, 0))))\n",
    "        label_sequence = torch.argmax(targets, dim=1)\n",
    "        ctc_targets = [label_sequence[0]]\n",
    "        for i in range(1, len(label_sequence)):\n",
    "            if label_sequence != label_sequence[i-1]:\n",
    "                ctc_targets.append(label_sequence[i])\n",
    "        ctc_targets = torch.tensor(ctc_targets)\n",
    "        target_lengths = torch.tensor([len(ctc_targets)])\n",
    "        curr_dataset = dataset_context(inputs, ctc_targets, dataset_params)\n",
    "        all_datasets.append(curr_dataset)\n",
    "        \n",
    "        print(f'- {song_dict[s][0]} added to {dataset_description} set. Length: {len(curr_dataset)} segments')\n",
    "        \n",
    "    full_dataset = torch.utils.data.ConcatDataset(all_datasets)     \n",
    "    print(f'Total number of segments in the {dataset_description} set: {len(full_dataset)}')    \n",
    "    return full_dataset"
   ]
  },
  {
   "cell_type": "code",
   "execution_count": 25,
   "id": "e2ac7dd4-fcc4-49c3-bc37-7ee4336ed548",
   "metadata": {
    "ExecuteTime": {
     "end_time": "2025-07-03T15:13:57.214533100Z",
     "start_time": "2025-07-03T15:13:57.142723600Z"
    }
   },
   "outputs": [
    {
     "name": "stdout",
     "output_type": "stream",
     "text": [
      "[[0. 0. 0. ... 0. 0. 0.]\n",
      " [0. 0. 0. ... 0. 0. 0.]\n",
      " [0. 0. 0. ... 0. 0. 0.]\n",
      " ...\n",
      " [0. 0. 0. ... 0. 0. 0.]\n",
      " [0. 0. 0. ... 0. 0. 0.]\n",
      " [0. 0. 0. ... 0. 0. 0.]]\n",
      "- HereCo added to train set. Length: 1999 segments\n",
      "[[0. 0. 0. ... 0. 0. 0.]\n",
      " [0. 0. 0. ... 0. 0. 0.]\n",
      " [0. 0. 0. ... 0. 0. 0.]\n",
      " ...\n",
      " [0. 0. 0. ... 0. 0. 0.]\n",
      " [0. 0. 0. ... 0. 0. 0.]\n",
      " [0. 0. 0. ... 0. 0. 0.]]\n",
      "- ObLaDi added to train set. Length: 2034 segments\n",
      "Total number of segments in the train set: 4033\n",
      "\n",
      "\n",
      "[[0. 0. 0. ... 0. 0. 0.]\n",
      " [0. 0. 0. ... 0. 0. 0.]\n",
      " [0. 0. 0. ... 0. 0. 0.]\n",
      " ...\n",
      " [0. 0. 0. ... 0. 0. 0.]\n",
      " [0. 0. 0. ... 0. 0. 0.]\n",
      " [0. 0. 0. ... 0. 0. 0.]]\n",
      "- PennyL added to val set. Length: 1975 segments\n",
      "Total number of segments in the val set: 1975\n",
      "\n",
      "\n",
      "-Training data loader contains 81 mini batches.\n",
      "-Validation data loader contains 40 mini batches.\n"
     ]
    }
   ],
   "source": [
    "train_set_indices = [1, 2]\n",
    "train_set_params = {'context': temp_smooth_params['avg_length'], 'stride': 1}\n",
    "\n",
    "train_set = create_dataset(data_dict=X_dict_STFT, \n",
    "                           ann_dict=ann_dict_STFT, \n",
    "                           song_dict=song_dict, \n",
    "                           song_indices=train_set_indices, \n",
    "                           dataset_params=train_set_params, \n",
    "                           dataset_description='train')\n",
    "\n",
    "print('\\n')\n",
    "\n",
    "val_set_indices = [3]\n",
    "val_set_params = {'context': temp_smooth_params['avg_length'], 'stride': 1}\n",
    "\n",
    "val_set = create_dataset(data_dict=X_dict_STFT, \n",
    "                         ann_dict=ann_dict_STFT, \n",
    "                         song_dict=song_dict, \n",
    "                         song_indices=val_set_indices, \n",
    "                         dataset_params=val_set_params, \n",
    "                         dataset_description='val')\n",
    "print('\\n')\n",
    "train_loader_params = {'batch_size': 50, 'shuffle': True, 'num_workers': 0}\n",
    "train_loader = torch.utils.data.DataLoader(train_set, **train_loader_params)\n",
    "print(f'-Training data loader contains {len(train_loader)} mini batches.')\n",
    "\n",
    "val_loader_params = {'batch_size': 50, 'shuffle': False, 'num_workers': 0}\n",
    "val_loader = torch.utils.data.DataLoader(val_set, **val_loader_params)\n",
    "print(f'-Validation data loader contains {len(val_loader)} mini batches.')"
   ]
  },
  {
   "cell_type": "markdown",
   "id": "1a387db1-3d2e-47f7-99a7-6f5ae4f1207d",
   "metadata": {},
   "source": [
    "## Train Pipeline"
   ]
  },
  {
   "cell_type": "code",
   "execution_count": 26,
   "id": "751b204c-9ceb-4774-9eca-669d22e37676",
   "metadata": {
    "ExecuteTime": {
     "end_time": "2025-07-03T15:14:00.508947500Z",
     "start_time": "2025-07-03T15:14:00.465064100Z"
    }
   },
   "outputs": [
    {
     "name": "stdout",
     "output_type": "stream",
     "text": [
      "Trainable parameters:\n",
      "\n",
      "'log_compression.log_gamma'\n",
      "'temporal_smoothing.filter.weight'\n",
      "'chord_recognition_templates.filter.weight'\n"
     ]
    }
   ],
   "source": [
    "print('Trainable parameters:\\n')\n",
    "\n",
    "trainable_parameters = []\n",
    "for name, param in model_pipeline.named_parameters():\n",
    "    if param.requires_grad:\n",
    "        trainable_parameters.append(name)\n",
    "        print(f\"'{name}'\") "
   ]
  },
  {
   "cell_type": "code",
   "execution_count": 27,
   "id": "14bbf2cc-0f76-4f6b-b428-ea74f40fe55d",
   "metadata": {
    "ExecuteTime": {
     "end_time": "2025-07-03T15:14:01.142248800Z",
     "start_time": "2025-07-03T15:14:01.115321Z"
    }
   },
   "outputs": [],
   "source": [
    "optimization_mode = 0\n",
    "\n",
    "if optimization_mode == 1:\n",
    "    frozen_parameters = []           \n",
    "\n",
    "if optimization_mode == 2:\n",
    "    trained_parameters = []\n",
    "if optimization_mode == 0:\n",
    "    parameters_to_optimize = model_pipeline.parameters()\n",
    "    \n",
    "elif optimization_mode == 1:\n",
    "    parameters_to_optimize = []\n",
    "\n",
    "    for name, param in model_pipeline.named_parameters():\n",
    "        if not name in frozen_parameters:\n",
    "            parameters_to_optimize.append(param)\n",
    "            \n",
    "elif optimization_mode == 2:\n",
    "    parameters_to_optimize = []\n",
    "\n",
    "    for name, param in model_pipeline.named_parameters():\n",
    "        if name in trained_parameters:\n",
    "            parameters_to_optimize.append(param)"
   ]
  },
  {
   "cell_type": "markdown",
   "id": "44144859-fc7b-44a3-9795-d6e6fc2f929f",
   "metadata": {},
   "source": [
    "### Optimizer&Training params"
   ]
  },
  {
   "cell_type": "code",
   "execution_count": 28,
   "id": "97b8d740-f325-4ade-8694-77d6b72bf850",
   "metadata": {
    "ExecuteTime": {
     "end_time": "2025-07-03T15:14:05.619356700Z",
     "start_time": "2025-07-03T15:14:02.309978600Z"
    }
   },
   "outputs": [],
   "source": [
    "optim_params = {'lr': 0.01, 'betas': (0.9, 0.999)}\n",
    "optimizer = torch.optim.Adam(parameters_to_optimize, **optim_params)\n",
    "training_params = {'device': 'cpu', 'max_epochs': 50}\n",
    "# training_params = {'device': 'cuda:0', 'max_epochs': 25}"
   ]
  },
  {
   "cell_type": "markdown",
   "id": "f8a1ee4c-fe74-47f7-8b8c-922140d7b216",
   "metadata": {},
   "source": [
    "# CTC LOSS"
   ]
  },
  {
   "cell_type": "code",
   "execution_count": 35,
   "id": "a61da83f-ed64-4da3-9bbe-1107fb5762b1",
   "metadata": {
    "scrolled": true
   },
   "outputs": [],
   "source": [
    "def ctc_loss_fn(log_probs, targets, input_lengths, target_lengths):\n",
    "    return F.ctc_loss(\n",
    "        log_probs=log_probs,\n",
    "        targets=targets,\n",
    "        input_lengths=input_lengths,\n",
    "        target_lengths=target_lengths,\n",
    "        blank=0,                 # 0 as blank index\n",
    "        reduction='mean',\n",
    "        zero_infinity=True\n",
    "    )"
   ]
  },
  {
   "cell_type": "markdown",
   "id": "a0b81cfb-214e-4a1b-a0f6-e19a9eb4b5fe",
   "metadata": {},
   "source": [
    "### Network Training - Train the model"
   ]
  },
  {
   "cell_type": "code",
   "execution_count": 36,
   "id": "e604a039-5146-40c8-8c47-15ca96e28995",
   "metadata": {},
   "outputs": [
    {
     "ename": "IndexError",
     "evalue": "Dimension out of range (expected to be in range of [-2, 1], but got 2)",
     "output_type": "error",
     "traceback": [
      "\u001b[1;31m---------------------------------------------------------------------------\u001b[0m",
      "\u001b[1;31mIndexError\u001b[0m                                Traceback (most recent call last)",
      "\u001b[1;32m~\\AppData\\Local\\Temp\\ipykernel_6804\\2351853340.py\u001b[0m in \u001b[0;36m<module>\u001b[1;34m\u001b[0m\n\u001b[0;32m     18\u001b[0m             \u001b[0my_pred\u001b[0m \u001b[1;33m=\u001b[0m \u001b[0mmodel_pipeline\u001b[0m\u001b[1;33m(\u001b[0m\u001b[0mX\u001b[0m\u001b[1;33m)\u001b[0m                       \u001b[1;31m# [B, 1, T, 24]\u001b[0m\u001b[1;33m\u001b[0m\u001b[1;33m\u001b[0m\u001b[0m\n\u001b[0;32m     19\u001b[0m             \u001b[0mlogits\u001b[0m \u001b[1;33m=\u001b[0m \u001b[0mlogits\u001b[0m\u001b[1;33m.\u001b[0m\u001b[0msqueeze\u001b[0m\u001b[1;33m(\u001b[0m\u001b[1;36m1\u001b[0m\u001b[1;33m)\u001b[0m                       \u001b[1;31m# [B, T, 24]\u001b[0m\u001b[1;33m\u001b[0m\u001b[1;33m\u001b[0m\u001b[0m\n\u001b[1;32m---> 20\u001b[1;33m             \u001b[0mlog_probs\u001b[0m \u001b[1;33m=\u001b[0m \u001b[0mlogits\u001b[0m\u001b[1;33m.\u001b[0m\u001b[0mlog_softmax\u001b[0m\u001b[1;33m(\u001b[0m\u001b[0mdim\u001b[0m\u001b[1;33m=\u001b[0m\u001b[1;36m2\u001b[0m\u001b[1;33m)\u001b[0m            \u001b[1;31m# [B, T, 24]\u001b[0m\u001b[1;33m\u001b[0m\u001b[1;33m\u001b[0m\u001b[0m\n\u001b[0m\u001b[0;32m     21\u001b[0m             \u001b[0mlog_probs\u001b[0m \u001b[1;33m=\u001b[0m \u001b[0mlog_probs\u001b[0m\u001b[1;33m.\u001b[0m\u001b[0mpermute\u001b[0m\u001b[1;33m(\u001b[0m\u001b[1;36m1\u001b[0m\u001b[1;33m,\u001b[0m \u001b[1;36m0\u001b[0m\u001b[1;33m,\u001b[0m \u001b[1;36m2\u001b[0m\u001b[1;33m)\u001b[0m           \u001b[1;31m# [T, B, 24]\u001b[0m\u001b[1;33m\u001b[0m\u001b[1;33m\u001b[0m\u001b[0m\n\u001b[0;32m     22\u001b[0m \u001b[1;33m\u001b[0m\u001b[0m\n",
      "\u001b[1;31mIndexError\u001b[0m: Dimension out of range (expected to be in range of [-2, 1], but got 2)"
     ]
    }
   ],
   "source": [
    "model_pipeline = model_pipeline.to(training_params['device'])\n",
    "\n",
    "best_model = deepcopy(model_pipeline)\n",
    "best_val_loss = None\n",
    "best_epoch = None\n",
    "\n",
    "train_losses = []\n",
    "val_losses = []\n",
    "\n",
    "for epoch in range(training_params['max_epochs']):\n",
    "    model_pipeline.train()\n",
    "\n",
    "    with torch.enable_grad():\n",
    "        accum_loss, n_batches = 0, 0\n",
    "        for X, y in train_loader:\n",
    "            X, y = X.to(training_params['device']), y.to(training_params['device'])\n",
    "\n",
    "            y_pred = model_pipeline(X)                       # [B, 1, T, 24]\n",
    "            logits = logits.squeeze(1)                       # [B, T, 24]\n",
    "            log_probs = logits.log_softmax(dim=2)            # [B, T, 24]\n",
    "            log_probs = log_probs.permute(1, 0, 2)           # [T, B, 24]\n",
    "\n",
    "            # Convert one-hot targets to class indices\n",
    "            target_classes = torch.argmax(y.squeeze(1).squeeze(1), dim=1)  # [B]\n",
    "            targets = target_classes\n",
    "\n",
    "            input_lengths = torch.full(\n",
    "                size=(log_probs.size(1),), fill_value=log_probs.size(0), dtype=torch.long\n",
    "            )\n",
    "            target_lengths = torch.ones(log_probs.size(1), dtype=torch.long)\n",
    "\n",
    "            loss = ctc_loss_fn(log_probs, targets, input_lengths, target_lengths)\n",
    "\n",
    "            optimizer.zero_grad()\n",
    "            loss.backward()\n",
    "            optimizer.step()\n",
    "\n",
    "            accum_loss += loss.item()\n",
    "            n_batches += 1\n",
    "\n",
    "    model_pipeline.eval()\n",
    "\n",
    "    with torch.no_grad():\n",
    "        accum_loss_val, n_batches_val = 0, 0\n",
    "        for X_val, y_val in val_loader:\n",
    "            X_val, y_val = X_val.to(training_params['device']), y_val.to(training_params['device'])\n",
    "\n",
    "            logits_val = model_pipeline(X_val)                       # [B, 1, T, 24]\n",
    "            logits_val = logits_val.squeeze(1)                       # [B, T, 24]\n",
    "            log_probs_val = logits_val.log_softmax(dim=2)            # [B, T, 24]\n",
    "            log_probs_val = log_probs_val.permute(1, 0, 2)           # [T, B, 24]\n",
    "\n",
    "            target_classes_val = torch.argmax(y_val.squeeze(1).squeeze(1), dim=1)  # [B]\n",
    "            targets_val = target_classes_val\n",
    "\n",
    "            input_lengths_val = torch.full(\n",
    "                size=(log_probs_val.size(1),), fill_value=log_probs_val.size(0), dtype=torch.long\n",
    "            )\n",
    "            target_lengths_val = torch.ones(log_probs_val.size(1), dtype=torch.long)\n",
    "\n",
    "            loss_val = ctc_loss_fn(log_probs_val, targets_val, input_lengths_val, target_lengths_val)\n",
    "\n",
    "            accum_loss_val += loss_val.item()\n",
    "            n_batches_val += 1\n",
    "\n",
    "    train_loss = accum_loss / n_batches\n",
    "    val_loss = accum_loss_val / n_batches_val\n",
    "    print(f'Finished epoch {epoch}. Train Loss: {train_loss:.4f}, Val Loss: {val_loss:.4f}')\n",
    "\n",
    "    if best_val_loss is None or val_loss < best_val_loss:\n",
    "        best_val_loss = val_loss\n",
    "        best_model = deepcopy(model_pipeline)\n",
    "        best_epoch = epoch\n",
    "        print('    ...saved model')\n",
    "\n",
    "    train_losses.append(train_loss)\n",
    "    val_losses.append(val_loss)\n",
    "\n",
    "model_pipeline = deepcopy(best_model)\n",
    "print(f'\\nRestored model from epoch {best_epoch}.')"
   ]
  },
  {
   "cell_type": "code",
   "execution_count": 31,
   "id": "68c33ed7-153f-41f9-9d80-5deb39ebd710",
   "metadata": {},
   "outputs": [
    {
     "data": {
      "image/png": "[encoded data removed]",
      "text/plain": [
       "<Figure size 432x288 with 1 Axes>"
      ]
     },
     "metadata": {
      "needs_background": "light"
     },
     "output_type": "display_data"
    }
   ],
   "source": [
    "if len(train_losses) > 1:\n",
    "    plt.plot(train_losses, label='Train Loss')\n",
    "    plt.plot(val_losses, label='Val Loss')\n",
    "    plt.xlabel('Epoch')\n",
    "    plt.ylabel('Loss')\n",
    "    plt.title('Loss Curve')\n",
    "    plt.legend()\n",
    "    plt.show()"
   ]
  },
  {
   "cell_type": "markdown",
   "id": "7d53586fe934af5b",
   "metadata": {
    "collapsed": false,
    "jupyter": {
     "outputs_hidden": false
    }
   },
   "source": [
    "### Test"
   ]
  },
  {
   "cell_type": "code",
   "execution_count": null,
   "id": "2d1c1413f5544756",
   "metadata": {
    "ExecuteTime": {
     "end_time": "2025-07-03T15:15:39.384453100Z",
     "start_time": "2025-07-03T15:15:39.253788500Z"
    },
    "collapsed": false,
    "jupyter": {
     "outputs_hidden": false
    }
   },
   "outputs": [],
   "source": []
  }
 ],
 "metadata": {
  "kernelspec": {
   "display_name": "Python 3 (ipykernel)",
   "language": "python",
   "name": "python3"
  },
  "language_info": {
   "codemirror_mode": {
    "name": "ipython",
    "version": 3
   },
   "file_extension": ".py",
   "mimetype": "text/x-python",
   "name": "python",
   "nbconvert_exporter": "python",
   "pygments_lexer": "ipython3",
   "version": "3.9.7"
  }
 },
 "nbformat": 4,
 "nbformat_minor": 5
}
