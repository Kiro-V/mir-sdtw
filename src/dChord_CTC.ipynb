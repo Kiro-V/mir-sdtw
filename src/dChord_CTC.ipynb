{
 "cells": [
  {
   "cell_type": "code",
   "execution_count": 1,
   "id": "d44f8960-8c38-4c82-936f-98d0a21f12f7",
   "metadata": {
    "ExecuteTime": {
     "end_time": "2025-07-11T19:59:04.111937500Z",
     "start_time": "2025-07-11T19:58:58.175051700Z"
    }
   },
   "outputs": [],
   "source": [
    "import os\n",
    "import numpy as np\n",
    "import matplotlib\n",
    "from matplotlib import pyplot as plt\n",
    "import librosa\n",
    "\n",
    "import sys\n",
    "sys.path.append('../..')\n",
    "import libfmp.b\n",
    "import libfmp.c3\n",
    "import libfmp.c4\n",
    "import libfmp.c5\n",
    "%matplotlib inline\n",
    "\n",
    "data_basedir = os.path.join('.', 'data', 'dChord')\n",
    "\n",
    "import torch \n",
    "import torch.nn.functional as F\n",
    "from torchinfo import summary\n",
    "\n",
    "from copy import deepcopy\n",
    "from torch.utils.data import Dataset, ConcatDataset, DataLoader"
   ]
  },
  {
   "cell_type": "markdown",
   "id": "52467d29-0db7-4f95-b7f2-d63d42d9e744",
   "metadata": {},
   "source": [
    "## Network configuration"
   ]
  },
  {
   "cell_type": "code",
   "execution_count": 2,
   "id": "d1b01ba9-c92a-4dd6-91c7-6c28c20de456",
   "metadata": {
    "ExecuteTime": {
     "end_time": "2025-07-11T19:59:04.162801500Z",
     "start_time": "2025-07-11T19:59:04.116924400Z"
    }
   },
   "outputs": [],
   "source": [
    "# code copied from libdl.nn_models.cnns_chord_recog\n",
    "\n",
    "class log_compression(torch.nn.Module):\n",
    "    \"\"\"Module for logarithmic compression of an array\n",
    "\n",
    "    Args:\n",
    "        gamma: Compression factor\n",
    "        trainable: Whether the gradient w.r.t. gamma is computed in backward pass\n",
    "    \"\"\"\n",
    "    def __init__(self, gamma_init=1, trainable=True):\n",
    "        super(log_compression, self).__init__()\n",
    "\n",
    "        # define logarithm of gamma as trainable parameter\n",
    "        if gamma_init is not None:\n",
    "            self.log_gamma = torch.nn.parameter.Parameter(data=torch.log(torch.as_tensor(gamma_init, dtype=torch.float32)), requires_grad=trainable)\n",
    "        else:\n",
    "            self.log_gamma = None\n",
    "\n",
    "    def forward(self, x):\n",
    "        if self.log_gamma is not None:\n",
    "            # gamma = torch.exp(torch.clamp(self.log_gamma, max=5.0))\n",
    "            return torch.log(1.0 + torch.exp(self.log_gamma) * x + 1e-10)\n",
    "        else:\n",
    "            return x\n",
    "\n",
    "\n",
    "class gaussian_filter(torch.nn.Module):\n",
    "    \"\"\"Module for generating a 1D Gaussian filter\n",
    "\n",
    "    Args:\n",
    "        length: kernel length\n",
    "        sigma: (initial) standard deviation for Gaussian kernel\n",
    "        dim: dimension across which to apply the filter; output tensor will have singleton dimension at 'dim'\n",
    "        trainable: whether to optimize the standard deviation\n",
    "    \"\"\"\n",
    "    def __init__(self, length=41, sigma_init=1, dim=2, trainable=True):\n",
    "        super(gaussian_filter, self).__init__()\n",
    "\n",
    "        self.length = length\n",
    "        self.dim = dim\n",
    "\n",
    "        if sigma_init is None:\n",
    "            sigma_init = length\n",
    "        self.log_sigma = torch.nn.parameter.Parameter(data=torch.log(torch.as_tensor(sigma_init, dtype=torch.float32)), requires_grad=trainable)\n",
    "\n",
    "    def forward(self, x):\n",
    "        idx = x.ndim * [1]\n",
    "        idx[self.dim] = self.length\n",
    "        w = self.get_kernel()\n",
    "        x_smoothed = torch.sum(x * w.view(*idx), dim=self.dim, keepdim=True)\n",
    "        return x_smoothed\n",
    "\n",
    "    def get_kernel(self):\n",
    "        n = torch.arange(0, self.length).to(self.log_sigma.device) - (self.length - 1.0) / 2.0\n",
    "        sig2 = 2 * torch.exp(self.log_sigma) ** 2\n",
    "        w = torch.exp(-n ** 2 / sig2)\n",
    "        return w / torch.sum(w)\n",
    "\n",
    "\n",
    "class temporal_smoothing(torch.nn.Module):\n",
    "    \"\"\"Module for temporal smoothing of a feature sequence.\n",
    "\n",
    "    Args:\n",
    "        smoothing_type: Either 'weighted_sum', 'median' or 'Gaussian'\n",
    "        avg_length: Length to be averaged over; only relevant for 'weighted_sum' and 'Gaussian' (median is taken over whole input length)\n",
    "        weight_init: How to initialize (trainable) weights, only relevant for 'weighted_sum' (either 'uniform' or 'random')\n",
    "    \"\"\"\n",
    "    def __init__(self, smoothing_type='weighted_sum', avg_length=41, weight_init='uniform', sigma_init=20):\n",
    "        super(temporal_smoothing, self).__init__()\n",
    "        if smoothing_type not in {'weighted_sum', 'median', 'Gaussian'}:\n",
    "            raise ValueError('Smoothing type ' + smoothing_type + ' is unknown!')\n",
    "\n",
    "        if weight_init not in {'random', 'uniform'}:\n",
    "            raise ValueError('Weight initialization ' + weight_init + ' is unknown!')\n",
    "\n",
    "        self.avg_length = avg_length\n",
    "\n",
    "        if smoothing_type == 'weighted_sum':\n",
    "            self.filter = torch.nn.Conv2d(in_channels=1, out_channels=1, kernel_size=(avg_length, 1),\n",
    "                                    stride=(1, 1), bias=False, padding='valid')\n",
    "\n",
    "            if weight_init == 'random':\n",
    "                pass\n",
    "            elif weight_init == 'uniform':\n",
    "                self.filter.weight.data = torch.ones_like(self.filter.weight.data) / avg_length\n",
    "\n",
    "        elif smoothing_type == 'median':\n",
    "            self.filter = lambda x: torch.median(x, dim=2, keepdim=True,).values\n",
    "\n",
    "        elif smoothing_type == 'Gaussian':\n",
    "            self.filter = gaussian_filter(length=avg_length, sigma_init=sigma_init, dim=2, trainable=True)\n",
    "\n",
    "    def forward(self, x):\n",
    "        # treat channels as batch dimension to use conv. layer with 1 channel\n",
    "        x_reshaped = x.view(-1, 1, *x.shape[2:])\n",
    "        x_filtered = self.filter(x_reshaped)\n",
    "        return x_filtered.view(*x.shape[:2], *x_filtered.shape[2:])\n",
    "\n",
    "\n",
    "class feature_normalization(torch.nn.Module):\n",
    "    \"\"\"Module for feature normalization\n",
    "\n",
    "    Args:\n",
    "        num_features: Number of features\n",
    "        norm: The norm to be applied. '1', '2', 'max' or 'z'\n",
    "        threshold: Threshold below which the vector `v` is used instead of normalization\n",
    "        v: Used instead of normalization below `threshold`. If None, uses unit vector for given norm\n",
    "    \"\"\"\n",
    "    def __init__(self, num_features=12, norm='2', threshold=1e-4, v=None, dim=3):\n",
    "        super(feature_normalization, self).__init__()\n",
    "        if norm not in ['1', '2', 'max', 'z']:\n",
    "            raise ValueError('Norm ' + norm + ' is unknown!')\n",
    "\n",
    "        self.threshold = threshold\n",
    "        self.v = v\n",
    "\n",
    "        if norm == '1':\n",
    "            if self.v is None:\n",
    "                self.v = torch.ones(num_features, dtype=torch.float32) / num_features\n",
    "            self.get_norms = lambda x: torch.linalg.vector_norm(x, ord=1.0, dim=dim, keepdim=False)\n",
    "            self.normalize = lambda x: F.normalize(x, p=1.0, dim=dim, eps=threshold)\n",
    "\n",
    "        if norm == '2':\n",
    "            if self.v is None:\n",
    "                self.v = torch.ones(num_features, dtype=torch.float32) / torch.sqrt(torch.tensor([num_features]))\n",
    "            self.get_norms = lambda x: torch.linalg.vector_norm(x, ord=2.0, dim=dim, keepdim=False)\n",
    "            self.normalize = lambda x: F.normalize(x, p=2.0, dim=dim, eps=threshold)\n",
    "\n",
    "        if norm == 'max':\n",
    "            if self.v is None:\n",
    "                self.v = torch.ones(num_features, dtype=torch.float32)\n",
    "            self.get_norms = lambda x: torch.linalg.vector_norm(x, ord=float('inf'), dim=dim, keepdim=False)\n",
    "            self.normalize = lambda x: F.normalize(x, p=float('inf'), dim=dim, eps=threshold)\n",
    "\n",
    "        if norm == 'z':\n",
    "            if self.v is None:\n",
    "                self.v = torch.zeros(num_features)\n",
    "            self.get_norms = lambda x: torch.std(x, dim=dim, keepdim=False, unbiased=True)\n",
    "            self.normalize = lambda x: (x - torch.mean(x, dim=dim, keepdim=True)) / torch.std(x, dim=dim, keepdim=True,\n",
    "                                                                                              unbiased=True)\n",
    "    def forward(self, x):\n",
    "        x_norms = self.get_norms(x)\n",
    "        idx = x_norms > self.threshold\n",
    "        x_normalized = x.clone()\n",
    "        x_normalized = self.normalize(x_normalized)\n",
    "        x_normalized[~idx] = self.v.to(x.device)\n",
    "        return x_normalized\n",
    "\n",
    "\n",
    "class chord_recognition_templates(torch.nn.Module):\n",
    "    \"\"\"Module for applying template-based chord recognition to chroma features.\n",
    "\n",
    "    Args:\n",
    "        shared_weights: Whether to use 2 shared kernels (maj/min) or 24 individual chord templates + 1 non chord template\n",
    "        initialize_parameters: Whether to initialize kernels with idealized binary chord templates and zero bias\n",
    "        normalize_weights: Whether to normalize all templates to unit Euclidean norm\n",
    "        bias: Whether to allow for a trainable bias\n",
    "    \"\"\"\n",
    "    def __init__(self, shared_weights=True, initialize_parameters=True, normalize_weights=True, bias=False):\n",
    "        super(chord_recognition_templates, self).__init__()\n",
    "        self.shared_weights = shared_weights\n",
    "\n",
    "        if shared_weights:\n",
    "            self.padding = lambda x: F.pad(x, pad=(0, 11, 0, 0), mode='circular')\n",
    "            self.filter = torch.nn.Conv2d(in_channels=1, out_channels=2, kernel_size=(1, 12), stride=(1, 1), bias=bias)\n",
    "            self.blank_filter = torch.nn.Conv2d(in_channels=1, out_channels=1, kernel_size=(1, 12), stride=(1, 1), bias=bias)\n",
    "            if initialize_parameters:\n",
    "                self.filter.weight.data = torch.tensor([[[[1, 0, 0, 0, 1, 0, 0, 1, 0, 0, 0, 0]]],     # major\n",
    "                                                        [[[1, 0, 0, 1, 0, 0, 0, 1, 0, 0, 0, 0]]]],    # minor\n",
    "                                                       dtype=torch.float32)\n",
    "                self.blank_filter.weight.data = torch.ones((1, 1, 1, 12), dtype=torch.float32) / 12.0\n",
    "                if self.filter.bias is not None:\n",
    "                    self.filter.bias.data = torch.zeros_like(self.filter.bias.data, dtype=torch.float32)\n",
    "                if self.blank_filter.bias is not None:\n",
    "                    self.blank_filter.bias.data = torch.zeros_like(self.blank_filter.bias.data, dtype=torch.float32)\n",
    "\n",
    "        else:\n",
    "            self.padding = lambda x: x\n",
    "            self.filter = torch.nn.Conv2d(in_channels=1, out_channels=25, kernel_size=(1, 12), stride=(1, 1), bias=bias)\n",
    "            if initialize_parameters:\n",
    "                kernel_major = torch.tensor([1, 0, 0, 0, 1, 0, 0, 1, 0, 0, 0, 0])\n",
    "                kernel_minor = torch.tensor([1, 0, 0, 1, 0, 0, 0, 1, 0, 0, 0, 0])\n",
    "\n",
    "                for i in range(12):\n",
    "                    self.filter.weight.data[i, 0, 0, :] = torch.roll(kernel_major, i)\n",
    "                    self.filter.weight.data[12 + i, 0, 0, :] = torch.roll(kernel_minor, i)\n",
    "                # self.filter.weight.data[24, 0, 0, :] = torch.tensor([1, 1, 1, 1, 1, 1, 1, 1, 1, 1, 1, 1]) / 12.0\n",
    "                self.filter.weight.data[24, 0, 0, :] = torch.ones(12, dtype=torch.float32) / 12.0\n",
    "\n",
    "                if self.filter.bias is not None:\n",
    "                    self.filter.bias.data = torch.zeros_like(self.filter.bias.data, dtype=torch.float32)\n",
    "\n",
    "        if normalize_weights:\n",
    "            self.filter.weight.data = F.normalize(self.filter.weight.data, p=2.0, dim=3)\n",
    "\n",
    "    def forward(self, x):\n",
    "        if self.shared_weights:\n",
    "            x_padded = self.padding(x)                                         # out: (B x 1 x T x 23)\n",
    "            y = self.filter(x_padded)                                          # out: (B x 2 x T x 12)\n",
    "            y_blank = self.blank_filter(x)                                     # out: (B x 1 x T x 1)\n",
    "            y_reshaped = torch.swapaxes(y, 1, 2)                               # out: (B x T x 2 x 12)\n",
    "            y_reshaped = torch.flatten(y_reshaped, start_dim=2)                # out: (B x T x 24)\n",
    "            y_blank_reshaped = torch.swapaxes(y_blank, 1, 2)                                  # out: (B x T x 1 x 1)\n",
    "            y_blank_reshaped = torch.squeeze(y_blank_reshaped, dim=2)                         # out: (B x T x 1)\n",
    "            y_reshaped = torch.cat((y_reshaped, y_blank_reshaped), dim=2)                     # out: (B x T x 25)\n",
    "            y_reshaped = torch.unsqueeze(y_reshaped, 1)                                       # out: (B x 1 x T x 25)\n",
    "        else:\n",
    "            x_padded = self.padding(x)                                          # out: (B x 1 x T x 12)\n",
    "            y = self.filter(x_padded)                                           # out: (B x 25 x T x 1)\n",
    "            y_reshaped = torch.swapaxes(y, 1, 2)                                # out: (B x T x 25 x 1)\n",
    "            y_reshaped = torch.unsqueeze(torch.flatten(y_reshaped, start_dim=2), 1)             # out: (B x 1 x T x 25)\n",
    "            \n",
    "        return y_reshaped\n",
    "\n",
    "\n",
    "class softmax_temperature(torch.nn.Module):\n",
    "    \"\"\"Softmax activation with trainable temperature parameter\n",
    "\n",
    "    Args:\n",
    "        dim: Dimension across which to apply the softmax function\n",
    "        tau: Temperature parameter\n",
    "        trainable: Whether the gradient w.r.t. tau is computed in backward pass\n",
    "    \"\"\"\n",
    "    def __init__(self, dim=3, tau=1, trainable=True):\n",
    "        super(softmax_temperature, self).__init__()\n",
    "        self.dim = dim\n",
    "        self.tau = torch.nn.parameter.Parameter(data=torch.tensor([tau], dtype=torch.float32), requires_grad=trainable)\n",
    "\n",
    "    def forward(self, x):\n",
    "        return F.softmax(x / self.tau, dim=self.dim)\n",
    "\n",
    "\n",
    "class chord_recog_templates_pipeline(torch.nn.Module):\n",
    "    \"\"\"Model for template-based chord recognition:\n",
    "\n",
    "    Pipeline:\n",
    "        1) input: chroma features\n",
    "        2) log compression (gamma trainable)\n",
    "        3) NOT USED: temporal averaging (conv. layer with trainable weights / median filter / Gaussian filter)\n",
    "        4) l1/l2/max/z normalization (only if norm large enough; otherwise: unit-norm vector with same values)\n",
    "        5) chord recognition via templates (conv. layer)\n",
    "        6) softmax -> output: chord probabilities\n",
    "\n",
    "    Args:\n",
    "        dictionaries containing parameters for the individual building blocks\n",
    "    \"\"\"\n",
    "    def __init__(self, compression_params=None, temp_smooth_params=None, feature_norm_params=None,\n",
    "                 chord_template_params=None, softmax_params=None):\n",
    "\n",
    "        super(chord_recog_templates_pipeline, self).__init__()\n",
    "\n",
    "        self.log_compression = log_compression(**compression_params)\n",
    "        # self.temporal_smoothing = temporal_smoothing(**temp_smooth_params)\n",
    "        self.feature_normalization = feature_normalization(**feature_norm_params)\n",
    "        self.chord_recognition_templates = chord_recognition_templates(**chord_template_params)\n",
    "        self.softmax_temperature = softmax_temperature(**softmax_params)\n",
    "\n",
    "    def forward(self, x):\n",
    "        y_pred, _, _, _, _ = self.get_intermediate_data(x)\n",
    "        return y_pred\n",
    "\n",
    "    def get_intermediate_data(self, x):\n",
    "        # Check input\n",
    "        # print(\"Input x contains NaN:\", torch.isnan(x).any().item(), \"inf:\", torch.isinf(x).any().item())\n",
    "        \n",
    "        x_comp = self.log_compression(x)\n",
    "        # print(\"After log_compression contains NaN:\", torch.isnan(x_comp).any().item(), \"inf:\", torch.isinf(x_comp).any().item())\n",
    "\n",
    "        x_avg = x_comp\n",
    "        # x_avg = self.temporal_smoothing(x_comp)\n",
    "        # print(\"After temporal_smoothing contains NaN:\", torch.isnan(x_avg).any().item(), \"inf:\", torch.isinf(x_avg).any().item())\n",
    "        \n",
    "        x_normalized = self.feature_normalization(x_avg)\n",
    "        # print(\"After feature_normalization contains NaN:\", torch.isnan(x_normalized).any().item(), \"inf:\", torch.isinf(x_normalized).any().item())\n",
    "        \n",
    "        x_templates = self.chord_recognition_templates(x_normalized)\n",
    "        # print(\"After chord_recognition_templates contains NaN:\", torch.isnan(x_templates).any().item(), \"inf:\", torch.isinf(x_templates).any().item())\n",
    "        \n",
    "        y_pred = self.softmax_temperature(x_templates)\n",
    "        # print(\"After softmax_temperature contains NaN:\", torch.isnan(y_pred).any().item(), \"inf:\", torch.isinf(y_pred).any().item())\n",
    "        \n",
    "        return y_pred, x_templates, x_normalized, x_avg, x_comp"
   ]
  },
  {
   "cell_type": "code",
   "execution_count": 3,
   "id": "f57b5954-1b89-4d47-be67-0f1366f53c54",
   "metadata": {
    "ExecuteTime": {
     "end_time": "2025-07-11T19:59:04.186745800Z",
     "start_time": "2025-07-11T19:59:04.166791Z"
    }
   },
   "outputs": [],
   "source": [
    "# Pipeline config\n",
    "\n",
    "compression_params = {'gamma_init': 1.0,       # makes pipeline somehow redundant; input chroma features are already logarithmically compressed\n",
    "                      'trainable': True}\n",
    "\n",
    "# temp_smooth_params = {'smoothing_type': 'weighted_sum', \n",
    "#                       'avg_length': 51, \n",
    "#                       'weight_init': 'uniform'}\n",
    "\n",
    "# temp_smooth_params = {'smoothing_type': 'Gaussian', \n",
    "#                       'avg_length': 51, \n",
    "#                       'sigma_init': 50}\n",
    "\n",
    "feature_norm_params = {'num_features': 12,\n",
    "                       'norm': '2', \n",
    "                       'threshold': 1e-4}\n",
    "\n",
    "chord_template_params = {'shared_weights': True, \n",
    "                         'initialize_parameters': True, \n",
    "                         'normalize_weights': False}\n",
    "\n",
    "softmax_params = {'tau': 1, \n",
    "                  'trainable': False}\n",
    "\n",
    "model_pipeline = chord_recog_templates_pipeline(compression_params=compression_params, \n",
    "                                       # temp_smooth_params=temp_smooth_params, \n",
    "                                       feature_norm_params=feature_norm_params, \n",
    "                                       chord_template_params=chord_template_params, \n",
    "                                       softmax_params=softmax_params)"
   ]
  },
  {
   "cell_type": "code",
   "execution_count": 4,
   "id": "7730da12-3d4b-433e-aee0-eab3f73ad9af",
   "metadata": {
    "ExecuteTime": {
     "end_time": "2025-07-11T19:59:04.261537900Z",
     "start_time": "2025-07-11T19:59:04.177761600Z"
    }
   },
   "outputs": [
    {
     "data": {
      "text/plain": "==========================================================================================\nLayer (type:depth-idx)                   Output Shape              Param #\n==========================================================================================\nchord_recog_templates_pipeline           [1, 1, 40, 25]            --\n├─log_compression: 1-1                   [1, 1, 40, 12]            1\n├─feature_normalization: 1-2             [1, 1, 40, 12]            --\n├─chord_recognition_templates: 1-3       [1, 1, 40, 25]            --\n│    └─Conv2d: 2-1                       [1, 2, 40, 12]            24\n│    └─Conv2d: 2-2                       [1, 1, 40, 1]             12\n├─softmax_temperature: 1-4               [1, 1, 40, 25]            (1)\n==========================================================================================\nTotal params: 38\nTrainable params: 37\nNon-trainable params: 1\nTotal mult-adds (M): 0.01\n==========================================================================================\nInput size (MB): 0.00\nForward/backward pass size (MB): 0.02\nParams size (MB): 0.00\nEstimated Total Size (MB): 0.02\n=========================================================================================="
     },
     "execution_count": 4,
     "metadata": {},
     "output_type": "execute_result"
    }
   ],
   "source": [
    "summary(model_pipeline, input_size=(1, 1, 40, 12))"
   ]
  },
  {
   "cell_type": "markdown",
   "id": "603878f2-1b66-4876-9e21-5e0eed15d010",
   "metadata": {},
   "source": [
    "## The END of network configuration\n",
    "## -------------------------------------------------------------------------------------------------------"
   ]
  },
  {
   "cell_type": "markdown",
   "id": "b621ef69-18cc-400b-8228-a66c5f4b85c3",
   "metadata": {},
   "source": [
    "## Prepare data"
   ]
  },
  {
   "cell_type": "code",
   "execution_count": 5,
   "id": "bae9734c-e276-4757-9f3e-7544aa4ea40f",
   "metadata": {
    "ExecuteTime": {
     "end_time": "2025-07-11T19:59:04.261537900Z",
     "start_time": "2025-07-11T19:59:04.200701300Z"
    }
   },
   "outputs": [],
   "source": [
    "nonchord = False\n",
    "song_dict = {}\n",
    "# song_dict[0] = ['LetItB', 'r',\n",
    "#                 os.path.join(data_basedir, 'C5', 'FMP_C5_Audio_Beatles_LetItBe_Beatles_1970-LetItBe-06.wav'),\n",
    "#                 os.path.join(data_basedir, 'C5', 'FMP_C5_Audio_Beatles_LetItBe_Beatles_1970-LetItBe-06_Chords_simplified.csv')]\n",
    "song_dict[0] = ['LetItB', 'r',\n",
    "                os.path.join(data_basedir, 'FMP_C5_F01_Beatles_LetItBe-mm1-4_Original.wav'),\n",
    "                os.path.join(data_basedir, 'FMP_C5_F01_Beatles_LetItBe-mm1-4_Original_Chords_simplified.csv')]\n",
    "song_dict[1] = ['HereCo', 'b',\n",
    "                os.path.join(data_basedir, 'FMP_C5_Audio_Beatles_HereComesTheSun_Beatles_1969-AbbeyRoad-07.wav'),\n",
    "                os.path.join(data_basedir, 'FMP_C5_Audio_Beatles_HereComesTheSun_Beatles_1969-AbbeyRoad-07_Chords_simplified.csv')]\n",
    "song_dict[2] = ['ObLaDi', 'c',\n",
    "                os.path.join(data_basedir, 'FMP_C5_Audio_Beatles_ObLaDiObLaDa_Beatles_1968-TheBeatlesTheWhiteAlbumDisc1-04.wav'),\n",
    "                os.path.join(data_basedir, 'FMP_C5_Audio_Beatles_ObLaDiObLaDa_Beatles_1968-TheBeatlesTheWhiteAlbumDisc1-04_Chords_simplified.csv')]\n",
    "song_dict[3] = ['PennyL', 'g',\n",
    "                os.path.join(data_basedir, 'FMP_C5_Audio_Beatles_PennyLane_Beatles_1967-MagicalMysteryTour-09.wav'),\n",
    "                os.path.join(data_basedir, 'FMP_C5_Audio_Beatles_PennyLane_Beatles_1967-MagicalMysteryTour-09_Chords_simplified.csv')]\n",
    "\n",
    "# csv_rel_path = song_dict[0][3]\n",
    "# csv_abs_path = os.path.abspath(csv_rel_path)\n",
    "# print(csv_abs_path)"
   ]
  },
  {
   "cell_type": "markdown",
   "id": "ab115dc0-7282-4db3-a249-28e9dd0104dd",
   "metadata": {},
   "source": [
    "### Feature Extraction (log-compressed STFT-based chroma features as above)"
   ]
  },
  {
   "cell_type": "code",
   "execution_count": 6,
   "id": "bc893d2e-5108-46d9-a5b8-fc2e53aff900",
   "metadata": {
    "ExecuteTime": {
     "end_time": "2025-07-11T19:59:11.188406Z",
     "start_time": "2025-07-11T19:59:04.217655200Z"
    }
   },
   "outputs": [
    {
     "name": "stdout",
     "output_type": "stream",
     "text": [
      "===== Computation of STFT-based chromagrams =====\n",
      "Processing:  LetItB\n",
      "Processing:  HereCo\n",
      "Processing:  ObLaDi\n",
      "Processing:  PennyL\n"
     ]
    }
   ],
   "source": [
    "# code from C5S3_ChordRec_Beatles\n",
    "\n",
    "def compute_X_dict(song_selected, version='STFT', details=True, nonchord=False):\n",
    "    X_dict = {}\n",
    "    Fs_X_dict = {}\n",
    "    ann_dict = {}\n",
    "    x_dur_dict = {}\n",
    "    chord_labels = libfmp.c5.get_chord_labels(ext_minor='m', nonchord=nonchord)\n",
    "    for s in song_selected:\n",
    "        if details is True:\n",
    "            print('Processing: ', song_dict[s][0])\n",
    "        fn_wav = song_dict[s][2]\n",
    "        fn_ann = song_dict[s][3]\n",
    "#         N = 2048\n",
    "#         H = 1024\n",
    "        N = 4096\n",
    "        H = 2048\n",
    "        if version == 'STFT':\n",
    "            X, Fs_X, x, Fs, x_dur = \\\n",
    "                libfmp.c5.compute_chromagram_from_filename(fn_wav, N=N, H=H, gamma=0.1, version='STFT')            # no log compression\n",
    "        if version == 'CQT':\n",
    "            X, Fs_X, x, Fs, x_dur = \\\n",
    "                libfmp.c5.compute_chromagram_from_filename(fn_wav, H=H, version='CQT')                  # no log compression\n",
    "        if version == 'IIR':\n",
    "            X, Fs_X, x, Fs, x_dur = \\\n",
    "                libfmp.c5.compute_chromagram_from_filename(fn_wav, N=N, H=H, gamma=10, version='IIR')             # no log compression\n",
    "            \n",
    "        X_dict[s] = X\n",
    "        Fs_X_dict[s] = Fs_X\n",
    "        x_dur_dict[s] = x_dur\n",
    "        N_X = X.shape[1]\n",
    "        ann_dict[s] = libfmp.c5.convert_chord_ann_matrix(fn_ann, chord_labels, Fs=Fs_X, N=N_X, last=False)\n",
    "        \n",
    "    return X_dict, Fs_X_dict, ann_dict, x_dur_dict, chord_labels\n",
    "    \n",
    "song_selected = [0, 1, 2, 3]\n",
    "#song_selected = [0]\n",
    "print('===== Computation of STFT-based chromagrams =====')\n",
    "X_dict_STFT, Fs_X_dict_STFT, ann_dict_STFT, x_dur_dict, chord_labels = compute_X_dict(song_selected, version='STFT', nonchord=nonchord)"
   ]
  },
  {
   "cell_type": "markdown",
   "id": "f31357ce-3d70-492e-8b42-c0f14b00d415",
   "metadata": {},
   "source": [
    "### Create Dataset + Dataloader"
   ]
  },
  {
   "cell_type": "code",
   "execution_count": 7,
   "id": "30350ded-fc39-409a-bbaa-dbb0282d259c",
   "metadata": {
    "editable": true,
    "slideshow": {
     "slide_type": ""
    },
    "tags": [],
    "ExecuteTime": {
     "end_time": "2025-07-11T19:59:11.201368300Z",
     "start_time": "2025-07-11T19:59:11.188406Z"
    }
   },
   "outputs": [],
   "source": [
    "class dataset_context(Dataset):\n",
    "    def __init__(self, inputs, ctc_targets, ctc_target_lengths, params):\n",
    "        \"\"\"\n",
    "        Args:\n",
    "            inputs: Tensor of padded chroma features\n",
    "            targets: Tensor of CTC target sequence (integer labels)\n",
    "            target_lengths: Tensor of length of the target sequence\n",
    "            params: Dictionary with 'context' and 'stride'\n",
    "        \"\"\"\n",
    "        self.inputs = inputs                                # Channels x Time x Chromas\n",
    "        self.ctc_targets = ctc_targets                              # Chords\n",
    "        self.ctc_target_lengths = ctc_target_lengths\n",
    "        self.context = params['context']\n",
    "        self.stride = params['stride']\n",
    "        \n",
    "    def __len__(self):\n",
    "        return len(self.inputs)\n",
    "    \n",
    "    def __getitem__(self, index):\n",
    "        index *= self.stride\n",
    "        half_context = self.context // 2\n",
    "        index += half_context\n",
    "        # X = self.inputs[:, (index - half_context):(index + half_context + 1), :].type(torch.FloatTensor)\n",
    "        X = self.inputs.type(torch.FloatTensor)\n",
    "        y = self.ctc_targets.type(torch.LongTensor)  # Shape: (T_target,)\n",
    "        y_length = self.ctc_target_lengths.type(torch.LongTensor)  # Shape: (1,)\n",
    "        return X, y, y_length\n",
    "    \n",
    "# def create_dataset(data_dict, ann_dict, song_dict, song_indices, dataset_params, dataset_description='train'):\n",
    "#     all_datasets = []\n",
    "#     half_context = dataset_params['context']//2\n",
    "#     \n",
    "#     for s in song_indices:\n",
    "#         inputs = torch.unsqueeze(torch.from_numpy(np.pad(data_dict[s].T, ((half_context, half_context + 1), (0, 0)))), 0)\n",
    "#         print(ann_dict[s][0])\n",
    "#         # transpose and zero-padding the label matrix\n",
    "#         targets = torch.from_numpy(np.pad(ann_dict[s][0].T, ((half_context, half_context + 1), (0, 0))))\n",
    "#         curr_dataset = dataset_context(inputs, targets, dataset_params)\n",
    "#         all_datasets.append(curr_dataset)\n",
    "#         \n",
    "#         print(f'- {song_dict[s][0]} added to {dataset_description} set. Length: {len(curr_dataset)} segments')\n",
    "#         \n",
    "#     full_dataset = torch.utils.data.ConcatDataset(all_datasets)     \n",
    "#     print(f'Total number of segments in the {dataset_description} set: {len(full_dataset)}')    \n",
    "#     return full_dataset\n",
    "\n",
    "def create_CTC_dataset(data_dict, ann_dict, song_dict, song_indices, dataset_params, dataset_description='train'):\n",
    "    all_datasets = []\n",
    "    segment_len = 40\n",
    "\n",
    "    for s in song_indices:\n",
    "        targets = ann_dict[s][0]  # (num_classes, T)\n",
    "        nonzero_frames = np.any(targets != 0, axis=0)\n",
    "        if not np.any(nonzero_frames):\n",
    "            print(f\"Skipping song {song_dict[s][0]}: all annotations are zero.\")\n",
    "            continue\n",
    "\n",
    "        start_idx = np.argmax(nonzero_frames)\n",
    "        end_idx = len(nonzero_frames) - np.argmax(nonzero_frames[::-1])\n",
    "        targets_trimmed = targets[:, start_idx:end_idx]\n",
    "        label_sequence = np.argmax(targets_trimmed, axis=0)\n",
    "\n",
    "        inputs = data_dict[s].T  # shape: (T, F)\n",
    "        inputs_trimmed = inputs[start_idx:end_idx, :]\n",
    "        T_total = inputs_trimmed.shape[0]\n",
    "        num_segments = T_total // segment_len\n",
    "\n",
    "        for i in range(num_segments):\n",
    "            seg_start = i * segment_len\n",
    "            seg_end = seg_start + segment_len\n",
    "\n",
    "            input_seg = inputs_trimmed[seg_start:seg_end, :]        # shape: (200, F)\n",
    "            label_seg = label_sequence[seg_start:seg_end]           # shape: (200,)\n",
    "\n",
    "            # Build CTC target for this segment\n",
    "            ctc_targets = [label_seg[0]]\n",
    "            for j in range(1, len(label_seg)):\n",
    "                if label_seg[j] != label_seg[j - 1]:\n",
    "                    ctc_targets.append(label_seg[j])\n",
    "\n",
    "            ctc_targets = torch.tensor(ctc_targets, dtype=torch.long)\n",
    "            ctc_target_lengths = torch.tensor([len(ctc_targets)], dtype=torch.long)\n",
    "            input_tensor = torch.unsqueeze(torch.from_numpy(input_seg), 0)  # shape: (1, 200, F)\n",
    "\n",
    "            curr_dataset = dataset_context(input_tensor, ctc_targets, ctc_target_lengths, dataset_params)\n",
    "            all_datasets.append(curr_dataset)\n",
    "\n",
    "        print(f'- {song_dict[s][0]} added to {dataset_description} set. Segments: {num_segments}')\n",
    "\n",
    "    full_dataset = ConcatDataset(all_datasets)\n",
    "    print(f'Total number of segments in the {dataset_description} set: {len(full_dataset)}')\n",
    "    return full_dataset"
   ]
  },
  {
   "cell_type": "markdown",
   "id": "cc017b55-9286-4d27-8cff-0378333dca39",
   "metadata": {},
   "source": [
    "### Define a new collate function"
   ]
  },
  {
   "cell_type": "code",
   "execution_count": 8,
   "id": "ffec14bb-69cc-4ee7-8e33-0104e84c0688",
   "metadata": {
    "ExecuteTime": {
     "end_time": "2025-07-11T19:59:11.245228800Z",
     "start_time": "2025-07-11T19:59:11.205335900Z"
    }
   },
   "outputs": [],
   "source": [
    "def ctc_collate_fn(batch):\n",
    "    \"\"\"\n",
    "    Custom collate function for batching CTC data.\n",
    "    Args:\n",
    "        batch: List of (X, y, y_length) tuples from dataset_context.\n",
    "    Returns:\n",
    "        X: Tensor of shape (batch_size, 1, context, 12)\n",
    "        y: Tensor of shape (sum(T_target),) - concatenated target sequences\n",
    "        y_length: Tensor of shape (batch_size,) - target sequence lengths\n",
    "    \"\"\"\n",
    "    X, y, y_length = zip(*batch)\n",
    "    X = torch.stack(X, dim=0)  # Stack inputs: (batch_size, 1, seg_len, 12)\n",
    "    y_length = torch.stack(y_length, dim=0)  # Stack lengths: (batch_size,)\n",
    "    y = torch.cat(y, dim=0)  # Concatenate targets: (sum(T_target),)\n",
    "    return X, y, y_length"
   ]
  },
  {
   "cell_type": "markdown",
   "id": "457c4d75-22bc-4dda-8ebf-56fcb41b3ab3",
   "metadata": {
    "jp-MarkdownHeadingCollapsed": true
   },
   "source": [
    "### Debug"
   ]
  },
  {
   "cell_type": "code",
   "execution_count": 9,
   "outputs": [],
   "source": [
    "# data_dict=X_dict_STFT\n",
    "# ann_dict=ann_dict_STFT\n",
    "# song_dict=song_dict\n",
    "# song_indices=train_set_indices\n",
    "# dataset_params=train_set_params\n",
    "# dataset_description='train'\n",
    "# \n",
    "# all_datasets = []\n",
    "# segment_len = 200\n",
    "# \n",
    "# for s in song_indices:\n",
    "#     targets = ann_dict[s][0]  # (num_classes, T)\n",
    "#     nonzero_frames = np.any(targets != 0, axis=0)\n",
    "#     if not np.any(nonzero_frames):\n",
    "#         print(f\"Skipping song {song_dict[s][0]}: all annotations are zero.\")\n",
    "#         continue\n",
    "# \n",
    "#     start_idx = np.argmax(nonzero_frames)\n",
    "#     end_idx = len(nonzero_frames) - np.argmax(nonzero_frames[::-1])\n",
    "#     targets_trimmed = targets[:, start_idx:end_idx]\n",
    "#     label_sequence = np.argmax(targets_trimmed, axis=0)\n",
    "# \n",
    "#     inputs = data_dict[s].T  # shape: (T, F)\n",
    "#     inputs_trimmed = inputs[start_idx:end_idx, :]\n",
    "#     T_total = inputs_trimmed.shape[0]\n",
    "#     num_segments = T_total // segment_len\n",
    "# \n",
    "#     for i in range(num_segments):\n",
    "#         seg_start = i * segment_len\n",
    "#         seg_end = seg_start + segment_len\n",
    "# \n",
    "#         input_seg = inputs_trimmed[seg_start:seg_end, :]        # shape: (200, F)\n",
    "#         label_seg = label_sequence[seg_start:seg_end]           # shape: (200,)\n",
    "# \n",
    "#         # Build CTC target for this segment\n",
    "#         ctc_targets = [label_seg[0]]\n",
    "#         for j in range(1, len(label_seg)):\n",
    "#             if label_seg[j] != label_seg[j - 1]:\n",
    "#                 ctc_targets.append(label_seg[j])\n",
    "# \n",
    "#         ctc_targets = torch.tensor(ctc_targets, dtype=torch.long)\n",
    "#         ctc_target_lengths = torch.tensor([len(ctc_targets)], dtype=torch.long)\n",
    "#         input_tensor = torch.unsqueeze(torch.from_numpy(input_seg), 0)  # shape: (1, 200, F)\n",
    "# \n",
    "#         curr_dataset = dataset_context(input_tensor, ctc_targets, ctc_target_lengths, dataset_params)\n",
    "#         all_datasets.append(curr_dataset)\n",
    "# \n",
    "#     print(f'- {song_dict[s][0]} added to {dataset_description} set. Segments: {num_segments}')\n",
    "# \n",
    "# full_dataset = ConcatDataset(all_datasets)\n",
    "# print(f'Total number of segments in the {dataset_description} set: {len(full_dataset)}')\n",
    "# \n",
    "# plt.figure()\n",
    "# plt.imshow(input_tensor[0].T, aspect=\"auto\", origin=\"lower\", interpolation=\"None\")\n",
    "# plt.show()\n",
    "# \n",
    "# plt.figure()\n",
    "# plt.imshow(targets_trimmed, aspect=\"auto\", origin=\"lower\", interpolation=\"None\")\n",
    "# plt.show()"
   ],
   "metadata": {
    "collapsed": false,
    "ExecuteTime": {
     "end_time": "2025-07-11T19:59:11.247224100Z",
     "start_time": "2025-07-11T19:59:11.222306100Z"
    }
   },
   "id": "c3b60979-f711-4d67-836f-9957f3edc7b9"
  },
  {
   "cell_type": "markdown",
   "id": "a8d78abb-86f2-43e8-916d-a690e6f6b9b4",
   "metadata": {},
   "source": [
    "### Choose training data and validation data"
   ]
  },
  {
   "cell_type": "code",
   "execution_count": 10,
   "id": "e2ac7dd4-fcc4-49c3-bc37-7ee4336ed548",
   "metadata": {
    "ExecuteTime": {
     "end_time": "2025-07-11T19:59:11.267170900Z",
     "start_time": "2025-07-11T19:59:11.234259Z"
    }
   },
   "outputs": [
    {
     "name": "stdout",
     "output_type": "stream",
     "text": [
      "- HereCo added to train set. Segments: 49\n",
      "- ObLaDi added to train set. Segments: 50\n",
      "Total number of segments in the train set: 99\n",
      "\n",
      "\n",
      "- PennyL added to val set. Segments: 47\n",
      "Total number of segments in the val set: 47\n",
      "\n",
      "\n",
      "-Training data loader contains 99 mini batches.\n",
      "-Validation data loader contains 47 mini batches.\n"
     ]
    }
   ],
   "source": [
    "train_set_indices = [1, 2]\n",
    "train_set_params = {'context': 1, 'stride': 1}\n",
    "\n",
    "train_set = create_CTC_dataset(data_dict=X_dict_STFT, \n",
    "                           ann_dict=ann_dict_STFT, \n",
    "                           song_dict=song_dict, \n",
    "                           song_indices=train_set_indices, \n",
    "                           dataset_params=train_set_params, \n",
    "                           dataset_description='train')\n",
    "\n",
    "print('\\n')\n",
    "\n",
    "val_set_indices = [3]\n",
    "val_set_params = {'context': 1, 'stride': 1}\n",
    "\n",
    "val_set = create_CTC_dataset(data_dict=X_dict_STFT, \n",
    "                         ann_dict=ann_dict_STFT, \n",
    "                         song_dict=song_dict, \n",
    "                         song_indices=val_set_indices, \n",
    "                         dataset_params=val_set_params, \n",
    "                         dataset_description='val')\n",
    "print('\\n')\n",
    "train_loader_params = {'batch_size': 1, 'shuffle': True, 'num_workers': 0, 'collate_fn': ctc_collate_fn}\n",
    "train_loader = torch.utils.data.DataLoader(train_set, **train_loader_params)\n",
    "print(f'-Training data loader contains {len(train_loader)} mini batches.')\n",
    "\n",
    "val_loader_params = {'batch_size': 1, 'shuffle': False, 'num_workers': 0, 'collate_fn': ctc_collate_fn}\n",
    "val_loader = torch.utils.data.DataLoader(val_set, **val_loader_params)\n",
    "print(f'-Validation data loader contains {len(val_loader)} mini batches.')"
   ]
  },
  {
   "cell_type": "markdown",
   "id": "1a387db1-3d2e-47f7-99a7-6f5ae4f1207d",
   "metadata": {},
   "source": [
    "## Train Pipeline"
   ]
  },
  {
   "cell_type": "code",
   "execution_count": 11,
   "id": "751b204c-9ceb-4774-9eca-669d22e37676",
   "metadata": {
    "ExecuteTime": {
     "end_time": "2025-07-11T19:59:11.371590100Z",
     "start_time": "2025-07-11T19:59:11.267170900Z"
    }
   },
   "outputs": [
    {
     "name": "stdout",
     "output_type": "stream",
     "text": [
      "Trainable parameters:\n",
      "\n",
      "'log_compression.log_gamma'\n",
      "'chord_recognition_templates.filter.weight'\n",
      "'chord_recognition_templates.blank_filter.weight'\n"
     ]
    }
   ],
   "source": [
    "print('Trainable parameters:\\n')\n",
    "\n",
    "trainable_parameters = []\n",
    "for name, param in model_pipeline.named_parameters():\n",
    "    if param.requires_grad:\n",
    "        trainable_parameters.append(name)\n",
    "        print(f\"'{name}'\") "
   ]
  },
  {
   "cell_type": "code",
   "execution_count": 12,
   "id": "14bbf2cc-0f76-4f6b-b428-ea74f40fe55d",
   "metadata": {
    "ExecuteTime": {
     "end_time": "2025-07-11T19:59:11.390540600Z",
     "start_time": "2025-07-11T19:59:11.285141300Z"
    }
   },
   "outputs": [],
   "source": [
    "optimization_mode = 0\n",
    "\n",
    "if optimization_mode == 1:\n",
    "    frozen_parameters = []           \n",
    "\n",
    "if optimization_mode == 2:\n",
    "    trained_parameters = []\n",
    "if optimization_mode == 0:\n",
    "    parameters_to_optimize = model_pipeline.parameters()\n",
    "    \n",
    "elif optimization_mode == 1:\n",
    "    parameters_to_optimize = []\n",
    "\n",
    "    for name, param in model_pipeline.named_parameters():\n",
    "        if not name in frozen_parameters:\n",
    "            parameters_to_optimize.append(param)\n",
    "            \n",
    "elif optimization_mode == 2:\n",
    "    parameters_to_optimize = []\n",
    "\n",
    "    for name, param in model_pipeline.named_parameters():\n",
    "        if name in trained_parameters:\n",
    "            parameters_to_optimize.append(param)"
   ]
  },
  {
   "cell_type": "markdown",
   "id": "44144859-fc7b-44a3-9795-d6e6fc2f929f",
   "metadata": {},
   "source": [
    "### Optimizer&Training params"
   ]
  },
  {
   "cell_type": "code",
   "execution_count": 13,
   "id": "97b8d740-f325-4ade-8694-77d6b72bf850",
   "metadata": {
    "ExecuteTime": {
     "end_time": "2025-07-11T19:59:12.972036400Z",
     "start_time": "2025-07-11T19:59:11.297090700Z"
    }
   },
   "outputs": [],
   "source": [
    "optim_params = {'lr': 0.001, 'betas': (0.9, 0.999)}\n",
    "optimizer = torch.optim.Adam(parameters_to_optimize, **optim_params)\n",
    "training_params = {'device': 'cpu', 'max_epochs': 50}\n",
    "# training_params = {'device': 'cuda:0', 'max_epochs': 25}\n",
    "scheduler = torch.optim.lr_scheduler.ReduceLROnPlateau(optimizer, mode='min', factor=0.1, patience=5)"
   ]
  },
  {
   "cell_type": "markdown",
   "id": "15696ad7-1235-44a5-8501-ea08bc288d67",
   "metadata": {
    "jp-MarkdownHeadingCollapsed": true
   },
   "source": [
    "### dummy test"
   ]
  },
  {
   "cell_type": "code",
   "execution_count": 14,
   "id": "18b2a716-8c81-4a0a-9c81-521683c5fdb6",
   "metadata": {
    "ExecuteTime": {
     "end_time": "2025-07-11T19:59:12.986994700Z",
     "start_time": "2025-07-11T19:59:12.978020800Z"
    }
   },
   "outputs": [],
   "source": [
    "# # Create dummy chroma input\n",
    "# B, T, D = 2, 115, 12\n",
    "# dummy_input = torch.rand(B, 1, T, D)  # Uniform between 0 and 1\n",
    "# \n",
    "# # Move to device\n",
    "# dummy_input = dummy_input.to(training_params['device'])\n",
    "# \n",
    "# # Set model to eval mode (to turn off dropout etc.)\n",
    "# model_pipeline.eval()\n",
    "# \n",
    "# # Run one forward pass with debug printing\n",
    "# with torch.no_grad():\n",
    "#     y_pred, x_templates, x_norm, x_avg, x_comp = model_pipeline.get_intermediate_data(dummy_input)\n",
    "#     print(\"y_pred shape:\", y_pred.shape)\n",
    "#     print(\"y_pred NaN:\", torch.isnan(y_pred).any().item())\n",
    "#     print(\"y_pred min:\", y_pred.min().item())\n",
    "#     print(\"y_pred max:\", y_pred.max().item())\n",
    "# \n",
    "# torch.sum(y_pred[0,0,:,:], axis=-1)"
   ]
  },
  {
   "cell_type": "markdown",
   "id": "f8a1ee4c-fe74-47f7-8b8c-922140d7b216",
   "metadata": {},
   "source": [
    "# CTC LOSS"
   ]
  },
  {
   "cell_type": "code",
   "execution_count": 15,
   "id": "a61da83f-ed64-4da3-9bbe-1107fb5762b1",
   "metadata": {
    "scrolled": true,
    "ExecuteTime": {
     "end_time": "2025-07-11T19:59:13.015925200Z",
     "start_time": "2025-07-11T19:59:12.988989700Z"
    }
   },
   "outputs": [],
   "source": [
    "crit = torch.nn.CTCLoss(blank=24, reduction='mean', zero_infinity=False).to(training_params['device'])"
   ]
  },
  {
   "cell_type": "markdown",
   "id": "a0b81cfb-214e-4a1b-a0f6-e19a9eb4b5fe",
   "metadata": {
    "jp-MarkdownHeadingCollapsed": true
   },
   "source": [
    "### Network Training - Train the model"
   ]
  },
  {
   "cell_type": "code",
   "execution_count": 16,
   "id": "a0058581-5ccd-4d8a-906a-00a6a44de75f",
   "metadata": {
    "ExecuteTime": {
     "end_time": "2025-07-11T19:59:13.018910Z",
     "start_time": "2025-07-11T19:59:13.004951600Z"
    }
   },
   "outputs": [],
   "source": [
    "# for X, y, y_length in train_loader:\n",
    "#     break\n",
    "# X.shape\n",
    "# y\n",
    "# y_length"
   ]
  },
  {
   "cell_type": "markdown",
   "id": "4e81b18d-3247-4e6c-bc61-4c66195e959c",
   "metadata": {},
   "source": [
    "### Training"
   ]
  },
  {
   "cell_type": "code",
   "execution_count": 17,
   "id": "e604a039-5146-40c8-8c47-15ca96e28995",
   "metadata": {
    "editable": true,
    "slideshow": {
     "slide_type": ""
    },
    "tags": [],
    "ExecuteTime": {
     "end_time": "2025-07-11T19:59:26.140330200Z",
     "start_time": "2025-07-11T19:59:13.026889400Z"
    }
   },
   "outputs": [
    {
     "name": "stdout",
     "output_type": "stream",
     "text": [
      "Finished epoch 0. Train Loss: 48.5730, Val Loss: 50.9368\n",
      "    ...saved model\n",
      "Finished epoch 1. Train Loss: 48.3779, Val Loss: 50.6760\n",
      "    ...saved model\n",
      "Finished epoch 2. Train Loss: 47.9167, Val Loss: 49.8718\n",
      "    ...saved model\n",
      "Finished epoch 3. Train Loss: 46.3780, Val Loss: 47.3738\n",
      "    ...saved model\n",
      "Finished epoch 4. Train Loss: 43.1420, Val Loss: 43.6389\n",
      "    ...saved model\n",
      "Finished epoch 5. Train Loss: 40.0717, Val Loss: 41.1861\n",
      "    ...saved model\n",
      "Finished epoch 6. Train Loss: 38.3776, Val Loss: 39.8866\n",
      "    ...saved model\n",
      "Finished epoch 7. Train Loss: 37.5091, Val Loss: 39.1922\n",
      "    ...saved model\n",
      "Finished epoch 8. Train Loss: 37.0218, Val Loss: 38.7784\n",
      "    ...saved model\n",
      "Finished epoch 9. Train Loss: 36.7195, Val Loss: 38.5012\n",
      "    ...saved model\n",
      "Finished epoch 10. Train Loss: 36.5167, Val Loss: 38.3083\n",
      "    ...saved model\n",
      "Finished epoch 11. Train Loss: 36.3735, Val Loss: 38.1692\n",
      "    ...saved model\n",
      "Finished epoch 12. Train Loss: 36.2676, Val Loss: 38.0663\n",
      "    ...saved model\n",
      "Finished epoch 13. Train Loss: 36.1868, Val Loss: 37.9872\n",
      "    ...saved model\n",
      "Finished epoch 14. Train Loss: 36.1235, Val Loss: 37.9243\n",
      "    ...saved model\n",
      "Finished epoch 15. Train Loss: 36.0730, Val Loss: 37.8728\n",
      "    ...saved model\n",
      "Finished epoch 16. Train Loss: 36.0315, Val Loss: 37.8315\n",
      "    ...saved model\n",
      "Finished epoch 17. Train Loss: 35.9975, Val Loss: 37.7953\n",
      "    ...saved model\n",
      "Finished epoch 18. Train Loss: 35.9685, Val Loss: 37.7668\n",
      "    ...saved model\n",
      "Finished epoch 19. Train Loss: 35.9443, Val Loss: 37.7408\n",
      "    ...saved model\n",
      "Finished epoch 20. Train Loss: 35.9233, Val Loss: 37.7202\n",
      "    ...saved model\n",
      "Finished epoch 21. Train Loss: 35.9055, Val Loss: 37.7008\n",
      "    ...saved model\n",
      "Finished epoch 22. Train Loss: 35.8897, Val Loss: 37.6847\n",
      "    ...saved model\n",
      "Finished epoch 23. Train Loss: 35.8760, Val Loss: 37.6708\n",
      "    ...saved model\n",
      "Finished epoch 24. Train Loss: 35.8639, Val Loss: 37.6579\n",
      "    ...saved model\n",
      "Finished epoch 25. Train Loss: 35.8531, Val Loss: 37.6466\n",
      "    ...saved model\n",
      "Finished epoch 26. Train Loss: 35.8435, Val Loss: 37.6366\n",
      "    ...saved model\n",
      "Finished epoch 27. Train Loss: 35.8350, Val Loss: 37.6275\n",
      "    ...saved model\n",
      "Finished epoch 28. Train Loss: 35.8273, Val Loss: 37.6198\n",
      "    ...saved model\n",
      "Finished epoch 29. Train Loss: 35.8204, Val Loss: 37.6125\n",
      "    ...saved model\n",
      "Finished epoch 30. Train Loss: 35.8141, Val Loss: 37.6059\n",
      "    ...saved model\n",
      "Finished epoch 31. Train Loss: 35.8085, Val Loss: 37.5998\n",
      "    ...saved model\n",
      "Finished epoch 32. Train Loss: 35.8033, Val Loss: 37.5944\n",
      "    ...saved model\n",
      "Finished epoch 33. Train Loss: 35.7986, Val Loss: 37.5895\n",
      "    ...saved model\n",
      "Finished epoch 34. Train Loss: 35.7942, Val Loss: 37.5851\n",
      "    ...saved model\n",
      "Finished epoch 35. Train Loss: 35.7903, Val Loss: 37.5809\n",
      "    ...saved model\n",
      "Finished epoch 36. Train Loss: 35.7867, Val Loss: 37.5772\n",
      "    ...saved model\n",
      "Finished epoch 37. Train Loss: 35.7833, Val Loss: 37.5736\n",
      "    ...saved model\n",
      "Finished epoch 38. Train Loss: 35.7802, Val Loss: 37.5705\n",
      "    ...saved model\n",
      "Finished epoch 39. Train Loss: 35.7774, Val Loss: 37.5675\n",
      "    ...saved model\n",
      "Finished epoch 40. Train Loss: 35.7747, Val Loss: 37.5647\n",
      "    ...saved model\n",
      "Finished epoch 41. Train Loss: 35.7723, Val Loss: 37.5622\n",
      "    ...saved model\n",
      "Finished epoch 42. Train Loss: 35.7700, Val Loss: 37.5598\n",
      "    ...saved model\n",
      "Finished epoch 43. Train Loss: 35.7679, Val Loss: 37.5576\n",
      "    ...saved model\n",
      "Finished epoch 44. Train Loss: 35.7659, Val Loss: 37.5556\n",
      "    ...saved model\n",
      "Finished epoch 45. Train Loss: 35.7640, Val Loss: 37.5538\n",
      "    ...saved model\n",
      "Finished epoch 46. Train Loss: 35.7623, Val Loss: 37.5519\n",
      "    ...saved model\n",
      "Finished epoch 47. Train Loss: 35.7607, Val Loss: 37.5503\n",
      "    ...saved model\n",
      "Finished epoch 48. Train Loss: 35.7592, Val Loss: 37.5488\n",
      "    ...saved model\n",
      "Finished epoch 49. Train Loss: 35.7578, Val Loss: 37.5473\n",
      "    ...saved model\n",
      "\n",
      "Restored model from epoch 49.\n"
     ]
    }
   ],
   "source": [
    "model_pipeline = model_pipeline.to(training_params['device'])\n",
    "\n",
    "# for always keeping the best model\n",
    "best_model = deepcopy(model_pipeline)\n",
    "best_val_loss = None\n",
    "best_epoch = None\n",
    "\n",
    "train_losses = []\n",
    "val_losses = []\n",
    "\n",
    "for epoch in range(training_params['max_epochs']):\n",
    "    # set model to training mode; relevant, e.g., for BatchNorm, Dropout (does not change anything for our model here)\n",
    "    model_pipeline.train()\n",
    "    \n",
    "    with torch.enable_grad():\n",
    "        accum_loss, n_batches = 0, 0\n",
    "        for X, y, y_length in train_loader:\n",
    "            X = X.to(training_params['device'])                   # out: (B x 1 x T x 25)\n",
    "            # print(f\"Input X shape: {X.shape}\")\n",
    "            y = y.to(training_params['device'])                      \n",
    "            # print(f\"Target shape: {y.shape}\")\n",
    "            y_length = y_length.to(training_params['device'])\n",
    "            # print(f\"y_length: {y_length.shape}\")\n",
    "\n",
    "            # get model prediction\n",
    "            y_pred = model_pipeline(X)\n",
    "            # print(\"y_pred shape:\", y_pred.shape)\n",
    "            y_pred = y_pred.squeeze(1)\n",
    "            # print(\"squeezed y_pred shape:\", y_pred.shape)\n",
    "            y_pred_log = torch.log_softmax(y_pred, dim=2)\n",
    "            # print(\"log y_pred shape:\", y_pred_log.shape)\n",
    "            y_pred_log = torch.swapaxes(y_pred_log, 0, 1)\n",
    "            # print(\"swapped log y_pred shape:\", y_pred_log.shape)\n",
    "            T = X.size(2)\n",
    "            B = X.size(0)\n",
    "            input_lengths = torch.full((B,), T, dtype=torch.long, device=training_params['device'])\n",
    "            # print(\"input_lengths shape:\", input_lengths.shape)\n",
    "            target_lengths = y_length.squeeze(1)\n",
    "            # print(\"target_lengths shape:\", target_lengths.shape)\n",
    "\n",
    "            loss = crit(y_pred_log, y, input_lengths, y_length)\n",
    "\n",
    "            # backpropagation + optimization\n",
    "            optimizer.zero_grad()\n",
    "            loss.backward()\n",
    "            optimizer.step()\n",
    "            accum_loss += loss.item()\n",
    "            n_batches += 1\n",
    "        \n",
    "    # set model to evaluation mode\n",
    "    model_pipeline.eval()\n",
    "    \n",
    "    with torch.no_grad():    \n",
    "        accum_loss_val, n_batches_val = 0, 0\n",
    "        for X_val, y_val, y_val_length in val_loader:\n",
    "            X_val = X_val.to(training_params['device'])\n",
    "            y_val = y_val.to(training_params['device'])\n",
    "            y_val_length = y_val_length.to(training_params['device'])\n",
    "            y_pred_val = model_pipeline(X_val)\n",
    "            y_pred_val = y_pred_val.squeeze(1)\n",
    "            y_pred_val_log = torch.log_softmax(y_pred_val, dim=2)\n",
    "            y_pred_val_log = torch.swapaxes(y_pred_val_log, 0, 1)\n",
    "            T_val = X_val.size(2)\n",
    "            B_val = X_val.size(0)\n",
    "            input_val_lengths = torch.full((B_val,), T_val, dtype=torch.long, device=training_params['device'])\n",
    "\n",
    "            loss_val = crit(y_pred_val_log, y_val, input_val_lengths, y_val_length)\n",
    "\n",
    "            accum_loss_val += loss_val.item()\n",
    "            n_batches_val += 1        \n",
    "\n",
    "    train_loss = accum_loss / n_batches\n",
    "    val_loss = accum_loss_val / n_batches_val\n",
    "    print(f'Finished epoch {epoch}. Train Loss: {train_loss:.4f}, Val Loss: {val_loss:.4f}')\n",
    "    \n",
    "    if best_val_loss is None or val_loss < best_val_loss:\n",
    "        best_val_loss = val_loss\n",
    "        best_model = deepcopy(model_pipeline)\n",
    "        best_epoch = epoch\n",
    "        print('    ...saved model')\n",
    "        \n",
    "    train_losses.append(train_loss)\n",
    "    val_losses.append(val_loss)\n",
    "        \n",
    "model_pipeline = deepcopy(best_model)\n",
    "print(f'\\nRestored model from epoch {best_epoch}.')"
   ]
  },
  {
   "cell_type": "code",
   "execution_count": 18,
   "id": "68c33ed7-153f-41f9-9d80-5deb39ebd710",
   "metadata": {
    "ExecuteTime": {
     "end_time": "2025-07-11T19:59:26.358746100Z",
     "start_time": "2025-07-11T19:59:26.139333Z"
    }
   },
   "outputs": [
    {
     "data": {
      "text/plain": "<Figure size 432x288 with 1 Axes>",
      "image/png": "[encoded data removed]"
     },
     "metadata": {
      "needs_background": "light"
     },
     "output_type": "display_data"
    }
   ],
   "source": [
    "if len(train_losses) > 1:\n",
    "    plt.plot(train_losses, label='Train Loss')\n",
    "    plt.plot(val_losses, label='Val Loss')\n",
    "    plt.xlabel('Epoch')\n",
    "    plt.ylabel('Loss')\n",
    "    plt.title('Loss Curve')\n",
    "    plt.legend()\n",
    "    plt.show()"
   ]
  },
  {
   "cell_type": "markdown",
   "id": "7f69243e-14be-40de-a2c3-831d08007e08",
   "metadata": {},
   "source": [
    "# Evaluation on Let It Be"
   ]
  },
  {
   "cell_type": "code",
   "execution_count": 19,
   "id": "7d1bf1fb-e495-450f-8909-ff6d7d57f918",
   "metadata": {
    "ExecuteTime": {
     "end_time": "2025-07-11T19:59:26.406617Z",
     "start_time": "2025-07-11T19:59:26.361738600Z"
    }
   },
   "outputs": [
    {
     "name": "stdout",
     "output_type": "stream",
     "text": [
      "- LetItB added to test set. Segments: 3\n",
      "Total number of segments in the test set: 3\n",
      "\n",
      "Test loader contains 3 mini batches.\n"
     ]
    }
   ],
   "source": [
    "test_set_indices = [0]\n",
    "test_set_params = {'context': 1, 'stride': 1}\n",
    "\n",
    "test_set = create_CTC_dataset(data_dict=X_dict_STFT, \n",
    "                         ann_dict=ann_dict_STFT, \n",
    "                         song_dict=song_dict, \n",
    "                         song_indices=test_set_indices, \n",
    "                         dataset_params=test_set_params, \n",
    "                         dataset_description='test')\n",
    "\n",
    "test_loader_params = {'batch_size': 1, 'shuffle': False, 'num_workers': 0}\n",
    "test_loader = torch.utils.data.DataLoader(test_set, **test_loader_params)\n",
    "print(f'\\nTest loader contains {len(test_loader)} mini batches.')"
   ]
  },
  {
   "cell_type": "code",
   "execution_count": 20,
   "id": "8a2724f2-7e18-4a32-a089-2f6150bf1fb2",
   "metadata": {
    "ExecuteTime": {
     "end_time": "2025-07-11T19:59:27.688507700Z",
     "start_time": "2025-07-11T19:59:26.380705300Z"
    }
   },
   "outputs": [
    {
     "data": {
      "text/plain": "<Figure size 720x288 with 2 Axes>",
      "image/png": "[encoded data removed]"
     },
     "metadata": {
      "needs_background": "light"
     },
     "output_type": "display_data"
    },
    {
     "data": {
      "text/plain": "<Figure size 720x288 with 2 Axes>",
      "image/png": "[encoded data removed]"
     },
     "metadata": {
      "needs_background": "light"
     },
     "output_type": "display_data"
    },
    {
     "data": {
      "text/plain": "<Figure size 720x288 with 2 Axes>",
      "image/png": "[encoded data removed]"
     },
     "metadata": {
      "needs_background": "light"
     },
     "output_type": "display_data"
    },
    {
     "data": {
      "text/plain": "<Figure size 720x288 with 1 Axes>",
      "image/png": "[encoded data removed]"
     },
     "metadata": {
      "needs_background": "light"
     },
     "output_type": "display_data"
    }
   ],
   "source": [
    "model_pipeline.eval()\n",
    "\n",
    "chord_names = [\n",
    "    'C', 'C#', 'D', 'D#', 'E', 'F', 'F#', 'G', 'G#', 'A', 'A#', 'B',\n",
    "    'Cm', 'C#m', 'Dm', 'D#m', 'Em', 'Fm', 'F#m', 'Gm', 'G#m', 'Am', 'A#m', 'Bm'\n",
    "]\n",
    "all_binary_masks = []\n",
    "sample_index = 0  \n",
    "\n",
    "with torch.no_grad():\n",
    "    for X_test, _, _ in test_loader:\n",
    "        X_test = X_test.to(training_params['device'])\n",
    "        y_pred_test = model_pipeline(X_test)  # (B, 1, T, C)\n",
    "        y_pred_test = y_pred_test.squeeze(1)  # (B, T, C)\n",
    "        y_pred_test_log = torch.log_softmax(y_pred_test, dim=2)\n",
    "        y_pred_np = y_pred_test_log.cpu().numpy()  # (B, T, C)\n",
    "\n",
    "        for i in range(y_pred_np.shape[0]):\n",
    "            y_probs = np.exp(y_pred_np[i])        # (T, C)\n",
    "            y_probs = y_probs[:, :-1]             # (T, 24)\n",
    "            y_probs = y_probs.T                   # (24, T)\n",
    "\n",
    "            y_probs /= np.sum(y_probs, axis=0, keepdims=True)\n",
    "\n",
    "            plt.figure(figsize=(10, 4))\n",
    "            im = plt.imshow(y_probs, aspect=\"auto\", origin=\"lower\", interpolation=\"none\", cmap=\"viridis\")\n",
    "            plt.title(f\"Test Sample {sample_index+1}\")\n",
    "            plt.xlabel(\"Time Frame\")\n",
    "            plt.ylabel(\"Chord\")\n",
    "            plt.yticks(ticks=np.arange(24), labels=chord_names)\n",
    "            plt.colorbar(im, label=\"Probability\")\n",
    "            plt.tight_layout()\n",
    "            plt.show()\n",
    "\n",
    "            max_indices = np.argmax(y_probs, axis=0)              # shape: (T,)\n",
    "            binary_mask = np.zeros_like(y_probs)                  # shape: (24, T)\n",
    "            binary_mask[max_indices, np.arange(y_probs.shape[1])] = 1  \n",
    "            all_binary_masks.append(binary_mask)\n",
    "\n",
    "            sample_index += 1\n",
    "    \n",
    "    combined_binary_mask = np.concatenate(all_binary_masks, axis=1)  # Concatenate along time axis        \n",
    "    plt.figure(figsize=(10, 4))\n",
    "    im2 = plt.imshow(combined_binary_mask, aspect=\"auto\", origin=\"lower\", interpolation=\"none\", cmap=\"gray_r\")\n",
    "    plt.title(f\"Predicted Chord\")\n",
    "    plt.xlabel(\"Time Frame\")\n",
    "    plt.ylabel(\"Chord\")\n",
    "    plt.yticks(ticks=np.arange(24), labels=chord_names)\n",
    "    plt.grid()\n",
    "    plt.tight_layout()\n",
    "    plt.show()"
   ]
  },
  {
   "cell_type": "markdown",
   "id": "554079d3-c780-47f5-937d-29b7a8b6bca0",
   "metadata": {},
   "source": [
    "## Investigate Network Parameters"
   ]
  },
  {
   "cell_type": "code",
   "execution_count": 21,
   "id": "6b7f0245-e8fd-4ffd-86b3-5e6b55e5af0c",
   "metadata": {
    "ExecuteTime": {
     "end_time": "2025-07-11T19:59:27.746520Z",
     "start_time": "2025-07-11T19:59:27.689505Z"
    }
   },
   "outputs": [
    {
     "name": "stdout",
     "output_type": "stream",
     "text": [
      "Initial gamma:            1.0000\n",
      "Gamma after training:     5.8395\n"
     ]
    }
   ],
   "source": [
    "if compression_params['gamma_init'] is not None:\n",
    "    print(f'{\"Initial gamma:\" : <25} {compression_params[\"gamma_init\"]:.4f}')\n",
    "    print(f'{\"Gamma after training:\" : <25} {torch.exp(model_pipeline.log_compression.log_gamma).item():.4f}')  "
   ]
  },
  {
   "cell_type": "code",
   "execution_count": 22,
   "id": "f6f7b675-985d-4575-a78d-dc360e7161f8",
   "metadata": {
    "ExecuteTime": {
     "end_time": "2025-07-11T19:59:27.764474Z",
     "start_time": "2025-07-11T19:59:27.706459400Z"
    }
   },
   "outputs": [],
   "source": [
    "# Class for visualizing chord templates with zero-centered diverging colormap\n",
    "\n",
    "# Example of making your own norm.  Also see matplotlib.colors.\n",
    "# From Joe Kington: This one gives two different linear ramps:\n",
    "class MidpointNormalize(matplotlib.colors.Normalize):\n",
    "    def __init__(self, vmin=None, vmax=None, midpoint=None, clip=False):\n",
    "        self.midpoint = midpoint\n",
    "        matplotlib.colors.Normalize.__init__(self, vmin, vmax, clip)\n",
    "\n",
    "    def __call__(self, value, clip=None):\n",
    "        # I'm ignoring masked values and all kinds of edge cases to make a\n",
    "        # simple example...\n",
    "        x, y = [self.vmin, self.midpoint, self.vmax], [0, 0.5, 1]\n",
    "        return np.ma.masked_array(np.interp(value, x, y))"
   ]
  },
  {
   "cell_type": "code",
   "execution_count": 23,
   "id": "52d1072e-0002-4328-b6e3-8cbcdc48d0c7",
   "metadata": {
    "ExecuteTime": {
     "end_time": "2025-07-11T19:59:28.440888900Z",
     "start_time": "2025-07-11T19:59:27.727536100Z"
    }
   },
   "outputs": [
    {
     "data": {
      "text/plain": "<Figure size 720x504 with 4 Axes>",
      "image/png": "[encoded data removed]"
     },
     "metadata": {
      "needs_background": "light"
     },
     "output_type": "display_data"
    }
   ],
   "source": [
    "chroma_labels = ['C', 'C#', 'D', 'D#', 'E', 'F', 'F#', 'G', 'G#', 'A', 'A#', 'B']\n",
    "ext_minor = 'm'\n",
    "chord_labels_maj = chroma_labels\n",
    "chord_labels_min = [s + ext_minor for s in chroma_labels]\n",
    "chord_labels = chord_labels_maj + chord_labels_min\n",
    "\n",
    "# read weights from layer\n",
    "weights = model_pipeline.chord_recognition_templates.filter.weight.to('cpu').detach()\n",
    "weights = np.squeeze(weights)\n",
    "\n",
    "templates_maj = np.zeros((12,12))\n",
    "templates_min = np.zeros((12,12))\n",
    "\n",
    "if weights.shape[0] == 2:\n",
    "    for n in range(12):           # shared weights -> templates are only shifted versions of each other\n",
    "        templates_maj[:, n] = np.roll(weights[0], n)\n",
    "        templates_min[:, n] = np.roll(weights[1], n)\n",
    "    \n",
    "elif weights.shape[0] == 24:\n",
    "    templates_maj = np.asarray(weights[:12, :]).T\n",
    "    templates_min = np.asarray(weights[12:, :]).T\n",
    "    \n",
    "\n",
    "fig, ax = plt.subplots(2, 2, gridspec_kw={'width_ratios': [1, 0.05]}, figsize=(10, 7))\n",
    "    \n",
    "# determine appropriate colormap for plots\n",
    "if np.min([templates_maj, templates_min]) < 0:\n",
    "    abs_max = np.abs([templates_maj, templates_min]).max()\n",
    "    plot_parameters = {'cmap': 'RdGy', 'norm': MidpointNormalize(vmin=-abs_max, vmax=abs_max, midpoint=0, clip=False)}\n",
    "else:\n",
    "    plot_parameters = {'cmap': 'gray_r'}\n",
    "    \n",
    "# plot major chord templates\n",
    "libfmp.b.plot_matrix(templates_maj, ax=[ax[0, 0], ax[0, 1]], \n",
    "                     title='Chord templates (major)',\n",
    "                     ylabel='Pitch class', xlabel='Chord',\n",
    "                     colorbar=True, **plot_parameters)\n",
    "ax[0, 0].set_xticks(np.arange(12))\n",
    "ax[0, 0].set_xticklabels(chord_labels_maj)\n",
    "ax[0, 0].set_yticks(np.arange(12))\n",
    "ax[0, 0].set_yticklabels(chroma_labels)\n",
    "\n",
    "# plot minor chord templates\n",
    "libfmp.b.plot_matrix(templates_min, ax=[ax[1, 0], ax[1, 1]], \n",
    "                     title='Chord templates (minor)',\n",
    "                     ylabel='Pitch class', xlabel='Chord',\n",
    "                     colorbar=True, **plot_parameters)\n",
    "ax[1, 0].set_xticks(np.arange(12))\n",
    "ax[1, 0].set_xticklabels(chord_labels_min)\n",
    "ax[1, 0].set_yticks(np.arange(12))\n",
    "ax[1, 0].set_yticklabels(chroma_labels)\n",
    "\n",
    "plt.tight_layout()"
   ]
  },
  {
   "cell_type": "code",
   "execution_count": 24,
   "id": "43680d55-2a4f-4fe0-900a-7a288eeece61",
   "metadata": {
    "ExecuteTime": {
     "end_time": "2025-07-11T19:59:28.445880600Z",
     "start_time": "2025-07-11T19:59:28.432883800Z"
    }
   },
   "outputs": [
    {
     "name": "stdout",
     "output_type": "stream",
     "text": [
      "C major template:\n",
      "   tensor([-0.3208, -1.4194, -1.4194, -1.5098, -0.3804, -1.4377, -1.5078, -0.3320,\n",
      "        -1.4222, -1.4865, -1.5036, -1.4442])\n",
      "\n",
      "C minor template:\n",
      "   tensor([-0.5305, -1.5287, -1.5295, -0.5330, -1.5308, -1.5235, -1.5297, -0.5330,\n",
      "        -1.5316, -1.5236, -1.5216, -1.5322])\n",
      "\n",
      "C minor template:\n",
      "   tensor([-0.5305, -1.5287, -1.5295, -0.5330, -1.5308, -1.5235, -1.5297, -0.5330,\n",
      "        -1.5316, -1.5236, -1.5216, -1.5322])\n"
     ]
    }
   ],
   "source": [
    "print('C major template:\\n   ' + str(weights[0, :]))\n",
    "print('\\nC minor template:\\n   ' + str(weights[1 if weights.shape[0] == 2 else 12, :]))\n",
    "print('\\nC minor template:\\n   ' + str(weights[1 if weights.shape[0] == 2 else 12, :]))"
   ]
  },
  {
   "cell_type": "markdown",
   "id": "7d53586fe934af5b",
   "metadata": {
    "collapsed": false
   },
   "source": [
    "### Test"
   ]
  }
 ],
 "metadata": {
  "kernelspec": {
   "display_name": "Python 3 (ipykernel)",
   "language": "python",
   "name": "python3"
  },
  "language_info": {
   "codemirror_mode": {
    "name": "ipython",
    "version": 3
   },
   "file_extension": ".py",
   "mimetype": "text/x-python",
   "name": "python",
   "nbconvert_exporter": "python",
   "pygments_lexer": "ipython3",
   "version": "3.9.7"
  }
 },
 "nbformat": 4,
 "nbformat_minor": 5
}
