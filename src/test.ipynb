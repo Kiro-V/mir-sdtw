{
 "cells": [
  {
   "cell_type": "markdown",
   "id": "5eed00ca",
   "metadata": {},
   "source": [
    "# Testing SDTW"
   ]
  },
  {
   "cell_type": "code",
   "execution_count": 7,
   "id": "9659de06",
   "metadata": {},
   "outputs": [],
   "source": [
    "import numpy as np\n",
    "import os \n",
    "import torch\n",
    "\n",
    "from lib.nn_losses.soft_dtw_cuda import SoftDTW "
   ]
  },
  {
   "cell_type": "code",
   "execution_count": null,
   "id": "e7c8b54f",
   "metadata": {},
   "outputs": [
    {
     "name": "stdout",
     "output_type": "stream",
     "text": [
      "Loss value: tensor([ 7.1838,  7.8403,  7.7179,  7.1863,  9.6889,  8.8728, 10.1612,  8.1580],\n",
      "       grad_fn=<_SoftDTWBackward>)\n"
     ]
    }
   ],
   "source": [
    "# Initalize random X and y\n",
    "\n",
    "# Create the sequences\n",
    "batch_size, len_x, len_y, dims = 8, 15, 12, 5\n",
    "x = torch.rand((batch_size, len_x, dims), requires_grad=True)\n",
    "y = torch.rand((batch_size, len_y, dims))\n",
    "\n",
    "# Create the \"criterion\" object\n",
    "sdtw = SoftDTW(use_cuda=False, gamma=0.1)\n",
    "\n",
    "# Compute the loss value\n",
    "loss = sdtw(x, y)  # Just like any torch.nn.xyzLoss()\n",
    "print(\"Loss value:\", loss)\n",
    "print(\"Loss mean:\", loss.mean())\n",
    "\n",
    "# Aggregate and call backward()\n",
    "loss.mean().backward()"
   ]
  }
 ],
 "metadata": {
  "kernelspec": {
   "display_name": "sdtw",
   "language": "python",
   "name": "python3"
  },
  "language_info": {
   "codemirror_mode": {
    "name": "ipython",
    "version": 3
   },
   "file_extension": ".py",
   "mimetype": "text/x-python",
   "name": "python",
   "nbconvert_exporter": "python",
   "pygments_lexer": "ipython3",
   "version": "3.12.3"
  }
 },
 "nbformat": 4,
 "nbformat_minor": 5
}
