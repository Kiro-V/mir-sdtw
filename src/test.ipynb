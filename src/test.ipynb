{
 "cells": [
  {
   "cell_type": "markdown",
   "id": "5eed00ca",
   "metadata": {},
   "source": [
    "# Testing SDTW"
   ]
  },
  {
   "cell_type": "code",
   "execution_count": 7,
   "id": "9659de06",
   "metadata": {},
   "outputs": [],
   "source": [
    "import numpy as np\n",
    "import os \n",
    "import torch\n",
    "\n",
    "from lib.nn_losses.soft_dtw_cuda import SoftDTW "
   ]
  },
  {
   "cell_type": "code",
   "execution_count": 10,
   "id": "e7c8b54f",
   "metadata": {},
   "outputs": [
    {
     "name": "stdout",
     "output_type": "stream",
     "text": [
      "Loss value: tensor([10.6885, 10.4932,  8.5466,  8.3611,  9.4817,  9.6336,  8.9355,  8.7443],\n",
      "       grad_fn=<_SoftDTWBackward>)\n",
      "Loss mean: tensor(9.3606, grad_fn=<MeanBackward0>)\n"
     ]
    }
   ],
   "source": [
    "# Initalize random X and y\n",
    "\n",
    "# Create the sequences\n",
    "batch_size, len_x, len_y, dims = 8, 15, 12, 5\n",
    "x = torch.rand((batch_size, len_x, dims), requires_grad=True)\n",
    "y = torch.rand((batch_size, len_y, dims))\n",
    "\n",
    "# Create the \"criterion\" object\n",
    "sdtw = SoftDTW(use_cuda=False, gamma=0.1)\n",
    "\n",
    "# Compute the loss value\n",
    "loss = sdtw(x, y)  # Just like any torch.nn.xyzLoss()\n",
    "print(\"Loss value:\", loss)\n",
    "print(\"Loss mean:\", loss.mean())\n",
    "\n",
    "# Aggregate and call backward()\n",
    "loss.mean().backward()"
   ]
  }
 ],
 "metadata": {
  "kernelspec": {
   "display_name": "sdtw",
   "language": "python",
   "name": "python3"
  },
  "language_info": {
   "codemirror_mode": {
    "name": "ipython",
    "version": 3
   },
   "file_extension": ".py",
   "mimetype": "text/x-python",
   "name": "python",
   "nbconvert_exporter": "python",
   "pygments_lexer": "ipython3",
   "version": "3.12.3"
  }
 },
 "nbformat": 4,
 "nbformat_minor": 5
}
